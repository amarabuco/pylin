{
  "nbformat": 4,
  "nbformat_minor": 0,
  "metadata": {
    "colab": {
      "name": "Algebra Linear - Aula pratica ",
      "provenance": [],
      "collapsed_sections": [
        "jbR734uadSw_",
        "ByG32wm8dX84"
      ],
      "authorship_tag": "ABX9TyPr3Fh6AHLMI7vhsQU6Gx1g",
      "include_colab_link": true
    },
    "kernelspec": {
      "name": "python3",
      "display_name": "Python 3"
    },
    "language_info": {
      "name": "python"
    }
  },
  "cells": [
    {
      "cell_type": "markdown",
      "metadata": {
        "id": "view-in-github",
        "colab_type": "text"
      },
      "source": [
        "<a href=\"https://colab.research.google.com/github/amarabuco/pylin/blob/main/Algebra_Linear_Aula_pratica.ipynb\" target=\"_parent\"><img src=\"https://colab.research.google.com/assets/colab-badge.svg\" alt=\"Open In Colab\"/></a>"
      ]
    },
    {
      "cell_type": "markdown",
      "metadata": {
        "id": "lp2GPbgPQe3-"
      },
      "source": [
        "# Bem vindo a algebra linear - pratica "
      ]
    },
    {
      "cell_type": "markdown",
      "metadata": {
        "id": "G2-_iPNSgWFx"
      },
      "source": [
        "## Conteúdo"
      ]
    },
    {
      "cell_type": "markdown",
      "metadata": {
        "id": "w6SHecXAXt93"
      },
      "source": [
        "Exemplos de representação de dados:\n",
        "1. Características como Vetores\n",
        "2. Imagens como vetores\n",
        "3. Textos como vetores\n",
        "4. Matriz de ratings\n",
        "\n",
        "Variáveis categóricas (one hot encodings)\n",
        "Exemplos\n",
        "\n",
        "Problemas\n",
        "1. Matrizes esparsas\n",
        "* Baixo poder discriminante das variáveis\n",
        "* Formato de dados\n",
        "* Memória\n",
        "2. Relações/correlações entre categorias\n",
        "\n",
        "Dot Product\n",
        "* Similaridade entre vetores\n",
        "\n",
        "KNN\n",
        "\n",
        "MLP\n"
      ]
    },
    {
      "cell_type": "markdown",
      "metadata": {
        "id": "ExTuWvsegXxp"
      },
      "source": [
        "## Ferramentas"
      ]
    },
    {
      "cell_type": "markdown",
      "metadata": {
        "id": "JcbncrawK1pf"
      },
      "source": [
        "<img src=\"https://upload.wikimedia.org/wikipedia/commons/thumb/c/c3/Python-logo-notext.svg/1200px-Python-logo-notext.svg.png\" width=200 height=200 />\n",
        "<img src=\"https://user-images.githubusercontent.com/67586773/105040771-43887300-5a88-11eb-9f01-bee100b9ef22.png\" width=200 height=200 />\n",
        "<img src=\"https://upload.wikimedia.org/wikipedia/commons/b/b2/SCIPY_2.svg\" width=200 height=200 />\n",
        "<img src=\"https://upload.wikimedia.org/wikipedia/commons/thumb/0/05/Scikit_learn_logo_small.svg/2560px-Scikit_learn_logo_small.svg.png\" width=300 height=150 />\n",
        "<img src=\"https://upload.wikimedia.org/wikipedia/commons/thumb/8/84/Matplotlib_icon.svg/1200px-Matplotlib_icon.svg.png\" width=200 height=200 />"
      ]
    },
    {
      "cell_type": "code",
      "metadata": {
        "id": "fpECe1vVi3x3"
      },
      "source": [
        "from IPython.display import YouTubeVideo"
      ],
      "execution_count": null,
      "outputs": []
    },
    {
      "cell_type": "code",
      "metadata": {
        "id": "u9jbZw1Hjysl"
      },
      "source": [
        "import random\n",
        "import sys"
      ],
      "execution_count": null,
      "outputs": []
    },
    {
      "cell_type": "code",
      "metadata": {
        "id": "hVXcEjEoiquC"
      },
      "source": [
        "import numpy as np\n",
        "import scipy as sp\n",
        "import pandas as pd\n",
        "import sklearn\n",
        "import sklearn.datasets\n",
        "import tensorflow as tf"
      ],
      "execution_count": null,
      "outputs": []
    },
    {
      "cell_type": "code",
      "metadata": {
        "id": "7crqlRQDgf5v"
      },
      "source": [
        "import matplotlib.pyplot as plt\n",
        "import seaborn as sns"
      ],
      "execution_count": null,
      "outputs": []
    },
    {
      "cell_type": "markdown",
      "metadata": {
        "id": "Q3pCc6OkQn3S"
      },
      "source": [
        "# Vídeo: A friendly introduction to linear algebra for ML (ML Tech Talks)"
      ]
    },
    {
      "cell_type": "markdown",
      "metadata": {
        "id": "esPttmuUhrde"
      },
      "source": [
        "# Representações de dados"
      ]
    },
    {
      "cell_type": "code",
      "metadata": {
        "colab": {
          "base_uri": "https://localhost:8080/",
          "height": 1000
        },
        "id": "evQYcarcSNhX",
        "outputId": "e6d22af4-55a6-4db6-8951-c3ce5e7ddbe8"
      },
      "source": [
        "YouTubeVideo('LlKAna21fLE',\n",
        "            height=1000, \n",
        "            width=1900, \n",
        "            start=1,\n",
        "            #cc_load_policy=1,\n",
        "            hl='pt')"
      ],
      "execution_count": null,
      "outputs": [
        {
          "output_type": "execute_result",
          "data": {
            "text/html": [
              "\n",
              "        <iframe\n",
              "            width=\"1900\"\n",
              "            height=\"1000\"\n",
              "            src=\"https://www.youtube.com/embed/LlKAna21fLE?start=1&hl=pt\"\n",
              "            frameborder=\"0\"\n",
              "            allowfullscreen\n",
              "        ></iframe>\n",
              "        "
            ],
            "text/plain": [
              "<IPython.lib.display.YouTubeVideo at 0x7faf509fe610>"
            ],
            "image/jpeg": "[encoded data removed]"
          },
          "metadata": {},
          "execution_count": 370
        }
      ]
    },
    {
      "cell_type": "markdown",
      "metadata": {
        "id": "mXsw5JSljVSZ"
      },
      "source": [
        "### Processamento vetorizado"
      ]
    },
    {
      "cell_type": "code",
      "metadata": {
        "colab": {
          "base_uri": "https://localhost:8080/"
        },
        "id": "sj6XsqzWZVPS",
        "outputId": "b4132c17-7a85-4eb0-dd90-8a1f77c0666d"
      },
      "source": [
        "%%time\n",
        "money = [random.randrange(0,100000) for i in range(2000000)]"
      ],
      "execution_count": null,
      "outputs": [
        {
          "output_type": "stream",
          "name": "stdout",
          "text": [
            "CPU times: user 2.6 s, sys: 25.4 ms, total: 2.63 s\n",
            "Wall time: 2.64 s\n"
          ]
        }
      ]
    },
    {
      "cell_type": "code",
      "metadata": {
        "colab": {
          "base_uri": "https://localhost:8080/"
        },
        "id": "0PodOQitaPIX",
        "outputId": "9df85ea8-ac8a-4f00-a928-e0c7dae549a7"
      },
      "source": [
        "%%time\n",
        "money_norm = list()\n",
        "max_money = max(money)\n",
        "for m in money:\n",
        "   money_norm.append(m/max_money)"
      ],
      "execution_count": null,
      "outputs": [
        {
          "output_type": "stream",
          "name": "stdout",
          "text": [
            "CPU times: user 465 ms, sys: 6.41 ms, total: 472 ms\n",
            "Wall time: 475 ms\n"
          ]
        }
      ]
    },
    {
      "cell_type": "code",
      "metadata": {
        "colab": {
          "base_uri": "https://localhost:8080/"
        },
        "id": "_p_NRc_jaArI",
        "outputId": "aad70e0b-0972-4e9b-e477-24cc83cf73e2"
      },
      "source": [
        "%%time\n",
        "moneyv = np.random.randint(0,100000,2000000)"
      ],
      "execution_count": null,
      "outputs": [
        {
          "output_type": "stream",
          "name": "stdout",
          "text": [
            "CPU times: user 89.3 ms, sys: 0 ns, total: 89.3 ms\n",
            "Wall time: 75.1 ms\n"
          ]
        }
      ]
    },
    {
      "cell_type": "code",
      "metadata": {
        "id": "6z2Ad0yDbVZg"
      },
      "source": [
        "moneyv = np.array(money)"
      ],
      "execution_count": null,
      "outputs": []
    },
    {
      "cell_type": "code",
      "metadata": {
        "colab": {
          "base_uri": "https://localhost:8080/"
        },
        "id": "265vylXSabTX",
        "outputId": "407c4f2a-57bb-4fda-d1a2-d4414a59d507"
      },
      "source": [
        "%%time\n",
        "money_normv = moneyv / max_money"
      ],
      "execution_count": null,
      "outputs": [
        {
          "output_type": "stream",
          "name": "stdout",
          "text": [
            "CPU times: user 6.13 ms, sys: 86 µs, total: 6.21 ms\n",
            "Wall time: 6.92 ms\n"
          ]
        }
      ]
    },
    {
      "cell_type": "code",
      "metadata": {
        "colab": {
          "base_uri": "https://localhost:8080/"
        },
        "id": "_9qDl0leKU71",
        "outputId": "2af7ae13-0456-4e73-e9ec-5a08dfc87ba9"
      },
      "source": [
        "moneyv[0:10]"
      ],
      "execution_count": null,
      "outputs": [
        {
          "output_type": "execute_result",
          "data": {
            "text/plain": [
              "array([26861, 53030, 24106, 99870, 83725, 38860, 45771, 68721, 96768,\n",
              "       57967])"
            ]
          },
          "metadata": {},
          "execution_count": 477
        }
      ]
    },
    {
      "cell_type": "code",
      "metadata": {
        "colab": {
          "base_uri": "https://localhost:8080/"
        },
        "id": "r9gOyYuxbSKf",
        "outputId": "15527a72-ac5b-4d62-ca4e-3c0a4aca17a4"
      },
      "source": [
        "print(len(money * 2))\n",
        "print(len(moneyv * 2))"
      ],
      "execution_count": null,
      "outputs": [
        {
          "output_type": "stream",
          "name": "stdout",
          "text": [
            "4000000\n",
            "2000000\n"
          ]
        }
      ]
    },
    {
      "cell_type": "markdown",
      "metadata": {
        "id": "67Ex_yaDY2Kg"
      },
      "source": [
        "### Dados Estruturados\n"
      ]
    },
    {
      "cell_type": "markdown",
      "metadata": {
        "id": "xUPyhxjKZPI_"
      },
      "source": [
        "![title](https://upload.wikimedia.org/wikipedia/commons/thumb/b/b5/Pink_ribbon.svg/100px-Pink_ribbon.svg.png)\n",
        "\n",
        "<font size=16 color='pink'> Outubro Rosa"
      ]
    },
    {
      "cell_type": "markdown",
      "metadata": {
        "id": "PImTCm-1ar4Q"
      },
      "source": [
        "* radius (mean of distances from center to points on the perimeter)\n",
        "* texture (standard deviation of gray-scale values)\n",
        "* perimeter\n",
        "* area\n",
        "* smoothness (local variation in radius lengths)\n",
        "* compactness (perimeter^2 / area - 1.0)\n",
        "* concavity (severity of concave portions of the contour)\n",
        "* concave points (number of concave portions of the contour)\n",
        "* symmetry\n",
        "* fractal dimension (“coastline approximation” - 1)\n",
        "\n",
        "The mean, standard error, and “worst” or largest (mean of the three worst/largest values) of these features were computed for each image, resulting in 30 features. For instance, field 0 is Mean Radius, field 10 is Radius SE, field 20 is Worst Radius.\n",
        "\n",
        "https://scikit-learn.org/stable/datasets/toy_dataset.html#breast-cancer-wisconsin-diagnostic-dataset"
      ]
    },
    {
      "cell_type": "code",
      "metadata": {
        "id": "HRLQonzSY7cq"
      },
      "source": [
        "breasts = sklearn.datasets.load_breast_cancer()"
      ],
      "execution_count": null,
      "outputs": []
    },
    {
      "cell_type": "code",
      "metadata": {
        "colab": {
          "base_uri": "https://localhost:8080/"
        },
        "id": "LqSZRZ3yOwZZ",
        "outputId": "1916c6d1-f5de-4f87-81bd-05025ce2ee9b"
      },
      "source": [
        "breasts.data[0:10]"
      ],
      "execution_count": null,
      "outputs": [
        {
          "output_type": "execute_result",
          "data": {
            "text/plain": [
              "array([[1.799e+01, 1.038e+01, 1.228e+02, 1.001e+03, 1.184e-01, 2.776e-01,\n",
              "        3.001e-01, 1.471e-01, 2.419e-01, 7.871e-02, 1.095e+00, 9.053e-01,\n",
              "        8.589e+00, 1.534e+02, 6.399e-03, 4.904e-02, 5.373e-02, 1.587e-02,\n",
              "        3.003e-02, 6.193e-03, 2.538e+01, 1.733e+01, 1.846e+02, 2.019e+03,\n",
              "        1.622e-01, 6.656e-01, 7.119e-01, 2.654e-01, 4.601e-01, 1.189e-01],\n",
              "       [2.057e+01, 1.777e+01, 1.329e+02, 1.326e+03, 8.474e-02, 7.864e-02,\n",
              "        8.690e-02, 7.017e-02, 1.812e-01, 5.667e-02, 5.435e-01, 7.339e-01,\n",
              "        3.398e+00, 7.408e+01, 5.225e-03, 1.308e-02, 1.860e-02, 1.340e-02,\n",
              "        1.389e-02, 3.532e-03, 2.499e+01, 2.341e+01, 1.588e+02, 1.956e+03,\n",
              "        1.238e-01, 1.866e-01, 2.416e-01, 1.860e-01, 2.750e-01, 8.902e-02],\n",
              "       [1.969e+01, 2.125e+01, 1.300e+02, 1.203e+03, 1.096e-01, 1.599e-01,\n",
              "        1.974e-01, 1.279e-01, 2.069e-01, 5.999e-02, 7.456e-01, 7.869e-01,\n",
              "        4.585e+00, 9.403e+01, 6.150e-03, 4.006e-02, 3.832e-02, 2.058e-02,\n",
              "        2.250e-02, 4.571e-03, 2.357e+01, 2.553e+01, 1.525e+02, 1.709e+03,\n",
              "        1.444e-01, 4.245e-01, 4.504e-01, 2.430e-01, 3.613e-01, 8.758e-02],\n",
              "       [1.142e+01, 2.038e+01, 7.758e+01, 3.861e+02, 1.425e-01, 2.839e-01,\n",
              "        2.414e-01, 1.052e-01, 2.597e-01, 9.744e-02, 4.956e-01, 1.156e+00,\n",
              "        3.445e+00, 2.723e+01, 9.110e-03, 7.458e-02, 5.661e-02, 1.867e-02,\n",
              "        5.963e-02, 9.208e-03, 1.491e+01, 2.650e+01, 9.887e+01, 5.677e+02,\n",
              "        2.098e-01, 8.663e-01, 6.869e-01, 2.575e-01, 6.638e-01, 1.730e-01],\n",
              "       [2.029e+01, 1.434e+01, 1.351e+02, 1.297e+03, 1.003e-01, 1.328e-01,\n",
              "        1.980e-01, 1.043e-01, 1.809e-01, 5.883e-02, 7.572e-01, 7.813e-01,\n",
              "        5.438e+00, 9.444e+01, 1.149e-02, 2.461e-02, 5.688e-02, 1.885e-02,\n",
              "        1.756e-02, 5.115e-03, 2.254e+01, 1.667e+01, 1.522e+02, 1.575e+03,\n",
              "        1.374e-01, 2.050e-01, 4.000e-01, 1.625e-01, 2.364e-01, 7.678e-02],\n",
              "       [1.245e+01, 1.570e+01, 8.257e+01, 4.771e+02, 1.278e-01, 1.700e-01,\n",
              "        1.578e-01, 8.089e-02, 2.087e-01, 7.613e-02, 3.345e-01, 8.902e-01,\n",
              "        2.217e+00, 2.719e+01, 7.510e-03, 3.345e-02, 3.672e-02, 1.137e-02,\n",
              "        2.165e-02, 5.082e-03, 1.547e+01, 2.375e+01, 1.034e+02, 7.416e+02,\n",
              "        1.791e-01, 5.249e-01, 5.355e-01, 1.741e-01, 3.985e-01, 1.244e-01],\n",
              "       [1.825e+01, 1.998e+01, 1.196e+02, 1.040e+03, 9.463e-02, 1.090e-01,\n",
              "        1.127e-01, 7.400e-02, 1.794e-01, 5.742e-02, 4.467e-01, 7.732e-01,\n",
              "        3.180e+00, 5.391e+01, 4.314e-03, 1.382e-02, 2.254e-02, 1.039e-02,\n",
              "        1.369e-02, 2.179e-03, 2.288e+01, 2.766e+01, 1.532e+02, 1.606e+03,\n",
              "        1.442e-01, 2.576e-01, 3.784e-01, 1.932e-01, 3.063e-01, 8.368e-02],\n",
              "       [1.371e+01, 2.083e+01, 9.020e+01, 5.779e+02, 1.189e-01, 1.645e-01,\n",
              "        9.366e-02, 5.985e-02, 2.196e-01, 7.451e-02, 5.835e-01, 1.377e+00,\n",
              "        3.856e+00, 5.096e+01, 8.805e-03, 3.029e-02, 2.488e-02, 1.448e-02,\n",
              "        1.486e-02, 5.412e-03, 1.706e+01, 2.814e+01, 1.106e+02, 8.970e+02,\n",
              "        1.654e-01, 3.682e-01, 2.678e-01, 1.556e-01, 3.196e-01, 1.151e-01],\n",
              "       [1.300e+01, 2.182e+01, 8.750e+01, 5.198e+02, 1.273e-01, 1.932e-01,\n",
              "        1.859e-01, 9.353e-02, 2.350e-01, 7.389e-02, 3.063e-01, 1.002e+00,\n",
              "        2.406e+00, 2.432e+01, 5.731e-03, 3.502e-02, 3.553e-02, 1.226e-02,\n",
              "        2.143e-02, 3.749e-03, 1.549e+01, 3.073e+01, 1.062e+02, 7.393e+02,\n",
              "        1.703e-01, 5.401e-01, 5.390e-01, 2.060e-01, 4.378e-01, 1.072e-01],\n",
              "       [1.246e+01, 2.404e+01, 8.397e+01, 4.759e+02, 1.186e-01, 2.396e-01,\n",
              "        2.273e-01, 8.543e-02, 2.030e-01, 8.243e-02, 2.976e-01, 1.599e+00,\n",
              "        2.039e+00, 2.394e+01, 7.149e-03, 7.217e-02, 7.743e-02, 1.432e-02,\n",
              "        1.789e-02, 1.008e-02, 1.509e+01, 4.068e+01, 9.765e+01, 7.114e+02,\n",
              "        1.853e-01, 1.058e+00, 1.105e+00, 2.210e-01, 4.366e-01, 2.075e-01]])"
            ]
          },
          "metadata": {},
          "execution_count": 479
        }
      ]
    },
    {
      "cell_type": "code",
      "metadata": {
        "colab": {
          "base_uri": "https://localhost:8080/"
        },
        "id": "lZJOEh-tbjhA",
        "outputId": "4283643c-2f8d-4707-d38b-1e7f69528a45"
      },
      "source": [
        "dir(breasts)"
      ],
      "execution_count": null,
      "outputs": [
        {
          "output_type": "execute_result",
          "data": {
            "text/plain": [
              "['DESCR', 'data', 'feature_names', 'filename', 'target', 'target_names']"
            ]
          },
          "metadata": {},
          "execution_count": 378
        }
      ]
    },
    {
      "cell_type": "code",
      "metadata": {
        "id": "mqUc1wSdbvDR",
        "colab": {
          "base_uri": "https://localhost:8080/"
        },
        "outputId": "57e46a0b-9bc0-452b-f5fd-ef5137277051"
      },
      "source": [
        "print(breasts.DESCR)"
      ],
      "execution_count": null,
      "outputs": [
        {
          "output_type": "stream",
          "name": "stdout",
          "text": [
            ".. _breast_cancer_dataset:\n",
            "\n",
            "Breast cancer wisconsin (diagnostic) dataset\n",
            "--------------------------------------------\n",
            "\n",
            "**Data Set Characteristics:**\n",
            "\n",
            "    :Number of Instances: 569\n",
            "\n",
            "    :Number of Attributes: 30 numeric, predictive attributes and the class\n",
            "\n",
            "    :Attribute Information:\n",
            "        - radius (mean of distances from center to points on the perimeter)\n",
            "        - texture (standard deviation of gray-scale values)\n",
            "        - perimeter\n",
            "        - area\n",
            "        - smoothness (local variation in radius lengths)\n",
            "        - compactness (perimeter^2 / area - 1.0)\n",
            "        - concavity (severity of concave portions of the contour)\n",
            "        - concave points (number of concave portions of the contour)\n",
            "        - symmetry \n",
            "        - fractal dimension (\"coastline approximation\" - 1)\n",
            "\n",
            "        The mean, standard error, and \"worst\" or largest (mean of the three\n",
            "        largest values) of these features were computed for each image,\n",
            "        resulting in 30 features.  For instance, field 3 is Mean Radius, field\n",
            "        13 is Radius SE, field 23 is Worst Radius.\n",
            "\n",
            "        - class:\n",
            "                - WDBC-Malignant\n",
            "                - WDBC-Benign\n",
            "\n",
            "    :Summary Statistics:\n",
            "\n",
            "    ===================================== ====== ======\n",
            "                                           Min    Max\n",
            "    ===================================== ====== ======\n",
            "    radius (mean):                        6.981  28.11\n",
            "    texture (mean):                       9.71   39.28\n",
            "    perimeter (mean):                     43.79  188.5\n",
            "    area (mean):                          143.5  2501.0\n",
            "    smoothness (mean):                    0.053  0.163\n",
            "    compactness (mean):                   0.019  0.345\n",
            "    concavity (mean):                     0.0    0.427\n",
            "    concave points (mean):                0.0    0.201\n",
            "    symmetry (mean):                      0.106  0.304\n",
            "    fractal dimension (mean):             0.05   0.097\n",
            "    radius (standard error):              0.112  2.873\n",
            "    texture (standard error):             0.36   4.885\n",
            "    perimeter (standard error):           0.757  21.98\n",
            "    area (standard error):                6.802  542.2\n",
            "    smoothness (standard error):          0.002  0.031\n",
            "    compactness (standard error):         0.002  0.135\n",
            "    concavity (standard error):           0.0    0.396\n",
            "    concave points (standard error):      0.0    0.053\n",
            "    symmetry (standard error):            0.008  0.079\n",
            "    fractal dimension (standard error):   0.001  0.03\n",
            "    radius (worst):                       7.93   36.04\n",
            "    texture (worst):                      12.02  49.54\n",
            "    perimeter (worst):                    50.41  251.2\n",
            "    area (worst):                         185.2  4254.0\n",
            "    smoothness (worst):                   0.071  0.223\n",
            "    compactness (worst):                  0.027  1.058\n",
            "    concavity (worst):                    0.0    1.252\n",
            "    concave points (worst):               0.0    0.291\n",
            "    symmetry (worst):                     0.156  0.664\n",
            "    fractal dimension (worst):            0.055  0.208\n",
            "    ===================================== ====== ======\n",
            "\n",
            "    :Missing Attribute Values: None\n",
            "\n",
            "    :Class Distribution: 212 - Malignant, 357 - Benign\n",
            "\n",
            "    :Creator:  Dr. William H. Wolberg, W. Nick Street, Olvi L. Mangasarian\n",
            "\n",
            "    :Donor: Nick Street\n",
            "\n",
            "    :Date: November, 1995\n",
            "\n",
            "This is a copy of UCI ML Breast Cancer Wisconsin (Diagnostic) datasets.\n",
            "https://goo.gl/U2Uwz2\n",
            "\n",
            "Features are computed from a digitized image of a fine needle\n",
            "aspirate (FNA) of a breast mass.  They describe\n",
            "characteristics of the cell nuclei present in the image.\n",
            "\n",
            "Separating plane described above was obtained using\n",
            "Multisurface Method-Tree (MSM-T) [K. P. Bennett, \"Decision Tree\n",
            "Construction Via Linear Programming.\" Proceedings of the 4th\n",
            "Midwest Artificial Intelligence and Cognitive Science Society,\n",
            "pp. 97-101, 1992], a classification method which uses linear\n",
            "programming to construct a decision tree.  Relevant features\n",
            "were selected using an exhaustive search in the space of 1-4\n",
            "features and 1-3 separating planes.\n",
            "\n",
            "The actual linear program used to obtain the separating plane\n",
            "in the 3-dimensional space is that described in:\n",
            "[K. P. Bennett and O. L. Mangasarian: \"Robust Linear\n",
            "Programming Discrimination of Two Linearly Inseparable Sets\",\n",
            "Optimization Methods and Software 1, 1992, 23-34].\n",
            "\n",
            "This database is also available through the UW CS ftp server:\n",
            "\n",
            "ftp ftp.cs.wisc.edu\n",
            "cd math-prog/cpo-dataset/machine-learn/WDBC/\n",
            "\n",
            ".. topic:: References\n",
            "\n",
            "   - W.N. Street, W.H. Wolberg and O.L. Mangasarian. Nuclear feature extraction \n",
            "     for breast tumor diagnosis. IS&T/SPIE 1993 International Symposium on \n",
            "     Electronic Imaging: Science and Technology, volume 1905, pages 861-870,\n",
            "     San Jose, CA, 1993.\n",
            "   - O.L. Mangasarian, W.N. Street and W.H. Wolberg. Breast cancer diagnosis and \n",
            "     prognosis via linear programming. Operations Research, 43(4), pages 570-577, \n",
            "     July-August 1995.\n",
            "   - W.H. Wolberg, W.N. Street, and O.L. Mangasarian. Machine learning techniques\n",
            "     to diagnose breast cancer from fine-needle aspirates. Cancer Letters 77 (1994) \n",
            "     163-171.\n"
          ]
        }
      ]
    },
    {
      "cell_type": "code",
      "metadata": {
        "colab": {
          "base_uri": "https://localhost:8080/"
        },
        "id": "05s0VuBIa7_0",
        "outputId": "3d06f0d0-6f8c-49e5-c70e-69bdf780e807"
      },
      "source": [
        "pd.Series(breasts.target).value_counts().set_axis(breasts.target_names)"
      ],
      "execution_count": null,
      "outputs": [
        {
          "output_type": "execute_result",
          "data": {
            "text/plain": [
              "malignant    357\n",
              "benign       212\n",
              "dtype: int64"
            ]
          },
          "metadata": {},
          "execution_count": 380
        }
      ]
    },
    {
      "cell_type": "code",
      "metadata": {
        "colab": {
          "base_uri": "https://localhost:8080/"
        },
        "id": "421e5rwTeKDe",
        "outputId": "79337296-3b4a-40de-da5f-0d3379b4489d"
      },
      "source": [
        "breasts.feature_names"
      ],
      "execution_count": null,
      "outputs": [
        {
          "output_type": "execute_result",
          "data": {
            "text/plain": [
              "array(['mean radius', 'mean texture', 'mean perimeter', 'mean area',\n",
              "       'mean smoothness', 'mean compactness', 'mean concavity',\n",
              "       'mean concave points', 'mean symmetry', 'mean fractal dimension',\n",
              "       'radius error', 'texture error', 'perimeter error', 'area error',\n",
              "       'smoothness error', 'compactness error', 'concavity error',\n",
              "       'concave points error', 'symmetry error',\n",
              "       'fractal dimension error', 'worst radius', 'worst texture',\n",
              "       'worst perimeter', 'worst area', 'worst smoothness',\n",
              "       'worst compactness', 'worst concavity', 'worst concave points',\n",
              "       'worst symmetry', 'worst fractal dimension'], dtype='<U23')"
            ]
          },
          "metadata": {},
          "execution_count": 381
        }
      ]
    },
    {
      "cell_type": "code",
      "metadata": {
        "colab": {
          "base_uri": "https://localhost:8080/",
          "height": 478
        },
        "id": "sPgtpC8vc0In",
        "outputId": "258f7192-9c46-45bb-d856-e58409cee7e6"
      },
      "source": [
        "df = pd.DataFrame(breasts.data)\n",
        "df.columns = breasts.feature_names\n",
        "df"
      ],
      "execution_count": null,
      "outputs": [
        {
          "output_type": "execute_result",
          "data": {
            "text/html": [
              "<div>\n",
              "<style scoped>\n",
              "    .dataframe tbody tr th:only-of-type {\n",
              "        vertical-align: middle;\n",
              "    }\n",
              "\n",
              "    .dataframe tbody tr th {\n",
              "        vertical-align: top;\n",
              "    }\n",
              "\n",
              "    .dataframe thead th {\n",
              "        text-align: right;\n",
              "    }\n",
              "</style>\n",
              "<table border=\"1\" class=\"dataframe\">\n",
              "  <thead>\n",
              "    <tr style=\"text-align: right;\">\n",
              "      <th></th>\n",
              "      <th>mean radius</th>\n",
              "      <th>mean texture</th>\n",
              "      <th>mean perimeter</th>\n",
              "      <th>mean area</th>\n",
              "      <th>mean smoothness</th>\n",
              "      <th>mean compactness</th>\n",
              "      <th>mean concavity</th>\n",
              "      <th>mean concave points</th>\n",
              "      <th>mean symmetry</th>\n",
              "      <th>mean fractal dimension</th>\n",
              "      <th>radius error</th>\n",
              "      <th>texture error</th>\n",
              "      <th>perimeter error</th>\n",
              "      <th>area error</th>\n",
              "      <th>smoothness error</th>\n",
              "      <th>compactness error</th>\n",
              "      <th>concavity error</th>\n",
              "      <th>concave points error</th>\n",
              "      <th>symmetry error</th>\n",
              "      <th>fractal dimension error</th>\n",
              "      <th>worst radius</th>\n",
              "      <th>worst texture</th>\n",
              "      <th>worst perimeter</th>\n",
              "      <th>worst area</th>\n",
              "      <th>worst smoothness</th>\n",
              "      <th>worst compactness</th>\n",
              "      <th>worst concavity</th>\n",
              "      <th>worst concave points</th>\n",
              "      <th>worst symmetry</th>\n",
              "      <th>worst fractal dimension</th>\n",
              "    </tr>\n",
              "  </thead>\n",
              "  <tbody>\n",
              "    <tr>\n",
              "      <th>0</th>\n",
              "      <td>17.99</td>\n",
              "      <td>10.38</td>\n",
              "      <td>122.80</td>\n",
              "      <td>1001.0</td>\n",
              "      <td>0.11840</td>\n",
              "      <td>0.27760</td>\n",
              "      <td>0.30010</td>\n",
              "      <td>0.14710</td>\n",
              "      <td>0.2419</td>\n",
              "      <td>0.07871</td>\n",
              "      <td>1.0950</td>\n",
              "      <td>0.9053</td>\n",
              "      <td>8.589</td>\n",
              "      <td>153.40</td>\n",
              "      <td>0.006399</td>\n",
              "      <td>0.04904</td>\n",
              "      <td>0.05373</td>\n",
              "      <td>0.01587</td>\n",
              "      <td>0.03003</td>\n",
              "      <td>0.006193</td>\n",
              "      <td>25.380</td>\n",
              "      <td>17.33</td>\n",
              "      <td>184.60</td>\n",
              "      <td>2019.0</td>\n",
              "      <td>0.16220</td>\n",
              "      <td>0.66560</td>\n",
              "      <td>0.7119</td>\n",
              "      <td>0.2654</td>\n",
              "      <td>0.4601</td>\n",
              "      <td>0.11890</td>\n",
              "    </tr>\n",
              "    <tr>\n",
              "      <th>1</th>\n",
              "      <td>20.57</td>\n",
              "      <td>17.77</td>\n",
              "      <td>132.90</td>\n",
              "      <td>1326.0</td>\n",
              "      <td>0.08474</td>\n",
              "      <td>0.07864</td>\n",
              "      <td>0.08690</td>\n",
              "      <td>0.07017</td>\n",
              "      <td>0.1812</td>\n",
              "      <td>0.05667</td>\n",
              "      <td>0.5435</td>\n",
              "      <td>0.7339</td>\n",
              "      <td>3.398</td>\n",
              "      <td>74.08</td>\n",
              "      <td>0.005225</td>\n",
              "      <td>0.01308</td>\n",
              "      <td>0.01860</td>\n",
              "      <td>0.01340</td>\n",
              "      <td>0.01389</td>\n",
              "      <td>0.003532</td>\n",
              "      <td>24.990</td>\n",
              "      <td>23.41</td>\n",
              "      <td>158.80</td>\n",
              "      <td>1956.0</td>\n",
              "      <td>0.12380</td>\n",
              "      <td>0.18660</td>\n",
              "      <td>0.2416</td>\n",
              "      <td>0.1860</td>\n",
              "      <td>0.2750</td>\n",
              "      <td>0.08902</td>\n",
              "    </tr>\n",
              "    <tr>\n",
              "      <th>2</th>\n",
              "      <td>19.69</td>\n",
              "      <td>21.25</td>\n",
              "      <td>130.00</td>\n",
              "      <td>1203.0</td>\n",
              "      <td>0.10960</td>\n",
              "      <td>0.15990</td>\n",
              "      <td>0.19740</td>\n",
              "      <td>0.12790</td>\n",
              "      <td>0.2069</td>\n",
              "      <td>0.05999</td>\n",
              "      <td>0.7456</td>\n",
              "      <td>0.7869</td>\n",
              "      <td>4.585</td>\n",
              "      <td>94.03</td>\n",
              "      <td>0.006150</td>\n",
              "      <td>0.04006</td>\n",
              "      <td>0.03832</td>\n",
              "      <td>0.02058</td>\n",
              "      <td>0.02250</td>\n",
              "      <td>0.004571</td>\n",
              "      <td>23.570</td>\n",
              "      <td>25.53</td>\n",
              "      <td>152.50</td>\n",
              "      <td>1709.0</td>\n",
              "      <td>0.14440</td>\n",
              "      <td>0.42450</td>\n",
              "      <td>0.4504</td>\n",
              "      <td>0.2430</td>\n",
              "      <td>0.3613</td>\n",
              "      <td>0.08758</td>\n",
              "    </tr>\n",
              "    <tr>\n",
              "      <th>3</th>\n",
              "      <td>11.42</td>\n",
              "      <td>20.38</td>\n",
              "      <td>77.58</td>\n",
              "      <td>386.1</td>\n",
              "      <td>0.14250</td>\n",
              "      <td>0.28390</td>\n",
              "      <td>0.24140</td>\n",
              "      <td>0.10520</td>\n",
              "      <td>0.2597</td>\n",
              "      <td>0.09744</td>\n",
              "      <td>0.4956</td>\n",
              "      <td>1.1560</td>\n",
              "      <td>3.445</td>\n",
              "      <td>27.23</td>\n",
              "      <td>0.009110</td>\n",
              "      <td>0.07458</td>\n",
              "      <td>0.05661</td>\n",
              "      <td>0.01867</td>\n",
              "      <td>0.05963</td>\n",
              "      <td>0.009208</td>\n",
              "      <td>14.910</td>\n",
              "      <td>26.50</td>\n",
              "      <td>98.87</td>\n",
              "      <td>567.7</td>\n",
              "      <td>0.20980</td>\n",
              "      <td>0.86630</td>\n",
              "      <td>0.6869</td>\n",
              "      <td>0.2575</td>\n",
              "      <td>0.6638</td>\n",
              "      <td>0.17300</td>\n",
              "    </tr>\n",
              "    <tr>\n",
              "      <th>4</th>\n",
              "      <td>20.29</td>\n",
              "      <td>14.34</td>\n",
              "      <td>135.10</td>\n",
              "      <td>1297.0</td>\n",
              "      <td>0.10030</td>\n",
              "      <td>0.13280</td>\n",
              "      <td>0.19800</td>\n",
              "      <td>0.10430</td>\n",
              "      <td>0.1809</td>\n",
              "      <td>0.05883</td>\n",
              "      <td>0.7572</td>\n",
              "      <td>0.7813</td>\n",
              "      <td>5.438</td>\n",
              "      <td>94.44</td>\n",
              "      <td>0.011490</td>\n",
              "      <td>0.02461</td>\n",
              "      <td>0.05688</td>\n",
              "      <td>0.01885</td>\n",
              "      <td>0.01756</td>\n",
              "      <td>0.005115</td>\n",
              "      <td>22.540</td>\n",
              "      <td>16.67</td>\n",
              "      <td>152.20</td>\n",
              "      <td>1575.0</td>\n",
              "      <td>0.13740</td>\n",
              "      <td>0.20500</td>\n",
              "      <td>0.4000</td>\n",
              "      <td>0.1625</td>\n",
              "      <td>0.2364</td>\n",
              "      <td>0.07678</td>\n",
              "    </tr>\n",
              "    <tr>\n",
              "      <th>...</th>\n",
              "      <td>...</td>\n",
              "      <td>...</td>\n",
              "      <td>...</td>\n",
              "      <td>...</td>\n",
              "      <td>...</td>\n",
              "      <td>...</td>\n",
              "      <td>...</td>\n",
              "      <td>...</td>\n",
              "      <td>...</td>\n",
              "      <td>...</td>\n",
              "      <td>...</td>\n",
              "      <td>...</td>\n",
              "      <td>...</td>\n",
              "      <td>...</td>\n",
              "      <td>...</td>\n",
              "      <td>...</td>\n",
              "      <td>...</td>\n",
              "      <td>...</td>\n",
              "      <td>...</td>\n",
              "      <td>...</td>\n",
              "      <td>...</td>\n",
              "      <td>...</td>\n",
              "      <td>...</td>\n",
              "      <td>...</td>\n",
              "      <td>...</td>\n",
              "      <td>...</td>\n",
              "      <td>...</td>\n",
              "      <td>...</td>\n",
              "      <td>...</td>\n",
              "      <td>...</td>\n",
              "    </tr>\n",
              "    <tr>\n",
              "      <th>564</th>\n",
              "      <td>21.56</td>\n",
              "      <td>22.39</td>\n",
              "      <td>142.00</td>\n",
              "      <td>1479.0</td>\n",
              "      <td>0.11100</td>\n",
              "      <td>0.11590</td>\n",
              "      <td>0.24390</td>\n",
              "      <td>0.13890</td>\n",
              "      <td>0.1726</td>\n",
              "      <td>0.05623</td>\n",
              "      <td>1.1760</td>\n",
              "      <td>1.2560</td>\n",
              "      <td>7.673</td>\n",
              "      <td>158.70</td>\n",
              "      <td>0.010300</td>\n",
              "      <td>0.02891</td>\n",
              "      <td>0.05198</td>\n",
              "      <td>0.02454</td>\n",
              "      <td>0.01114</td>\n",
              "      <td>0.004239</td>\n",
              "      <td>25.450</td>\n",
              "      <td>26.40</td>\n",
              "      <td>166.10</td>\n",
              "      <td>2027.0</td>\n",
              "      <td>0.14100</td>\n",
              "      <td>0.21130</td>\n",
              "      <td>0.4107</td>\n",
              "      <td>0.2216</td>\n",
              "      <td>0.2060</td>\n",
              "      <td>0.07115</td>\n",
              "    </tr>\n",
              "    <tr>\n",
              "      <th>565</th>\n",
              "      <td>20.13</td>\n",
              "      <td>28.25</td>\n",
              "      <td>131.20</td>\n",
              "      <td>1261.0</td>\n",
              "      <td>0.09780</td>\n",
              "      <td>0.10340</td>\n",
              "      <td>0.14400</td>\n",
              "      <td>0.09791</td>\n",
              "      <td>0.1752</td>\n",
              "      <td>0.05533</td>\n",
              "      <td>0.7655</td>\n",
              "      <td>2.4630</td>\n",
              "      <td>5.203</td>\n",
              "      <td>99.04</td>\n",
              "      <td>0.005769</td>\n",
              "      <td>0.02423</td>\n",
              "      <td>0.03950</td>\n",
              "      <td>0.01678</td>\n",
              "      <td>0.01898</td>\n",
              "      <td>0.002498</td>\n",
              "      <td>23.690</td>\n",
              "      <td>38.25</td>\n",
              "      <td>155.00</td>\n",
              "      <td>1731.0</td>\n",
              "      <td>0.11660</td>\n",
              "      <td>0.19220</td>\n",
              "      <td>0.3215</td>\n",
              "      <td>0.1628</td>\n",
              "      <td>0.2572</td>\n",
              "      <td>0.06637</td>\n",
              "    </tr>\n",
              "    <tr>\n",
              "      <th>566</th>\n",
              "      <td>16.60</td>\n",
              "      <td>28.08</td>\n",
              "      <td>108.30</td>\n",
              "      <td>858.1</td>\n",
              "      <td>0.08455</td>\n",
              "      <td>0.10230</td>\n",
              "      <td>0.09251</td>\n",
              "      <td>0.05302</td>\n",
              "      <td>0.1590</td>\n",
              "      <td>0.05648</td>\n",
              "      <td>0.4564</td>\n",
              "      <td>1.0750</td>\n",
              "      <td>3.425</td>\n",
              "      <td>48.55</td>\n",
              "      <td>0.005903</td>\n",
              "      <td>0.03731</td>\n",
              "      <td>0.04730</td>\n",
              "      <td>0.01557</td>\n",
              "      <td>0.01318</td>\n",
              "      <td>0.003892</td>\n",
              "      <td>18.980</td>\n",
              "      <td>34.12</td>\n",
              "      <td>126.70</td>\n",
              "      <td>1124.0</td>\n",
              "      <td>0.11390</td>\n",
              "      <td>0.30940</td>\n",
              "      <td>0.3403</td>\n",
              "      <td>0.1418</td>\n",
              "      <td>0.2218</td>\n",
              "      <td>0.07820</td>\n",
              "    </tr>\n",
              "    <tr>\n",
              "      <th>567</th>\n",
              "      <td>20.60</td>\n",
              "      <td>29.33</td>\n",
              "      <td>140.10</td>\n",
              "      <td>1265.0</td>\n",
              "      <td>0.11780</td>\n",
              "      <td>0.27700</td>\n",
              "      <td>0.35140</td>\n",
              "      <td>0.15200</td>\n",
              "      <td>0.2397</td>\n",
              "      <td>0.07016</td>\n",
              "      <td>0.7260</td>\n",
              "      <td>1.5950</td>\n",
              "      <td>5.772</td>\n",
              "      <td>86.22</td>\n",
              "      <td>0.006522</td>\n",
              "      <td>0.06158</td>\n",
              "      <td>0.07117</td>\n",
              "      <td>0.01664</td>\n",
              "      <td>0.02324</td>\n",
              "      <td>0.006185</td>\n",
              "      <td>25.740</td>\n",
              "      <td>39.42</td>\n",
              "      <td>184.60</td>\n",
              "      <td>1821.0</td>\n",
              "      <td>0.16500</td>\n",
              "      <td>0.86810</td>\n",
              "      <td>0.9387</td>\n",
              "      <td>0.2650</td>\n",
              "      <td>0.4087</td>\n",
              "      <td>0.12400</td>\n",
              "    </tr>\n",
              "    <tr>\n",
              "      <th>568</th>\n",
              "      <td>7.76</td>\n",
              "      <td>24.54</td>\n",
              "      <td>47.92</td>\n",
              "      <td>181.0</td>\n",
              "      <td>0.05263</td>\n",
              "      <td>0.04362</td>\n",
              "      <td>0.00000</td>\n",
              "      <td>0.00000</td>\n",
              "      <td>0.1587</td>\n",
              "      <td>0.05884</td>\n",
              "      <td>0.3857</td>\n",
              "      <td>1.4280</td>\n",
              "      <td>2.548</td>\n",
              "      <td>19.15</td>\n",
              "      <td>0.007189</td>\n",
              "      <td>0.00466</td>\n",
              "      <td>0.00000</td>\n",
              "      <td>0.00000</td>\n",
              "      <td>0.02676</td>\n",
              "      <td>0.002783</td>\n",
              "      <td>9.456</td>\n",
              "      <td>30.37</td>\n",
              "      <td>59.16</td>\n",
              "      <td>268.6</td>\n",
              "      <td>0.08996</td>\n",
              "      <td>0.06444</td>\n",
              "      <td>0.0000</td>\n",
              "      <td>0.0000</td>\n",
              "      <td>0.2871</td>\n",
              "      <td>0.07039</td>\n",
              "    </tr>\n",
              "  </tbody>\n",
              "</table>\n",
              "<p>569 rows × 30 columns</p>\n",
              "</div>"
            ],
            "text/plain": [
              "     mean radius  mean texture  ...  worst symmetry  worst fractal dimension\n",
              "0          17.99         10.38  ...          0.4601                  0.11890\n",
              "1          20.57         17.77  ...          0.2750                  0.08902\n",
              "2          19.69         21.25  ...          0.3613                  0.08758\n",
              "3          11.42         20.38  ...          0.6638                  0.17300\n",
              "4          20.29         14.34  ...          0.2364                  0.07678\n",
              "..           ...           ...  ...             ...                      ...\n",
              "564        21.56         22.39  ...          0.2060                  0.07115\n",
              "565        20.13         28.25  ...          0.2572                  0.06637\n",
              "566        16.60         28.08  ...          0.2218                  0.07820\n",
              "567        20.60         29.33  ...          0.4087                  0.12400\n",
              "568         7.76         24.54  ...          0.2871                  0.07039\n",
              "\n",
              "[569 rows x 30 columns]"
            ]
          },
          "metadata": {},
          "execution_count": 382
        }
      ]
    },
    {
      "cell_type": "code",
      "metadata": {
        "id": "iOS0ZGbocB0R"
      },
      "source": [
        "df = pd.DataFrame.from_records(breasts.data, columns=breasts.feature_names)\n",
        "#df"
      ],
      "execution_count": null,
      "outputs": []
    },
    {
      "cell_type": "code",
      "metadata": {
        "colab": {
          "base_uri": "https://localhost:8080/",
          "height": 355
        },
        "id": "beAqVcqQd5Bq",
        "outputId": "fb1b4207-4434-4e9b-eb6b-fd0b8e77f887"
      },
      "source": [
        "df.describe()"
      ],
      "execution_count": null,
      "outputs": [
        {
          "output_type": "execute_result",
          "data": {
            "text/html": [
              "<div>\n",
              "<style scoped>\n",
              "    .dataframe tbody tr th:only-of-type {\n",
              "        vertical-align: middle;\n",
              "    }\n",
              "\n",
              "    .dataframe tbody tr th {\n",
              "        vertical-align: top;\n",
              "    }\n",
              "\n",
              "    .dataframe thead th {\n",
              "        text-align: right;\n",
              "    }\n",
              "</style>\n",
              "<table border=\"1\" class=\"dataframe\">\n",
              "  <thead>\n",
              "    <tr style=\"text-align: right;\">\n",
              "      <th></th>\n",
              "      <th>mean radius</th>\n",
              "      <th>mean texture</th>\n",
              "      <th>mean perimeter</th>\n",
              "      <th>mean area</th>\n",
              "      <th>mean smoothness</th>\n",
              "      <th>mean compactness</th>\n",
              "      <th>mean concavity</th>\n",
              "      <th>mean concave points</th>\n",
              "      <th>mean symmetry</th>\n",
              "      <th>mean fractal dimension</th>\n",
              "      <th>radius error</th>\n",
              "      <th>texture error</th>\n",
              "      <th>perimeter error</th>\n",
              "      <th>area error</th>\n",
              "      <th>smoothness error</th>\n",
              "      <th>compactness error</th>\n",
              "      <th>concavity error</th>\n",
              "      <th>concave points error</th>\n",
              "      <th>symmetry error</th>\n",
              "      <th>fractal dimension error</th>\n",
              "      <th>worst radius</th>\n",
              "      <th>worst texture</th>\n",
              "      <th>worst perimeter</th>\n",
              "      <th>worst area</th>\n",
              "      <th>worst smoothness</th>\n",
              "      <th>worst compactness</th>\n",
              "      <th>worst concavity</th>\n",
              "      <th>worst concave points</th>\n",
              "      <th>worst symmetry</th>\n",
              "      <th>worst fractal dimension</th>\n",
              "    </tr>\n",
              "  </thead>\n",
              "  <tbody>\n",
              "    <tr>\n",
              "      <th>count</th>\n",
              "      <td>569.000000</td>\n",
              "      <td>569.000000</td>\n",
              "      <td>569.000000</td>\n",
              "      <td>569.000000</td>\n",
              "      <td>569.000000</td>\n",
              "      <td>569.000000</td>\n",
              "      <td>569.000000</td>\n",
              "      <td>569.000000</td>\n",
              "      <td>569.000000</td>\n",
              "      <td>569.000000</td>\n",
              "      <td>569.000000</td>\n",
              "      <td>569.000000</td>\n",
              "      <td>569.000000</td>\n",
              "      <td>569.000000</td>\n",
              "      <td>569.000000</td>\n",
              "      <td>569.000000</td>\n",
              "      <td>569.000000</td>\n",
              "      <td>569.000000</td>\n",
              "      <td>569.000000</td>\n",
              "      <td>569.000000</td>\n",
              "      <td>569.000000</td>\n",
              "      <td>569.000000</td>\n",
              "      <td>569.000000</td>\n",
              "      <td>569.000000</td>\n",
              "      <td>569.000000</td>\n",
              "      <td>569.000000</td>\n",
              "      <td>569.000000</td>\n",
              "      <td>569.000000</td>\n",
              "      <td>569.000000</td>\n",
              "      <td>569.000000</td>\n",
              "    </tr>\n",
              "    <tr>\n",
              "      <th>mean</th>\n",
              "      <td>14.127292</td>\n",
              "      <td>19.289649</td>\n",
              "      <td>91.969033</td>\n",
              "      <td>654.889104</td>\n",
              "      <td>0.096360</td>\n",
              "      <td>0.104341</td>\n",
              "      <td>0.088799</td>\n",
              "      <td>0.048919</td>\n",
              "      <td>0.181162</td>\n",
              "      <td>0.062798</td>\n",
              "      <td>0.405172</td>\n",
              "      <td>1.216853</td>\n",
              "      <td>2.866059</td>\n",
              "      <td>40.337079</td>\n",
              "      <td>0.007041</td>\n",
              "      <td>0.025478</td>\n",
              "      <td>0.031894</td>\n",
              "      <td>0.011796</td>\n",
              "      <td>0.020542</td>\n",
              "      <td>0.003795</td>\n",
              "      <td>16.269190</td>\n",
              "      <td>25.677223</td>\n",
              "      <td>107.261213</td>\n",
              "      <td>880.583128</td>\n",
              "      <td>0.132369</td>\n",
              "      <td>0.254265</td>\n",
              "      <td>0.272188</td>\n",
              "      <td>0.114606</td>\n",
              "      <td>0.290076</td>\n",
              "      <td>0.083946</td>\n",
              "    </tr>\n",
              "    <tr>\n",
              "      <th>std</th>\n",
              "      <td>3.524049</td>\n",
              "      <td>4.301036</td>\n",
              "      <td>24.298981</td>\n",
              "      <td>351.914129</td>\n",
              "      <td>0.014064</td>\n",
              "      <td>0.052813</td>\n",
              "      <td>0.079720</td>\n",
              "      <td>0.038803</td>\n",
              "      <td>0.027414</td>\n",
              "      <td>0.007060</td>\n",
              "      <td>0.277313</td>\n",
              "      <td>0.551648</td>\n",
              "      <td>2.021855</td>\n",
              "      <td>45.491006</td>\n",
              "      <td>0.003003</td>\n",
              "      <td>0.017908</td>\n",
              "      <td>0.030186</td>\n",
              "      <td>0.006170</td>\n",
              "      <td>0.008266</td>\n",
              "      <td>0.002646</td>\n",
              "      <td>4.833242</td>\n",
              "      <td>6.146258</td>\n",
              "      <td>33.602542</td>\n",
              "      <td>569.356993</td>\n",
              "      <td>0.022832</td>\n",
              "      <td>0.157336</td>\n",
              "      <td>0.208624</td>\n",
              "      <td>0.065732</td>\n",
              "      <td>0.061867</td>\n",
              "      <td>0.018061</td>\n",
              "    </tr>\n",
              "    <tr>\n",
              "      <th>min</th>\n",
              "      <td>6.981000</td>\n",
              "      <td>9.710000</td>\n",
              "      <td>43.790000</td>\n",
              "      <td>143.500000</td>\n",
              "      <td>0.052630</td>\n",
              "      <td>0.019380</td>\n",
              "      <td>0.000000</td>\n",
              "      <td>0.000000</td>\n",
              "      <td>0.106000</td>\n",
              "      <td>0.049960</td>\n",
              "      <td>0.111500</td>\n",
              "      <td>0.360200</td>\n",
              "      <td>0.757000</td>\n",
              "      <td>6.802000</td>\n",
              "      <td>0.001713</td>\n",
              "      <td>0.002252</td>\n",
              "      <td>0.000000</td>\n",
              "      <td>0.000000</td>\n",
              "      <td>0.007882</td>\n",
              "      <td>0.000895</td>\n",
              "      <td>7.930000</td>\n",
              "      <td>12.020000</td>\n",
              "      <td>50.410000</td>\n",
              "      <td>185.200000</td>\n",
              "      <td>0.071170</td>\n",
              "      <td>0.027290</td>\n",
              "      <td>0.000000</td>\n",
              "      <td>0.000000</td>\n",
              "      <td>0.156500</td>\n",
              "      <td>0.055040</td>\n",
              "    </tr>\n",
              "    <tr>\n",
              "      <th>25%</th>\n",
              "      <td>11.700000</td>\n",
              "      <td>16.170000</td>\n",
              "      <td>75.170000</td>\n",
              "      <td>420.300000</td>\n",
              "      <td>0.086370</td>\n",
              "      <td>0.064920</td>\n",
              "      <td>0.029560</td>\n",
              "      <td>0.020310</td>\n",
              "      <td>0.161900</td>\n",
              "      <td>0.057700</td>\n",
              "      <td>0.232400</td>\n",
              "      <td>0.833900</td>\n",
              "      <td>1.606000</td>\n",
              "      <td>17.850000</td>\n",
              "      <td>0.005169</td>\n",
              "      <td>0.013080</td>\n",
              "      <td>0.015090</td>\n",
              "      <td>0.007638</td>\n",
              "      <td>0.015160</td>\n",
              "      <td>0.002248</td>\n",
              "      <td>13.010000</td>\n",
              "      <td>21.080000</td>\n",
              "      <td>84.110000</td>\n",
              "      <td>515.300000</td>\n",
              "      <td>0.116600</td>\n",
              "      <td>0.147200</td>\n",
              "      <td>0.114500</td>\n",
              "      <td>0.064930</td>\n",
              "      <td>0.250400</td>\n",
              "      <td>0.071460</td>\n",
              "    </tr>\n",
              "    <tr>\n",
              "      <th>50%</th>\n",
              "      <td>13.370000</td>\n",
              "      <td>18.840000</td>\n",
              "      <td>86.240000</td>\n",
              "      <td>551.100000</td>\n",
              "      <td>0.095870</td>\n",
              "      <td>0.092630</td>\n",
              "      <td>0.061540</td>\n",
              "      <td>0.033500</td>\n",
              "      <td>0.179200</td>\n",
              "      <td>0.061540</td>\n",
              "      <td>0.324200</td>\n",
              "      <td>1.108000</td>\n",
              "      <td>2.287000</td>\n",
              "      <td>24.530000</td>\n",
              "      <td>0.006380</td>\n",
              "      <td>0.020450</td>\n",
              "      <td>0.025890</td>\n",
              "      <td>0.010930</td>\n",
              "      <td>0.018730</td>\n",
              "      <td>0.003187</td>\n",
              "      <td>14.970000</td>\n",
              "      <td>25.410000</td>\n",
              "      <td>97.660000</td>\n",
              "      <td>686.500000</td>\n",
              "      <td>0.131300</td>\n",
              "      <td>0.211900</td>\n",
              "      <td>0.226700</td>\n",
              "      <td>0.099930</td>\n",
              "      <td>0.282200</td>\n",
              "      <td>0.080040</td>\n",
              "    </tr>\n",
              "    <tr>\n",
              "      <th>75%</th>\n",
              "      <td>15.780000</td>\n",
              "      <td>21.800000</td>\n",
              "      <td>104.100000</td>\n",
              "      <td>782.700000</td>\n",
              "      <td>0.105300</td>\n",
              "      <td>0.130400</td>\n",
              "      <td>0.130700</td>\n",
              "      <td>0.074000</td>\n",
              "      <td>0.195700</td>\n",
              "      <td>0.066120</td>\n",
              "      <td>0.478900</td>\n",
              "      <td>1.474000</td>\n",
              "      <td>3.357000</td>\n",
              "      <td>45.190000</td>\n",
              "      <td>0.008146</td>\n",
              "      <td>0.032450</td>\n",
              "      <td>0.042050</td>\n",
              "      <td>0.014710</td>\n",
              "      <td>0.023480</td>\n",
              "      <td>0.004558</td>\n",
              "      <td>18.790000</td>\n",
              "      <td>29.720000</td>\n",
              "      <td>125.400000</td>\n",
              "      <td>1084.000000</td>\n",
              "      <td>0.146000</td>\n",
              "      <td>0.339100</td>\n",
              "      <td>0.382900</td>\n",
              "      <td>0.161400</td>\n",
              "      <td>0.317900</td>\n",
              "      <td>0.092080</td>\n",
              "    </tr>\n",
              "    <tr>\n",
              "      <th>max</th>\n",
              "      <td>28.110000</td>\n",
              "      <td>39.280000</td>\n",
              "      <td>188.500000</td>\n",
              "      <td>2501.000000</td>\n",
              "      <td>0.163400</td>\n",
              "      <td>0.345400</td>\n",
              "      <td>0.426800</td>\n",
              "      <td>0.201200</td>\n",
              "      <td>0.304000</td>\n",
              "      <td>0.097440</td>\n",
              "      <td>2.873000</td>\n",
              "      <td>4.885000</td>\n",
              "      <td>21.980000</td>\n",
              "      <td>542.200000</td>\n",
              "      <td>0.031130</td>\n",
              "      <td>0.135400</td>\n",
              "      <td>0.396000</td>\n",
              "      <td>0.052790</td>\n",
              "      <td>0.078950</td>\n",
              "      <td>0.029840</td>\n",
              "      <td>36.040000</td>\n",
              "      <td>49.540000</td>\n",
              "      <td>251.200000</td>\n",
              "      <td>4254.000000</td>\n",
              "      <td>0.222600</td>\n",
              "      <td>1.058000</td>\n",
              "      <td>1.252000</td>\n",
              "      <td>0.291000</td>\n",
              "      <td>0.663800</td>\n",
              "      <td>0.207500</td>\n",
              "    </tr>\n",
              "  </tbody>\n",
              "</table>\n",
              "</div>"
            ],
            "text/plain": [
              "       mean radius  mean texture  ...  worst symmetry  worst fractal dimension\n",
              "count   569.000000    569.000000  ...      569.000000               569.000000\n",
              "mean     14.127292     19.289649  ...        0.290076                 0.083946\n",
              "std       3.524049      4.301036  ...        0.061867                 0.018061\n",
              "min       6.981000      9.710000  ...        0.156500                 0.055040\n",
              "25%      11.700000     16.170000  ...        0.250400                 0.071460\n",
              "50%      13.370000     18.840000  ...        0.282200                 0.080040\n",
              "75%      15.780000     21.800000  ...        0.317900                 0.092080\n",
              "max      28.110000     39.280000  ...        0.663800                 0.207500\n",
              "\n",
              "[8 rows x 30 columns]"
            ]
          },
          "metadata": {},
          "execution_count": 384
        }
      ]
    },
    {
      "cell_type": "markdown",
      "metadata": {
        "id": "6tHffVU_vpVO"
      },
      "source": [
        "### Imagem"
      ]
    },
    {
      "cell_type": "markdown",
      "metadata": {
        "id": "y5VraS6T2IPx"
      },
      "source": [
        "This dataset is a collection of JPEG pictures of famous people collected over the internet, all details are available on the official website:\n",
        "\n",
        "http://vis-www.cs.umass.edu/lfw/\n",
        "\n",
        "Each picture is centered on a single face. The typical task is called Face Verification: given a pair of two pictures, a binary classifier must predict whether the two images are from the same person.\n",
        "\n",
        "https://scikit-learn.org/stable/datasets/real_world.html#the-labeled-faces-in-the-wild-face-recognition-dataset"
      ]
    },
    {
      "cell_type": "code",
      "metadata": {
        "id": "IvGdYVSbtYnd"
      },
      "source": [
        "imagens = sklearn.datasets.fetch_lfw_people()"
      ],
      "execution_count": null,
      "outputs": []
    },
    {
      "cell_type": "code",
      "metadata": {
        "colab": {
          "base_uri": "https://localhost:8080/"
        },
        "id": "487LaDlhuiex",
        "outputId": "5d0f453f-7e58-417b-c79a-92172789b8c5"
      },
      "source": [
        "dir(imagens)"
      ],
      "execution_count": null,
      "outputs": [
        {
          "output_type": "execute_result",
          "data": {
            "text/plain": [
              "['DESCR', 'data', 'images', 'target', 'target_names']"
            ]
          },
          "metadata": {},
          "execution_count": 386
        }
      ]
    },
    {
      "cell_type": "code",
      "metadata": {
        "colab": {
          "base_uri": "https://localhost:8080/"
        },
        "id": "0SmLpbRtRJ5o",
        "outputId": "02b64690-e599-4b43-9cd2-c6d344d8541c"
      },
      "source": [
        "imagens.data.shape"
      ],
      "execution_count": null,
      "outputs": [
        {
          "output_type": "execute_result",
          "data": {
            "text/plain": [
              "(13233, 2914)"
            ]
          },
          "metadata": {},
          "execution_count": 482
        }
      ]
    },
    {
      "cell_type": "code",
      "metadata": {
        "colab": {
          "base_uri": "https://localhost:8080/"
        },
        "id": "HQ0weChARbSK",
        "outputId": "fa09ecd8-5e7e-45d7-ce17-dc8345ecd1bf"
      },
      "source": [
        "imagens.images.shape"
      ],
      "execution_count": null,
      "outputs": [
        {
          "output_type": "execute_result",
          "data": {
            "text/plain": [
              "(13233, 62, 47)"
            ]
          },
          "metadata": {},
          "execution_count": 483
        }
      ]
    },
    {
      "cell_type": "code",
      "metadata": {
        "colab": {
          "base_uri": "https://localhost:8080/"
        },
        "id": "C96IOtVuhdg_",
        "outputId": "8abe6412-fc83-45f4-dd83-926826598475"
      },
      "source": [
        "imagens.target_names"
      ],
      "execution_count": null,
      "outputs": [
        {
          "output_type": "execute_result",
          "data": {
            "text/plain": [
              "array(['AJ Cook', 'AJ Lamas', 'Aaron Eckhart', ..., 'Zumrati Juma',\n",
              "       'Zurab Tsereteli', 'Zydrunas Ilgauskas'], dtype='<U35')"
            ]
          },
          "metadata": {},
          "execution_count": 387
        }
      ]
    },
    {
      "cell_type": "code",
      "metadata": {
        "colab": {
          "base_uri": "https://localhost:8080/",
          "height": 594
        },
        "id": "fR0ts-nNffRa",
        "outputId": "bec39603-755c-4bab-dc1c-ea0f274bee4a"
      },
      "source": [
        "fig, axs = plt.subplots(2,5, figsize=(20,10))\n",
        "for i in range(10):  \n",
        "  if i < 5 :\n",
        "    axs[0, i].imshow(imagens.images[91+i], cmap='gray')\n",
        "  else:\n",
        "    axs[1, i-5].imshow(imagens.images[91+i], cmap='gray')"
      ],
      "execution_count": null,
      "outputs": [
        {
          "output_type": "display_data",
          "data": {
            "image/png": "[encoded data removed]",
            "text/plain": [
              "<Figure size 1440x720 with 10 Axes>"
            ]
          },
          "metadata": {
            "needs_background": "light"
          }
        }
      ]
    },
    {
      "cell_type": "code",
      "metadata": {
        "colab": {
          "base_uri": "https://localhost:8080/"
        },
        "id": "7wbhcDvyh6T_",
        "outputId": "09be5cc9-0476-4ed6-ca8e-19725010fe49"
      },
      "source": [
        "  for i in range(10):\n",
        "    ids = imagens.target[91+i]\n",
        "    print(imagens.target_names[ids])"
      ],
      "execution_count": null,
      "outputs": [
        {
          "output_type": "stream",
          "name": "stdout",
          "text": [
            "Orrin Hatch\n",
            "Tiger Woods\n",
            "Michael Haneke\n",
            "Mike Flanagan\n",
            "Spencer Abraham\n",
            "Thalia\n",
            "Christine Gregoire\n",
            "Hugo Chavez\n",
            "Joseph Biden\n",
            "Jennifer Lopez\n"
          ]
        }
      ]
    },
    {
      "cell_type": "code",
      "metadata": {
        "colab": {
          "base_uri": "https://localhost:8080/"
        },
        "id": "EJy8GGd0hNsq",
        "outputId": "f1058409-3279-4442-9c72-50129f428470"
      },
      "source": [
        "imagens.data.shape"
      ],
      "execution_count": null,
      "outputs": [
        {
          "output_type": "execute_result",
          "data": {
            "text/plain": [
              "(13233, 2914)"
            ]
          },
          "metadata": {},
          "execution_count": 390
        }
      ]
    },
    {
      "cell_type": "code",
      "metadata": {
        "colab": {
          "base_uri": "https://localhost:8080/"
        },
        "id": "ZiY13a73g8YQ",
        "outputId": "065c37b0-dbe5-4159-a540-922b3d6bef07"
      },
      "source": [
        "imagens.images.shape"
      ],
      "execution_count": null,
      "outputs": [
        {
          "output_type": "execute_result",
          "data": {
            "text/plain": [
              "(13233, 62, 47)"
            ]
          },
          "metadata": {},
          "execution_count": 391
        }
      ]
    },
    {
      "cell_type": "code",
      "metadata": {
        "colab": {
          "base_uri": "https://localhost:8080/"
        },
        "id": "bs5JGjBCfvUX",
        "outputId": "25999484-a7a2-4ecc-8d49-eb2d37782b17"
      },
      "source": [
        "imagens.data.reshape(-1, 62, 47) == imagens.images\n",
        "#np.all(imagens.data.reshape(-1, 62, 47) == imagens.images)"
      ],
      "execution_count": null,
      "outputs": [
        {
          "output_type": "execute_result",
          "data": {
            "text/plain": [
              "array([[[ True,  True,  True, ...,  True,  True,  True],\n",
              "        [ True,  True,  True, ...,  True,  True,  True],\n",
              "        [ True,  True,  True, ...,  True,  True,  True],\n",
              "        ...,\n",
              "        [ True,  True,  True, ...,  True,  True,  True],\n",
              "        [ True,  True,  True, ...,  True,  True,  True],\n",
              "        [ True,  True,  True, ...,  True,  True,  True]],\n",
              "\n",
              "       [[ True,  True,  True, ...,  True,  True,  True],\n",
              "        [ True,  True,  True, ...,  True,  True,  True],\n",
              "        [ True,  True,  True, ...,  True,  True,  True],\n",
              "        ...,\n",
              "        [ True,  True,  True, ...,  True,  True,  True],\n",
              "        [ True,  True,  True, ...,  True,  True,  True],\n",
              "        [ True,  True,  True, ...,  True,  True,  True]],\n",
              "\n",
              "       [[ True,  True,  True, ...,  True,  True,  True],\n",
              "        [ True,  True,  True, ...,  True,  True,  True],\n",
              "        [ True,  True,  True, ...,  True,  True,  True],\n",
              "        ...,\n",
              "        [ True,  True,  True, ...,  True,  True,  True],\n",
              "        [ True,  True,  True, ...,  True,  True,  True],\n",
              "        [ True,  True,  True, ...,  True,  True,  True]],\n",
              "\n",
              "       ...,\n",
              "\n",
              "       [[ True,  True,  True, ...,  True,  True,  True],\n",
              "        [ True,  True,  True, ...,  True,  True,  True],\n",
              "        [ True,  True,  True, ...,  True,  True,  True],\n",
              "        ...,\n",
              "        [ True,  True,  True, ...,  True,  True,  True],\n",
              "        [ True,  True,  True, ...,  True,  True,  True],\n",
              "        [ True,  True,  True, ...,  True,  True,  True]],\n",
              "\n",
              "       [[ True,  True,  True, ...,  True,  True,  True],\n",
              "        [ True,  True,  True, ...,  True,  True,  True],\n",
              "        [ True,  True,  True, ...,  True,  True,  True],\n",
              "        ...,\n",
              "        [ True,  True,  True, ...,  True,  True,  True],\n",
              "        [ True,  True,  True, ...,  True,  True,  True],\n",
              "        [ True,  True,  True, ...,  True,  True,  True]],\n",
              "\n",
              "       [[ True,  True,  True, ...,  True,  True,  True],\n",
              "        [ True,  True,  True, ...,  True,  True,  True],\n",
              "        [ True,  True,  True, ...,  True,  True,  True],\n",
              "        ...,\n",
              "        [ True,  True,  True, ...,  True,  True,  True],\n",
              "        [ True,  True,  True, ...,  True,  True,  True],\n",
              "        [ True,  True,  True, ...,  True,  True,  True]]])"
            ]
          },
          "metadata": {},
          "execution_count": 392
        }
      ]
    },
    {
      "cell_type": "markdown",
      "metadata": {
        "id": "aRLN7OveMnz4"
      },
      "source": [
        "### Data augmentation"
      ]
    },
    {
      "cell_type": "code",
      "metadata": {
        "colab": {
          "base_uri": "https://localhost:8080/"
        },
        "id": "B66O2yLWnO99",
        "outputId": "7693e341-7193-4038-ced4-549f6e80603e"
      },
      "source": [
        "np.diag(np.ones(47))[::-1]"
      ],
      "execution_count": null,
      "outputs": [
        {
          "output_type": "execute_result",
          "data": {
            "text/plain": [
              "array([[0., 0., 0., ..., 0., 0., 1.],\n",
              "       [0., 0., 0., ..., 0., 1., 0.],\n",
              "       [0., 0., 0., ..., 1., 0., 0.],\n",
              "       ...,\n",
              "       [0., 0., 1., ..., 0., 0., 0.],\n",
              "       [0., 1., 0., ..., 0., 0., 0.],\n",
              "       [1., 0., 0., ..., 0., 0., 0.]])"
            ]
          },
          "metadata": {},
          "execution_count": 393
        }
      ]
    },
    {
      "cell_type": "code",
      "metadata": {
        "colab": {
          "base_uri": "https://localhost:8080/"
        },
        "id": "OCBJsud7vTHe",
        "outputId": "b6cbce8f-74fb-44ef-e73d-483f9b37ac30"
      },
      "source": [
        "np.diag(np.zeros(47))"
      ],
      "execution_count": null,
      "outputs": [
        {
          "output_type": "execute_result",
          "data": {
            "text/plain": [
              "array([[0., 0., 0., ..., 0., 0., 0.],\n",
              "       [0., 0., 0., ..., 0., 0., 0.],\n",
              "       [0., 0., 0., ..., 0., 0., 0.],\n",
              "       ...,\n",
              "       [0., 0., 0., ..., 0., 0., 0.],\n",
              "       [0., 0., 0., ..., 0., 0., 0.],\n",
              "       [0., 0., 0., ..., 0., 0., 0.]])"
            ]
          },
          "metadata": {},
          "execution_count": 394
        }
      ]
    },
    {
      "cell_type": "code",
      "metadata": {
        "colab": {
          "base_uri": "https://localhost:8080/",
          "height": 285
        },
        "id": "Q4wgFQdgUAmo",
        "outputId": "2d7fbd7d-0208-4178-d3d8-e8217f3d63b7"
      },
      "source": [
        "plt.imshow(imagens.images[91+i])"
      ],
      "execution_count": null,
      "outputs": [
        {
          "output_type": "execute_result",
          "data": {
            "text/plain": [
              "<matplotlib.image.AxesImage at 0x7faf1cb6bf10>"
            ]
          },
          "metadata": {},
          "execution_count": 484
        },
        {
          "output_type": "display_data",
          "data": {
            "image/png": "[encoded data removed]",
            "text/plain": [
              "<Figure size 432x288 with 1 Axes>"
            ]
          },
          "metadata": {
            "needs_background": "light"
          }
        }
      ]
    },
    {
      "cell_type": "code",
      "metadata": {
        "colab": {
          "base_uri": "https://localhost:8080/"
        },
        "id": "-p4LP-dIVHgp",
        "outputId": "d8498631-d581-4dfd-ecdd-1dd89dc9c23b"
      },
      "source": [
        "np.diag(np.ones(47))[::-1]"
      ],
      "execution_count": null,
      "outputs": [
        {
          "output_type": "execute_result",
          "data": {
            "text/plain": [
              "array([[0., 0., 0., ..., 0., 0., 1.],\n",
              "       [0., 0., 0., ..., 0., 1., 0.],\n",
              "       [0., 0., 0., ..., 1., 0., 0.],\n",
              "       ...,\n",
              "       [0., 0., 1., ..., 0., 0., 0.],\n",
              "       [0., 1., 0., ..., 0., 0., 0.],\n",
              "       [1., 0., 0., ..., 0., 0., 0.]])"
            ]
          },
          "metadata": {},
          "execution_count": 488
        }
      ]
    },
    {
      "cell_type": "code",
      "metadata": {
        "id": "4mMcejfNmkVV",
        "colab": {
          "base_uri": "https://localhost:8080/",
          "height": 285
        },
        "outputId": "5707aa05-96ab-4ef5-8c36-701733f0905c"
      },
      "source": [
        "#plt.imshow(imagens.images[91+i] * np.diag(np.ones(47)))\n",
        "#plt.imshow(imagens.images[91+i] @ np.diag(np.ones(47)))\n",
        "#plt.imshow(imagens.images[91+i] @ np.diag(np.zeros(47)))\n",
        "plt.imshow(imagens.images[91+i] @ np.diag(np.ones(47))[::-1])"
      ],
      "execution_count": null,
      "outputs": [
        {
          "output_type": "execute_result",
          "data": {
            "text/plain": [
              "<matplotlib.image.AxesImage at 0x7faf1d0d7490>"
            ]
          },
          "metadata": {},
          "execution_count": 489
        },
        {
          "output_type": "display_data",
          "data": {
            "image/png": "[encoded data removed]",
            "text/plain": [
              "<Figure size 432x288 with 1 Axes>"
            ]
          },
          "metadata": {
            "needs_background": "light"
          }
        }
      ]
    },
    {
      "cell_type": "markdown",
      "metadata": {
        "id": "_q3xM9o6vfO4"
      },
      "source": [
        "Como virar a imagem de cabeça pra baixo?"
      ]
    },
    {
      "cell_type": "code",
      "metadata": {
        "id": "3zQAE2d6vk9I"
      },
      "source": [
        "# código\n",
        "#plt.imshow(np.dot(np.diag(np.ones(62))[::-1], imagens.images[91+i]))"
      ],
      "execution_count": null,
      "outputs": []
    },
    {
      "cell_type": "markdown",
      "metadata": {
        "id": "k2685lb_mC_q"
      },
      "source": [
        "### Texto"
      ]
    },
    {
      "cell_type": "markdown",
      "metadata": {
        "id": "POGhFxZxrDup"
      },
      "source": [
        "\n",
        "![title](https://upload.wikimedia.org/wikipedia/commons/thumb/6/69/IMDB_Logo_2016.svg/250px-IMDB_Logo_2016.svg.png)"
      ]
    },
    {
      "cell_type": "markdown",
      "metadata": {
        "id": "iVr5A2Zor3s5"
      },
      "source": [
        "IMDB dataset having 50K movie reviews for natural language processing or Text analytics.\n",
        "This is a dataset for binary sentiment classification containing substantially more data than previous benchmark datasets. We provide a set of 25,000 highly polar movie reviews for training and 25,000 for testing. So, predict the number of positive and negative reviews using either classification or deep learning algorithms.\n",
        "For more dataset information, please go through the following link,\n",
        "http://ai.stanford.edu/~amaas/data/sentiment/"
      ]
    },
    {
      "cell_type": "code",
      "metadata": {
        "id": "SPVbFDHLqROo"
      },
      "source": [
        "reviews = tf.keras.datasets.imdb.load_data()"
      ],
      "execution_count": null,
      "outputs": []
    },
    {
      "cell_type": "code",
      "metadata": {
        "colab": {
          "base_uri": "https://localhost:8080/"
        },
        "id": "PcnqqvsDrmMg",
        "outputId": "a424a4ae-904f-4944-fc9c-c3856174c8e1"
      },
      "source": [
        "#reviews.shape\n",
        "np.array(reviews).shape"
      ],
      "execution_count": null,
      "outputs": [
        {
          "output_type": "execute_result",
          "data": {
            "text/plain": [
              "(2, 2, 25000)"
            ]
          },
          "metadata": {},
          "execution_count": 398
        }
      ]
    },
    {
      "cell_type": "markdown",
      "metadata": {
        "id": "CGbfdqbzsUpP"
      },
      "source": [
        "Review"
      ]
    },
    {
      "cell_type": "code",
      "metadata": {
        "colab": {
          "base_uri": "https://localhost:8080/"
        },
        "id": "uHuG8orirhEa",
        "outputId": "dab8914c-6cdf-42f3-fcd4-aaf368971d52"
      },
      "source": [
        "reviews[0][0][0]"
      ],
      "execution_count": null,
      "outputs": [
        {
          "output_type": "execute_result",
          "data": {
            "text/plain": [
              "[1,\n",
              " 14,\n",
              " 22,\n",
              " 16,\n",
              " 43,\n",
              " 530,\n",
              " 973,\n",
              " 1622,\n",
              " 1385,\n",
              " 65,\n",
              " 458,\n",
              " 4468,\n",
              " 66,\n",
              " 3941,\n",
              " 4,\n",
              " 173,\n",
              " 36,\n",
              " 256,\n",
              " 5,\n",
              " 25,\n",
              " 100,\n",
              " 43,\n",
              " 838,\n",
              " 112,\n",
              " 50,\n",
              " 670,\n",
              " 22665,\n",
              " 9,\n",
              " 35,\n",
              " 480,\n",
              " 284,\n",
              " 5,\n",
              " 150,\n",
              " 4,\n",
              " 172,\n",
              " 112,\n",
              " 167,\n",
              " 21631,\n",
              " 336,\n",
              " 385,\n",
              " 39,\n",
              " 4,\n",
              " 172,\n",
              " 4536,\n",
              " 1111,\n",
              " 17,\n",
              " 546,\n",
              " 38,\n",
              " 13,\n",
              " 447,\n",
              " 4,\n",
              " 192,\n",
              " 50,\n",
              " 16,\n",
              " 6,\n",
              " 147,\n",
              " 2025,\n",
              " 19,\n",
              " 14,\n",
              " 22,\n",
              " 4,\n",
              " 1920,\n",
              " 4613,\n",
              " 469,\n",
              " 4,\n",
              " 22,\n",
              " 71,\n",
              " 87,\n",
              " 12,\n",
              " 16,\n",
              " 43,\n",
              " 530,\n",
              " 38,\n",
              " 76,\n",
              " 15,\n",
              " 13,\n",
              " 1247,\n",
              " 4,\n",
              " 22,\n",
              " 17,\n",
              " 515,\n",
              " 17,\n",
              " 12,\n",
              " 16,\n",
              " 626,\n",
              " 18,\n",
              " 19193,\n",
              " 5,\n",
              " 62,\n",
              " 386,\n",
              " 12,\n",
              " 8,\n",
              " 316,\n",
              " 8,\n",
              " 106,\n",
              " 5,\n",
              " 4,\n",
              " 2223,\n",
              " 5244,\n",
              " 16,\n",
              " 480,\n",
              " 66,\n",
              " 3785,\n",
              " 33,\n",
              " 4,\n",
              " 130,\n",
              " 12,\n",
              " 16,\n",
              " 38,\n",
              " 619,\n",
              " 5,\n",
              " 25,\n",
              " 124,\n",
              " 51,\n",
              " 36,\n",
              " 135,\n",
              " 48,\n",
              " 25,\n",
              " 1415,\n",
              " 33,\n",
              " 6,\n",
              " 22,\n",
              " 12,\n",
              " 215,\n",
              " 28,\n",
              " 77,\n",
              " 52,\n",
              " 5,\n",
              " 14,\n",
              " 407,\n",
              " 16,\n",
              " 82,\n",
              " 10311,\n",
              " 8,\n",
              " 4,\n",
              " 107,\n",
              " 117,\n",
              " 5952,\n",
              " 15,\n",
              " 256,\n",
              " 4,\n",
              " 31050,\n",
              " 7,\n",
              " 3766,\n",
              " 5,\n",
              " 723,\n",
              " 36,\n",
              " 71,\n",
              " 43,\n",
              " 530,\n",
              " 476,\n",
              " 26,\n",
              " 400,\n",
              " 317,\n",
              " 46,\n",
              " 7,\n",
              " 4,\n",
              " 12118,\n",
              " 1029,\n",
              " 13,\n",
              " 104,\n",
              " 88,\n",
              " 4,\n",
              " 381,\n",
              " 15,\n",
              " 297,\n",
              " 98,\n",
              " 32,\n",
              " 2071,\n",
              " 56,\n",
              " 26,\n",
              " 141,\n",
              " 6,\n",
              " 194,\n",
              " 7486,\n",
              " 18,\n",
              " 4,\n",
              " 226,\n",
              " 22,\n",
              " 21,\n",
              " 134,\n",
              " 476,\n",
              " 26,\n",
              " 480,\n",
              " 5,\n",
              " 144,\n",
              " 30,\n",
              " 5535,\n",
              " 18,\n",
              " 51,\n",
              " 36,\n",
              " 28,\n",
              " 224,\n",
              " 92,\n",
              " 25,\n",
              " 104,\n",
              " 4,\n",
              " 226,\n",
              " 65,\n",
              " 16,\n",
              " 38,\n",
              " 1334,\n",
              " 88,\n",
              " 12,\n",
              " 16,\n",
              " 283,\n",
              " 5,\n",
              " 16,\n",
              " 4472,\n",
              " 113,\n",
              " 103,\n",
              " 32,\n",
              " 15,\n",
              " 16,\n",
              " 5345,\n",
              " 19,\n",
              " 178,\n",
              " 32]"
            ]
          },
          "metadata": {},
          "execution_count": 399
        }
      ]
    },
    {
      "cell_type": "code",
      "metadata": {
        "colab": {
          "base_uri": "https://localhost:8080/"
        },
        "id": "1aPG-pbUsYMf",
        "outputId": "67dad583-801f-4785-d941-60b920929f5a"
      },
      "source": [
        "reviews[0][1][0]"
      ],
      "execution_count": null,
      "outputs": [
        {
          "output_type": "execute_result",
          "data": {
            "text/plain": [
              "1"
            ]
          },
          "metadata": {},
          "execution_count": 400
        }
      ]
    },
    {
      "cell_type": "markdown",
      "metadata": {
        "id": "s6dUQ_cEtZpy"
      },
      "source": [
        "Cade o texto?"
      ]
    },
    {
      "cell_type": "code",
      "metadata": {
        "colab": {
          "base_uri": "https://localhost:8080/"
        },
        "id": "i3TP2U7Fq6S5",
        "outputId": "8034605e-e0dd-4f06-f5c0-691bc780e09e"
      },
      "source": [
        "vocab = tf.keras.datasets.imdb.get_word_index()\n",
        "vocab"
      ],
      "execution_count": null,
      "outputs": [
        {
          "output_type": "execute_result",
          "data": {
            "text/plain": [
              "{'fawn': 34701,\n",
              " 'tsukino': 52006,\n",
              " 'nunnery': 52007,\n",
              " 'sonja': 16816,\n",
              " 'vani': 63951,\n",
              " 'woods': 1408,\n",
              " 'spiders': 16115,\n",
              " 'hanging': 2345,\n",
              " 'woody': 2289,\n",
              " 'trawling': 52008,\n",
              " \"hold's\": 52009,\n",
              " 'comically': 11307,\n",
              " 'localized': 40830,\n",
              " 'disobeying': 30568,\n",
              " \"'royale\": 52010,\n",
              " \"harpo's\": 40831,\n",
              " 'canet': 52011,\n",
              " 'aileen': 19313,\n",
              " 'acurately': 52012,\n",
              " \"diplomat's\": 52013,\n",
              " 'rickman': 25242,\n",
              " 'arranged': 6746,\n",
              " 'rumbustious': 52014,\n",
              " 'familiarness': 52015,\n",
              " \"spider'\": 52016,\n",
              " 'hahahah': 68804,\n",
              " \"wood'\": 52017,\n",
              " 'transvestism': 40833,\n",
              " \"hangin'\": 34702,\n",
              " 'bringing': 2338,\n",
              " 'seamier': 40834,\n",
              " 'wooded': 34703,\n",
              " 'bravora': 52018,\n",
              " 'grueling': 16817,\n",
              " 'wooden': 1636,\n",
              " 'wednesday': 16818,\n",
              " \"'prix\": 52019,\n",
              " 'altagracia': 34704,\n",
              " 'circuitry': 52020,\n",
              " 'crotch': 11585,\n",
              " 'busybody': 57766,\n",
              " \"tart'n'tangy\": 52021,\n",
              " 'burgade': 14129,\n",
              " 'thrace': 52023,\n",
              " \"tom's\": 11038,\n",
              " 'snuggles': 52025,\n",
              " 'francesco': 29114,\n",
              " 'complainers': 52027,\n",
              " 'templarios': 52125,\n",
              " '272': 40835,\n",
              " '273': 52028,\n",
              " 'zaniacs': 52130,\n",
              " '275': 34706,\n",
              " 'consenting': 27631,\n",
              " 'snuggled': 40836,\n",
              " 'inanimate': 15492,\n",
              " 'uality': 52030,\n",
              " 'bronte': 11926,\n",
              " 'errors': 4010,\n",
              " 'dialogs': 3230,\n",
              " \"yomada's\": 52031,\n",
              " \"madman's\": 34707,\n",
              " 'dialoge': 30585,\n",
              " 'usenet': 52033,\n",
              " 'videodrome': 40837,\n",
              " \"kid'\": 26338,\n",
              " 'pawed': 52034,\n",
              " \"'girlfriend'\": 30569,\n",
              " \"'pleasure\": 52035,\n",
              " \"'reloaded'\": 52036,\n",
              " \"kazakos'\": 40839,\n",
              " 'rocque': 52037,\n",
              " 'mailings': 52038,\n",
              " 'brainwashed': 11927,\n",
              " 'mcanally': 16819,\n",
              " \"tom''\": 52039,\n",
              " 'kurupt': 25243,\n",
              " 'affiliated': 21905,\n",
              " 'babaganoosh': 52040,\n",
              " \"noe's\": 40840,\n",
              " 'quart': 40841,\n",
              " 'kids': 359,\n",
              " 'uplifting': 5034,\n",
              " 'controversy': 7093,\n",
              " 'kida': 21906,\n",
              " 'kidd': 23379,\n",
              " \"error'\": 52041,\n",
              " 'neurologist': 52042,\n",
              " 'spotty': 18510,\n",
              " 'cobblers': 30570,\n",
              " 'projection': 9878,\n",
              " 'fastforwarding': 40842,\n",
              " 'sters': 52043,\n",
              " \"eggar's\": 52044,\n",
              " 'etherything': 52045,\n",
              " 'gateshead': 40843,\n",
              " 'airball': 34708,\n",
              " 'unsinkable': 25244,\n",
              " 'stern': 7180,\n",
              " \"cervi's\": 52046,\n",
              " 'dnd': 40844,\n",
              " 'dna': 11586,\n",
              " 'insecurity': 20598,\n",
              " \"'reboot'\": 52047,\n",
              " 'trelkovsky': 11037,\n",
              " 'jaekel': 52048,\n",
              " 'sidebars': 52049,\n",
              " \"sforza's\": 52050,\n",
              " 'distortions': 17633,\n",
              " 'mutinies': 52051,\n",
              " 'sermons': 30602,\n",
              " '7ft': 40846,\n",
              " 'boobage': 52052,\n",
              " \"o'bannon's\": 52053,\n",
              " 'populations': 23380,\n",
              " 'chulak': 52054,\n",
              " 'mesmerize': 27633,\n",
              " 'quinnell': 52055,\n",
              " 'yahoo': 10307,\n",
              " 'meteorologist': 52057,\n",
              " 'beswick': 42577,\n",
              " 'boorman': 15493,\n",
              " 'voicework': 40847,\n",
              " \"ster'\": 52058,\n",
              " 'blustering': 22922,\n",
              " 'hj': 52059,\n",
              " 'intake': 27634,\n",
              " 'morally': 5621,\n",
              " 'jumbling': 40849,\n",
              " 'bowersock': 52060,\n",
              " \"'porky's'\": 52061,\n",
              " 'gershon': 16821,\n",
              " 'ludicrosity': 40850,\n",
              " 'coprophilia': 52062,\n",
              " 'expressively': 40851,\n",
              " \"india's\": 19500,\n",
              " \"post's\": 34710,\n",
              " 'wana': 52063,\n",
              " 'wang': 5283,\n",
              " 'wand': 30571,\n",
              " 'wane': 25245,\n",
              " 'edgeways': 52321,\n",
              " 'titanium': 34711,\n",
              " 'pinta': 40852,\n",
              " 'want': 178,\n",
              " 'pinto': 30572,\n",
              " 'whoopdedoodles': 52065,\n",
              " 'tchaikovsky': 21908,\n",
              " 'travel': 2103,\n",
              " \"'victory'\": 52066,\n",
              " 'copious': 11928,\n",
              " 'gouge': 22433,\n",
              " \"chapters'\": 52067,\n",
              " 'barbra': 6702,\n",
              " 'uselessness': 30573,\n",
              " \"wan'\": 52068,\n",
              " 'assimilated': 27635,\n",
              " 'petiot': 16116,\n",
              " 'most\\x85and': 52069,\n",
              " 'dinosaurs': 3930,\n",
              " 'wrong': 352,\n",
              " 'seda': 52070,\n",
              " 'stollen': 52071,\n",
              " 'sentencing': 34712,\n",
              " 'ouroboros': 40853,\n",
              " 'assimilates': 40854,\n",
              " 'colorfully': 40855,\n",
              " 'glenne': 27636,\n",
              " 'dongen': 52072,\n",
              " 'subplots': 4760,\n",
              " 'kiloton': 52073,\n",
              " 'chandon': 23381,\n",
              " \"effect'\": 34713,\n",
              " 'snugly': 27637,\n",
              " 'kuei': 40856,\n",
              " 'welcomed': 9092,\n",
              " 'dishonor': 30071,\n",
              " 'concurrence': 52075,\n",
              " 'stoicism': 23382,\n",
              " \"guys'\": 14896,\n",
              " \"beroemd'\": 52077,\n",
              " 'butcher': 6703,\n",
              " \"melfi's\": 40857,\n",
              " 'aargh': 30623,\n",
              " 'playhouse': 20599,\n",
              " 'wickedly': 11308,\n",
              " 'fit': 1180,\n",
              " 'labratory': 52078,\n",
              " 'lifeline': 40859,\n",
              " 'screaming': 1927,\n",
              " 'fix': 4287,\n",
              " 'cineliterate': 52079,\n",
              " 'fic': 52080,\n",
              " 'fia': 52081,\n",
              " 'fig': 34714,\n",
              " 'fmvs': 52082,\n",
              " 'fie': 52083,\n",
              " 'reentered': 52084,\n",
              " 'fin': 30574,\n",
              " 'doctresses': 52085,\n",
              " 'fil': 52086,\n",
              " 'zucker': 12606,\n",
              " 'ached': 31931,\n",
              " 'counsil': 52088,\n",
              " 'paterfamilias': 52089,\n",
              " 'songwriter': 13885,\n",
              " 'shivam': 34715,\n",
              " 'hurting': 9654,\n",
              " 'effects': 299,\n",
              " 'slauther': 52090,\n",
              " \"'flame'\": 52091,\n",
              " 'sommerset': 52092,\n",
              " 'interwhined': 52093,\n",
              " 'whacking': 27638,\n",
              " 'bartok': 52094,\n",
              " 'barton': 8775,\n",
              " 'frewer': 21909,\n",
              " \"fi'\": 52095,\n",
              " 'ingrid': 6192,\n",
              " 'stribor': 30575,\n",
              " 'approporiately': 52096,\n",
              " 'wobblyhand': 52097,\n",
              " 'tantalisingly': 52098,\n",
              " 'ankylosaurus': 52099,\n",
              " 'parasites': 17634,\n",
              " 'childen': 52100,\n",
              " \"jenkins'\": 52101,\n",
              " 'metafiction': 52102,\n",
              " 'golem': 17635,\n",
              " 'indiscretion': 40860,\n",
              " \"reeves'\": 23383,\n",
              " \"inamorata's\": 57781,\n",
              " 'brittannica': 52104,\n",
              " 'adapt': 7916,\n",
              " \"russo's\": 30576,\n",
              " 'guitarists': 48246,\n",
              " 'abbott': 10553,\n",
              " 'abbots': 40861,\n",
              " 'lanisha': 17649,\n",
              " 'magickal': 40863,\n",
              " 'mattter': 52105,\n",
              " \"'willy\": 52106,\n",
              " 'pumpkins': 34716,\n",
              " 'stuntpeople': 52107,\n",
              " 'estimate': 30577,\n",
              " 'ugghhh': 40864,\n",
              " 'gameplay': 11309,\n",
              " \"wern't\": 52108,\n",
              " \"n'sync\": 40865,\n",
              " 'sickeningly': 16117,\n",
              " 'chiara': 40866,\n",
              " 'disturbed': 4011,\n",
              " 'portmanteau': 40867,\n",
              " 'ineffectively': 52109,\n",
              " \"duchonvey's\": 82143,\n",
              " \"nasty'\": 37519,\n",
              " 'purpose': 1285,\n",
              " 'lazers': 52112,\n",
              " 'lightened': 28105,\n",
              " 'kaliganj': 52113,\n",
              " 'popularism': 52114,\n",
              " \"damme's\": 18511,\n",
              " 'stylistics': 30578,\n",
              " 'mindgaming': 52115,\n",
              " 'spoilerish': 46449,\n",
              " \"'corny'\": 52117,\n",
              " 'boerner': 34718,\n",
              " 'olds': 6792,\n",
              " 'bakelite': 52118,\n",
              " 'renovated': 27639,\n",
              " 'forrester': 27640,\n",
              " \"lumiere's\": 52119,\n",
              " 'gaskets': 52024,\n",
              " 'needed': 884,\n",
              " 'smight': 34719,\n",
              " 'master': 1297,\n",
              " \"edie's\": 25905,\n",
              " 'seeber': 40868,\n",
              " 'hiya': 52120,\n",
              " 'fuzziness': 52121,\n",
              " 'genesis': 14897,\n",
              " 'rewards': 12607,\n",
              " 'enthrall': 30579,\n",
              " \"'about\": 40869,\n",
              " \"recollection's\": 52122,\n",
              " 'mutilated': 11039,\n",
              " 'fatherlands': 52123,\n",
              " \"fischer's\": 52124,\n",
              " 'positively': 5399,\n",
              " '270': 34705,\n",
              " 'ahmed': 34720,\n",
              " 'zatoichi': 9836,\n",
              " 'bannister': 13886,\n",
              " 'anniversaries': 52127,\n",
              " \"helm's\": 30580,\n",
              " \"'work'\": 52128,\n",
              " 'exclaimed': 34721,\n",
              " \"'unfunny'\": 52129,\n",
              " '274': 52029,\n",
              " 'feeling': 544,\n",
              " \"wanda's\": 52131,\n",
              " 'dolan': 33266,\n",
              " '278': 52133,\n",
              " 'peacoat': 52134,\n",
              " 'brawny': 40870,\n",
              " 'mishra': 40871,\n",
              " 'worlders': 40872,\n",
              " 'protags': 52135,\n",
              " 'skullcap': 52136,\n",
              " 'dastagir': 57596,\n",
              " 'affairs': 5622,\n",
              " 'wholesome': 7799,\n",
              " 'hymen': 52137,\n",
              " 'paramedics': 25246,\n",
              " 'unpersons': 52138,\n",
              " 'heavyarms': 52139,\n",
              " 'affaire': 52140,\n",
              " 'coulisses': 52141,\n",
              " 'hymer': 40873,\n",
              " 'kremlin': 52142,\n",
              " 'shipments': 30581,\n",
              " 'pixilated': 52143,\n",
              " \"'00s\": 30582,\n",
              " 'diminishing': 18512,\n",
              " 'cinematic': 1357,\n",
              " 'resonates': 14898,\n",
              " 'simplify': 40874,\n",
              " \"nature'\": 40875,\n",
              " 'temptresses': 40876,\n",
              " 'reverence': 16822,\n",
              " 'resonated': 19502,\n",
              " 'dailey': 34722,\n",
              " '2\\x85': 52144,\n",
              " 'treize': 27641,\n",
              " 'majo': 52145,\n",
              " 'kiya': 21910,\n",
              " 'woolnough': 52146,\n",
              " 'thanatos': 39797,\n",
              " 'sandoval': 35731,\n",
              " 'dorama': 40879,\n",
              " \"o'shaughnessy\": 52147,\n",
              " 'tech': 4988,\n",
              " 'fugitives': 32018,\n",
              " 'teck': 30583,\n",
              " \"'e'\": 76125,\n",
              " 'doesn’t': 40881,\n",
              " 'purged': 52149,\n",
              " 'saying': 657,\n",
              " \"martians'\": 41095,\n",
              " 'norliss': 23418,\n",
              " 'dickey': 27642,\n",
              " 'dicker': 52152,\n",
              " \"'sependipity\": 52153,\n",
              " 'padded': 8422,\n",
              " 'ordell': 57792,\n",
              " \"sturges'\": 40882,\n",
              " 'independentcritics': 52154,\n",
              " 'tempted': 5745,\n",
              " \"atkinson's\": 34724,\n",
              " 'hounded': 25247,\n",
              " 'apace': 52155,\n",
              " 'clicked': 15494,\n",
              " \"'humor'\": 30584,\n",
              " \"martino's\": 17177,\n",
              " \"'supporting\": 52156,\n",
              " 'warmongering': 52032,\n",
              " \"zemeckis's\": 34725,\n",
              " 'lube': 21911,\n",
              " 'shocky': 52157,\n",
              " 'plate': 7476,\n",
              " 'plata': 40883,\n",
              " 'sturgess': 40884,\n",
              " \"nerds'\": 40885,\n",
              " 'plato': 20600,\n",
              " 'plath': 34726,\n",
              " 'platt': 40886,\n",
              " 'mcnab': 52159,\n",
              " 'clumsiness': 27643,\n",
              " 'altogether': 3899,\n",
              " 'massacring': 42584,\n",
              " 'bicenntinial': 52160,\n",
              " 'skaal': 40887,\n",
              " 'droning': 14360,\n",
              " 'lds': 8776,\n",
              " 'jaguar': 21912,\n",
              " \"cale's\": 34727,\n",
              " 'nicely': 1777,\n",
              " 'mummy': 4588,\n",
              " \"lot's\": 18513,\n",
              " 'patch': 10086,\n",
              " 'kerkhof': 50202,\n",
              " \"leader's\": 52161,\n",
              " \"'movie\": 27644,\n",
              " 'uncomfirmed': 52162,\n",
              " 'heirloom': 40888,\n",
              " 'wrangle': 47360,\n",
              " 'emotion\\x85': 52163,\n",
              " \"'stargate'\": 52164,\n",
              " 'pinoy': 40889,\n",
              " 'conchatta': 40890,\n",
              " 'broeke': 41128,\n",
              " 'advisedly': 40891,\n",
              " \"barker's\": 17636,\n",
              " 'descours': 52166,\n",
              " 'lots': 772,\n",
              " 'lotr': 9259,\n",
              " 'irs': 9879,\n",
              " 'lott': 52167,\n",
              " 'xvi': 40892,\n",
              " 'irk': 34728,\n",
              " 'irl': 52168,\n",
              " 'ira': 6887,\n",
              " 'belzer': 21913,\n",
              " 'irc': 52169,\n",
              " 'ire': 27645,\n",
              " 'requisites': 40893,\n",
              " 'discipline': 7693,\n",
              " 'lyoko': 52961,\n",
              " 'extend': 11310,\n",
              " 'nature': 873,\n",
              " \"'dickie'\": 52170,\n",
              " 'optimist': 40894,\n",
              " 'lapping': 30586,\n",
              " 'superficial': 3900,\n",
              " 'vestment': 52171,\n",
              " 'extent': 2823,\n",
              " 'tendons': 52172,\n",
              " \"heller's\": 52173,\n",
              " 'quagmires': 52174,\n",
              " 'miyako': 52175,\n",
              " 'moocow': 20601,\n",
              " \"coles'\": 52176,\n",
              " 'lookit': 40895,\n",
              " 'ravenously': 52177,\n",
              " 'levitating': 40896,\n",
              " 'perfunctorily': 52178,\n",
              " 'lookin': 30587,\n",
              " \"lot'\": 40898,\n",
              " 'lookie': 52179,\n",
              " 'fearlessly': 34870,\n",
              " 'libyan': 52181,\n",
              " 'fondles': 40899,\n",
              " 'gopher': 35714,\n",
              " 'wearying': 40901,\n",
              " \"nz's\": 52182,\n",
              " 'minuses': 27646,\n",
              " 'puposelessly': 52183,\n",
              " 'shandling': 52184,\n",
              " 'decapitates': 31268,\n",
              " 'humming': 11929,\n",
              " \"'nother\": 40902,\n",
              " 'smackdown': 21914,\n",
              " 'underdone': 30588,\n",
              " 'frf': 40903,\n",
              " 'triviality': 52185,\n",
              " 'fro': 25248,\n",
              " 'bothers': 8777,\n",
              " \"'kensington\": 52186,\n",
              " 'much': 73,\n",
              " 'muco': 34730,\n",
              " 'wiseguy': 22615,\n",
              " \"richie's\": 27648,\n",
              " 'tonino': 40904,\n",
              " 'unleavened': 52187,\n",
              " 'fry': 11587,\n",
              " \"'tv'\": 40905,\n",
              " 'toning': 40906,\n",
              " 'obese': 14361,\n",
              " 'sensationalized': 30589,\n",
              " 'spiv': 40907,\n",
              " 'spit': 6259,\n",
              " 'arkin': 7364,\n",
              " 'charleton': 21915,\n",
              " 'jeon': 16823,\n",
              " 'boardroom': 21916,\n",
              " 'doubts': 4989,\n",
              " 'spin': 3084,\n",
              " 'hepo': 53083,\n",
              " 'wildcat': 27649,\n",
              " 'venoms': 10584,\n",
              " 'misconstrues': 52191,\n",
              " 'mesmerising': 18514,\n",
              " 'misconstrued': 40908,\n",
              " 'rescinds': 52192,\n",
              " 'prostrate': 52193,\n",
              " 'majid': 40909,\n",
              " 'climbed': 16479,\n",
              " 'canoeing': 34731,\n",
              " 'majin': 52195,\n",
              " 'animie': 57804,\n",
              " 'sylke': 40910,\n",
              " 'conditioned': 14899,\n",
              " 'waddell': 40911,\n",
              " '3\\x85': 52196,\n",
              " 'hyperdrive': 41188,\n",
              " 'conditioner': 34732,\n",
              " 'bricklayer': 53153,\n",
              " 'hong': 2576,\n",
              " 'memoriam': 52198,\n",
              " 'inventively': 30592,\n",
              " \"levant's\": 25249,\n",
              " 'portobello': 20638,\n",
              " 'remand': 52200,\n",
              " 'mummified': 19504,\n",
              " 'honk': 27650,\n",
              " 'spews': 19505,\n",
              " 'visitations': 40912,\n",
              " 'mummifies': 52201,\n",
              " 'cavanaugh': 25250,\n",
              " 'zeon': 23385,\n",
              " \"jungle's\": 40913,\n",
              " 'viertel': 34733,\n",
              " 'frenchmen': 27651,\n",
              " 'torpedoes': 52202,\n",
              " 'schlessinger': 52203,\n",
              " 'torpedoed': 34734,\n",
              " 'blister': 69876,\n",
              " 'cinefest': 52204,\n",
              " 'furlough': 34735,\n",
              " 'mainsequence': 52205,\n",
              " 'mentors': 40914,\n",
              " 'academic': 9094,\n",
              " 'stillness': 20602,\n",
              " 'academia': 40915,\n",
              " 'lonelier': 52206,\n",
              " 'nibby': 52207,\n",
              " \"losers'\": 52208,\n",
              " 'cineastes': 40916,\n",
              " 'corporate': 4449,\n",
              " 'massaging': 40917,\n",
              " 'bellow': 30593,\n",
              " 'absurdities': 19506,\n",
              " 'expetations': 53241,\n",
              " 'nyfiken': 40918,\n",
              " 'mehras': 75638,\n",
              " 'lasse': 52209,\n",
              " 'visability': 52210,\n",
              " 'militarily': 33946,\n",
              " \"elder'\": 52211,\n",
              " 'gainsbourg': 19023,\n",
              " 'hah': 20603,\n",
              " 'hai': 13420,\n",
              " 'haj': 34736,\n",
              " 'hak': 25251,\n",
              " 'hal': 4311,\n",
              " 'ham': 4892,\n",
              " 'duffer': 53259,\n",
              " 'haa': 52213,\n",
              " 'had': 66,\n",
              " 'advancement': 11930,\n",
              " 'hag': 16825,\n",
              " \"hand'\": 25252,\n",
              " 'hay': 13421,\n",
              " 'mcnamara': 20604,\n",
              " \"mozart's\": 52214,\n",
              " 'duffel': 30731,\n",
              " 'haq': 30594,\n",
              " 'har': 13887,\n",
              " 'has': 44,\n",
              " 'hat': 2401,\n",
              " 'hav': 40919,\n",
              " 'haw': 30595,\n",
              " 'figtings': 52215,\n",
              " 'elders': 15495,\n",
              " 'underpanted': 52216,\n",
              " 'pninson': 52217,\n",
              " 'unequivocally': 27652,\n",
              " \"barbara's\": 23673,\n",
              " \"bello'\": 52219,\n",
              " 'indicative': 12997,\n",
              " 'yawnfest': 40920,\n",
              " 'hexploitation': 52220,\n",
              " \"loder's\": 52221,\n",
              " 'sleuthing': 27653,\n",
              " \"justin's\": 32622,\n",
              " \"'ball\": 52222,\n",
              " \"'summer\": 52223,\n",
              " \"'demons'\": 34935,\n",
              " \"mormon's\": 52225,\n",
              " \"laughton's\": 34737,\n",
              " 'debell': 52226,\n",
              " 'shipyard': 39724,\n",
              " 'unabashedly': 30597,\n",
              " 'disks': 40401,\n",
              " 'crowd': 2290,\n",
              " 'crowe': 10087,\n",
              " \"vancouver's\": 56434,\n",
              " 'mosques': 34738,\n",
              " 'crown': 6627,\n",
              " 'culpas': 52227,\n",
              " 'crows': 27654,\n",
              " 'surrell': 53344,\n",
              " 'flowless': 52229,\n",
              " 'sheirk': 52230,\n",
              " \"'three\": 40923,\n",
              " \"peterson'\": 52231,\n",
              " 'ooverall': 52232,\n",
              " 'perchance': 40924,\n",
              " 'bottom': 1321,\n",
              " 'chabert': 53363,\n",
              " 'sneha': 52233,\n",
              " 'inhuman': 13888,\n",
              " 'ichii': 52234,\n",
              " 'ursla': 52235,\n",
              " 'completly': 30598,\n",
              " 'moviedom': 40925,\n",
              " 'raddick': 52236,\n",
              " 'brundage': 51995,\n",
              " 'brigades': 40926,\n",
              " 'starring': 1181,\n",
              " \"'goal'\": 52237,\n",
              " 'caskets': 52238,\n",
              " 'willcock': 52239,\n",
              " \"threesome's\": 52240,\n",
              " \"mosque'\": 52241,\n",
              " \"cover's\": 52242,\n",
              " 'spaceships': 17637,\n",
              " 'anomalous': 40927,\n",
              " 'ptsd': 27655,\n",
              " 'shirdan': 52243,\n",
              " 'obscenity': 21962,\n",
              " 'lemmings': 30599,\n",
              " 'duccio': 30600,\n",
              " \"levene's\": 52244,\n",
              " \"'gorby'\": 52245,\n",
              " \"teenager's\": 25255,\n",
              " 'marshall': 5340,\n",
              " 'honeymoon': 9095,\n",
              " 'shoots': 3231,\n",
              " 'despised': 12258,\n",
              " 'okabasho': 52246,\n",
              " 'fabric': 8289,\n",
              " 'cannavale': 18515,\n",
              " 'raped': 3537,\n",
              " \"tutt's\": 52247,\n",
              " 'grasping': 17638,\n",
              " 'despises': 18516,\n",
              " \"thief's\": 40928,\n",
              " 'rapes': 8926,\n",
              " 'raper': 52248,\n",
              " \"eyre'\": 27656,\n",
              " 'walchek': 52249,\n",
              " \"elmo's\": 23386,\n",
              " 'perfumes': 40929,\n",
              " 'spurting': 21918,\n",
              " \"exposition'\\x85\": 52250,\n",
              " 'denoting': 52251,\n",
              " 'thesaurus': 34740,\n",
              " \"shoot'\": 40930,\n",
              " 'bonejack': 49759,\n",
              " 'simpsonian': 52253,\n",
              " 'hebetude': 30601,\n",
              " \"hallow's\": 34741,\n",
              " 'desperation\\x85': 52254,\n",
              " 'incinerator': 34742,\n",
              " 'congratulations': 10308,\n",
              " 'humbled': 52255,\n",
              " \"else's\": 5924,\n",
              " 'trelkovski': 40845,\n",
              " \"rape'\": 52256,\n",
              " \"'chapters'\": 59386,\n",
              " '1600s': 52257,\n",
              " 'martian': 7253,\n",
              " 'nicest': 25256,\n",
              " 'eyred': 52259,\n",
              " 'passenger': 9457,\n",
              " 'disgrace': 6041,\n",
              " 'moderne': 52260,\n",
              " 'barrymore': 5120,\n",
              " 'yankovich': 52261,\n",
              " 'moderns': 40931,\n",
              " 'studliest': 52262,\n",
              " 'bedsheet': 52263,\n",
              " 'decapitation': 14900,\n",
              " 'slurring': 52264,\n",
              " \"'nunsploitation'\": 52265,\n",
              " \"'character'\": 34743,\n",
              " 'cambodia': 9880,\n",
              " 'rebelious': 52266,\n",
              " 'pasadena': 27657,\n",
              " 'crowne': 40932,\n",
              " \"'bedchamber\": 52267,\n",
              " 'conjectural': 52268,\n",
              " 'appologize': 52269,\n",
              " 'halfassing': 52270,\n",
              " 'paycheque': 57816,\n",
              " 'palms': 20606,\n",
              " \"'islands\": 52271,\n",
              " 'hawked': 40933,\n",
              " 'palme': 21919,\n",
              " 'conservatively': 40934,\n",
              " 'larp': 64007,\n",
              " 'palma': 5558,\n",
              " 'smelling': 21920,\n",
              " 'aragorn': 12998,\n",
              " 'hawker': 52272,\n",
              " 'hawkes': 52273,\n",
              " 'explosions': 3975,\n",
              " 'loren': 8059,\n",
              " \"pyle's\": 52274,\n",
              " 'shootout': 6704,\n",
              " \"mike's\": 18517,\n",
              " \"driscoll's\": 52275,\n",
              " 'cogsworth': 40935,\n",
              " \"britian's\": 52276,\n",
              " 'childs': 34744,\n",
              " \"portrait's\": 52277,\n",
              " 'chain': 3626,\n",
              " 'whoever': 2497,\n",
              " 'puttered': 52278,\n",
              " 'childe': 52279,\n",
              " 'maywether': 52280,\n",
              " 'chair': 3036,\n",
              " \"rance's\": 52281,\n",
              " 'machu': 34745,\n",
              " 'ballet': 4517,\n",
              " 'grapples': 34746,\n",
              " 'summerize': 76152,\n",
              " 'freelance': 30603,\n",
              " \"andrea's\": 52283,\n",
              " '\\x91very': 52284,\n",
              " 'coolidge': 45879,\n",
              " 'mache': 18518,\n",
              " 'balled': 52285,\n",
              " 'grappled': 40937,\n",
              " 'macha': 18519,\n",
              " 'underlining': 21921,\n",
              " 'macho': 5623,\n",
              " 'oversight': 19507,\n",
              " 'machi': 25257,\n",
              " 'verbally': 11311,\n",
              " 'tenacious': 21922,\n",
              " 'windshields': 40938,\n",
              " 'paychecks': 18557,\n",
              " 'jerk': 3396,\n",
              " \"good'\": 11931,\n",
              " 'prancer': 34748,\n",
              " 'prances': 21923,\n",
              " 'olympus': 52286,\n",
              " 'lark': 21924,\n",
              " 'embark': 10785,\n",
              " 'gloomy': 7365,\n",
              " 'jehaan': 52287,\n",
              " 'turaqui': 52288,\n",
              " \"child'\": 20607,\n",
              " 'locked': 2894,\n",
              " 'pranced': 52289,\n",
              " 'exact': 2588,\n",
              " 'unattuned': 52290,\n",
              " 'minute': 783,\n",
              " 'skewed': 16118,\n",
              " 'hodgins': 40940,\n",
              " 'skewer': 34749,\n",
              " 'think\\x85': 52291,\n",
              " 'rosenstein': 38765,\n",
              " 'helmit': 52292,\n",
              " 'wrestlemanias': 34750,\n",
              " 'hindered': 16826,\n",
              " \"martha's\": 30604,\n",
              " 'cheree': 52293,\n",
              " \"pluckin'\": 52294,\n",
              " 'ogles': 40941,\n",
              " 'heavyweight': 11932,\n",
              " 'aada': 82190,\n",
              " 'chopping': 11312,\n",
              " 'strongboy': 61534,\n",
              " 'hegemonic': 41342,\n",
              " 'adorns': 40942,\n",
              " 'xxth': 41346,\n",
              " 'nobuhiro': 34751,\n",
              " 'capitães': 52298,\n",
              " 'kavogianni': 52299,\n",
              " 'antwerp': 13422,\n",
              " 'celebrated': 6538,\n",
              " 'roarke': 52300,\n",
              " 'baggins': 40943,\n",
              " 'cheeseburgers': 31270,\n",
              " 'matras': 52301,\n",
              " \"nineties'\": 52302,\n",
              " \"'craig'\": 52303,\n",
              " 'celebrates': 12999,\n",
              " 'unintentionally': 3383,\n",
              " 'drafted': 14362,\n",
              " 'climby': 52304,\n",
              " '303': 52305,\n",
              " 'oldies': 18520,\n",
              " 'climbs': 9096,\n",
              " 'honour': 9655,\n",
              " 'plucking': 34752,\n",
              " '305': 30074,\n",
              " 'address': 5514,\n",
              " 'menjou': 40944,\n",
              " \"'freak'\": 42592,\n",
              " 'dwindling': 19508,\n",
              " 'benson': 9458,\n",
              " 'white’s': 52307,\n",
              " 'shamelessness': 40945,\n",
              " 'impacted': 21925,\n",
              " 'upatz': 52308,\n",
              " 'cusack': 3840,\n",
              " \"flavia's\": 37567,\n",
              " 'effette': 52309,\n",
              " 'influx': 34753,\n",
              " 'boooooooo': 52310,\n",
              " 'dimitrova': 52311,\n",
              " 'houseman': 13423,\n",
              " 'bigas': 25259,\n",
              " 'boylen': 52312,\n",
              " 'phillipenes': 52313,\n",
              " 'fakery': 40946,\n",
              " \"grandpa's\": 27658,\n",
              " 'darnell': 27659,\n",
              " 'undergone': 19509,\n",
              " 'handbags': 52315,\n",
              " 'perished': 21926,\n",
              " 'pooped': 37778,\n",
              " 'vigour': 27660,\n",
              " 'opposed': 3627,\n",
              " 'etude': 52316,\n",
              " \"caine's\": 11799,\n",
              " 'doozers': 52317,\n",
              " 'photojournals': 34754,\n",
              " 'perishes': 52318,\n",
              " 'constrains': 34755,\n",
              " 'migenes': 40948,\n",
              " 'consoled': 30605,\n",
              " 'alastair': 16827,\n",
              " 'wvs': 52319,\n",
              " 'ooooooh': 52320,\n",
              " 'approving': 34756,\n",
              " 'consoles': 40949,\n",
              " 'disparagement': 52064,\n",
              " 'futureistic': 52322,\n",
              " 'rebounding': 52323,\n",
              " \"'date\": 52324,\n",
              " 'gregoire': 52325,\n",
              " 'rutherford': 21927,\n",
              " 'americanised': 34757,\n",
              " 'novikov': 82196,\n",
              " 'following': 1042,\n",
              " 'munroe': 34758,\n",
              " \"morita'\": 52326,\n",
              " 'christenssen': 52327,\n",
              " 'oatmeal': 23106,\n",
              " 'fossey': 25260,\n",
              " 'livered': 40950,\n",
              " 'listens': 13000,\n",
              " \"'marci\": 76164,\n",
              " \"otis's\": 52330,\n",
              " 'thanking': 23387,\n",
              " 'maude': 16019,\n",
              " 'extensions': 34759,\n",
              " 'ameteurish': 52332,\n",
              " \"commender's\": 52333,\n",
              " 'agricultural': 27661,\n",
              " 'convincingly': 4518,\n",
              " 'fueled': 17639,\n",
              " 'mahattan': 54014,\n",
              " \"paris's\": 40952,\n",
              " 'vulkan': 52336,\n",
              " 'stapes': 52337,\n",
              " 'odysessy': 52338,\n",
              " 'harmon': 12259,\n",
              " 'surfing': 4252,\n",
              " 'halloran': 23494,\n",
              " 'unbelieveably': 49580,\n",
              " \"'offed'\": 52339,\n",
              " 'quadrant': 30607,\n",
              " 'inhabiting': 19510,\n",
              " 'nebbish': 34760,\n",
              " 'forebears': 40953,\n",
              " 'skirmish': 34761,\n",
              " 'ocassionally': 52340,\n",
              " \"'resist\": 52341,\n",
              " 'impactful': 21928,\n",
              " 'spicier': 52342,\n",
              " 'touristy': 40954,\n",
              " \"'football'\": 52343,\n",
              " 'webpage': 40955,\n",
              " 'exurbia': 52345,\n",
              " 'jucier': 52346,\n",
              " 'professors': 14901,\n",
              " 'structuring': 34762,\n",
              " 'jig': 30608,\n",
              " 'overlord': 40956,\n",
              " 'disconnect': 25261,\n",
              " 'sniffle': 82201,\n",
              " 'slimeball': 40957,\n",
              " 'jia': 40958,\n",
              " 'milked': 16828,\n",
              " 'banjoes': 40959,\n",
              " 'jim': 1237,\n",
              " 'workforces': 52348,\n",
              " 'jip': 52349,\n",
              " 'rotweiller': 52350,\n",
              " 'mundaneness': 34763,\n",
              " \"'ninja'\": 52351,\n",
              " \"dead'\": 11040,\n",
              " \"cipriani's\": 40960,\n",
              " 'modestly': 20608,\n",
              " \"professor'\": 52352,\n",
              " 'shacked': 40961,\n",
              " 'bashful': 34764,\n",
              " 'sorter': 23388,\n",
              " 'overpowering': 16120,\n",
              " 'workmanlike': 18521,\n",
              " 'henpecked': 27662,\n",
              " 'sorted': 18522,\n",
              " \"jōb's\": 52354,\n",
              " \"'always\": 52355,\n",
              " \"'baptists\": 34765,\n",
              " 'dreamcatchers': 52356,\n",
              " \"'silence'\": 52357,\n",
              " 'hickory': 21929,\n",
              " 'fun\\x97yet': 52358,\n",
              " 'breakumentary': 52359,\n",
              " 'didn': 15496,\n",
              " 'didi': 52360,\n",
              " 'pealing': 52361,\n",
              " 'dispite': 40962,\n",
              " \"italy's\": 25262,\n",
              " 'instability': 21930,\n",
              " 'quarter': 6539,\n",
              " 'quartet': 12608,\n",
              " 'padmé': 52362,\n",
              " \"'bleedmedry\": 52363,\n",
              " 'pahalniuk': 52364,\n",
              " 'honduras': 52365,\n",
              " 'bursting': 10786,\n",
              " \"pablo's\": 41465,\n",
              " 'irremediably': 52367,\n",
              " 'presages': 40963,\n",
              " 'bowlegged': 57832,\n",
              " 'dalip': 65183,\n",
              " 'entering': 6260,\n",
              " 'newsradio': 76172,\n",
              " 'presaged': 54150,\n",
              " \"giallo's\": 27663,\n",
              " 'bouyant': 40964,\n",
              " 'amerterish': 52368,\n",
              " 'rajni': 18523,\n",
              " 'leeves': 30610,\n",
              " 'macauley': 34767,\n",
              " 'seriously': 612,\n",
              " 'sugercoma': 52369,\n",
              " 'grimstead': 52370,\n",
              " \"'fairy'\": 52371,\n",
              " 'zenda': 30611,\n",
              " \"'twins'\": 52372,\n",
              " 'realisation': 17640,\n",
              " 'highsmith': 27664,\n",
              " 'raunchy': 7817,\n",
              " 'incentives': 40965,\n",
              " 'flatson': 52374,\n",
              " 'snooker': 35097,\n",
              " 'crazies': 16829,\n",
              " 'crazier': 14902,\n",
              " 'grandma': 7094,\n",
              " 'napunsaktha': 52375,\n",
              " 'workmanship': 30612,\n",
              " 'reisner': 52376,\n",
              " \"sanford's\": 61306,\n",
              " '\\x91doña': 52377,\n",
              " 'modest': 6108,\n",
              " \"everything's\": 19153,\n",
              " 'hamer': 40966,\n",
              " \"couldn't'\": 52379,\n",
              " 'quibble': 13001,\n",
              " 'socking': 52380,\n",
              " 'tingler': 21931,\n",
              " 'gutman': 52381,\n",
              " 'lachlan': 40967,\n",
              " 'tableaus': 52382,\n",
              " 'headbanger': 52383,\n",
              " 'spoken': 2847,\n",
              " 'cerebrally': 34768,\n",
              " \"'road\": 23490,\n",
              " 'tableaux': 21932,\n",
              " \"proust's\": 40968,\n",
              " 'periodical': 40969,\n",
              " \"shoveller's\": 52385,\n",
              " 'tamara': 25263,\n",
              " 'affords': 17641,\n",
              " 'concert': 3249,\n",
              " \"yara's\": 87955,\n",
              " 'someome': 52386,\n",
              " 'lingering': 8424,\n",
              " \"abraham's\": 41511,\n",
              " 'beesley': 34769,\n",
              " 'cherbourg': 34770,\n",
              " 'kagan': 28624,\n",
              " 'snatch': 9097,\n",
              " \"miyazaki's\": 9260,\n",
              " 'absorbs': 25264,\n",
              " \"koltai's\": 40970,\n",
              " 'tingled': 64027,\n",
              " 'crossroads': 19511,\n",
              " 'rehab': 16121,\n",
              " 'falworth': 52389,\n",
              " 'sequals': 52390,\n",
              " ...}"
            ]
          },
          "metadata": {},
          "execution_count": 401
        }
      ]
    },
    {
      "cell_type": "code",
      "metadata": {
        "colab": {
          "base_uri": "https://localhost:8080/"
        },
        "id": "i4xpTEKVtfls",
        "outputId": "ce012c72-92d0-45b2-f495-a16448384272"
      },
      "source": [
        "len(vocab)"
      ],
      "execution_count": null,
      "outputs": [
        {
          "output_type": "execute_result",
          "data": {
            "text/plain": [
              "88584"
            ]
          },
          "metadata": {},
          "execution_count": 402
        }
      ]
    },
    {
      "cell_type": "code",
      "metadata": {
        "id": "YzTZOhpawHvy"
      },
      "source": [
        "# Reverse the word index to obtain a dict mapping indices to words\n",
        "inverted_word_index = {i: word for (word, i) in vocab.items()}"
      ],
      "execution_count": null,
      "outputs": []
    },
    {
      "cell_type": "code",
      "metadata": {
        "colab": {
          "base_uri": "https://localhost:8080/",
          "height": 105
        },
        "id": "yPNmkp-t0d2Q",
        "outputId": "a4a965e2-8fbd-4818-8c17-33951ce12b88"
      },
      "source": [
        "' '.join([str(w) for w in reviews[0][0][1]])"
      ],
      "execution_count": null,
      "outputs": [
        {
          "output_type": "execute_result",
          "data": {
            "application/vnd.google.colaboratory.intrinsic+json": {
              "type": "string"
            },
            "text/plain": [
              "'1 194 1153 194 8255 78 228 5 6 1463 4369 5012 134 26 4 715 8 118 1634 14 394 20 13 119 954 189 102 5 207 110 3103 21 14 69 188 8 30 23 7 4 249 126 93 4 114 9 2300 1523 5 647 4 116 9 35 8163 4 229 9 340 1322 4 118 9 4 130 4901 19 4 1002 5 89 29 952 46 37 4 455 9 45 43 38 1543 1905 398 4 1649 26 6853 5 163 11 3215 10156 4 1153 9 194 775 7 8255 11596 349 2637 148 605 15358 8003 15 123 125 68 23141 6853 15 349 165 4362 98 5 4 228 9 43 36893 1157 15 299 120 5 120 174 11 220 175 136 50 9 4373 228 8255 5 25249 656 245 2350 5 4 9837 131 152 491 18 46151 32 7464 1212 14 9 6 371 78 22 625 64 1382 9 8 168 145 23 4 1690 15 16 4 1355 5 28 6 52 154 462 33 89 78 285 16 145 95'"
            ]
          },
          "metadata": {},
          "execution_count": 404
        }
      ]
    },
    {
      "cell_type": "code",
      "metadata": {
        "colab": {
          "base_uri": "https://localhost:8080/",
          "height": 157
        },
        "id": "k_YRgScQyNjH",
        "outputId": "f88b9aea-a344-4f78-b253-172c1a2b0ccc"
      },
      "source": [
        "# Decode the first sequence in the dataset\n",
        "decoded_sequence = \" \".join(inverted_word_index[i] for i in reviews[0][0][1])\n",
        "decoded_sequence"
      ],
      "execution_count": null,
      "outputs": [
        {
          "output_type": "execute_result",
          "data": {
            "application/vnd.google.colaboratory.intrinsic+json": {
              "type": "string"
            },
            "text/plain": [
              "\"the thought solid thought senator do making to is spot nomination assumed while he of jack in where picked as getting on was did hands fact characters to always life thrillers not as me can't in at are br of sure your way of little it strongly random to view of love it so principles of guy it used producer of where it of here icon film of outside to don't all unique some like of direction it if out her imagination below keep of queen he diverse to makes this stretch stefan of solid it thought begins br senator machinations budget worthwhile though ok brokedown awaiting for ever better were lugia diverse for budget look kicked any to of making it out bosworth's follows for effects show to show cast this family us scenes more it severe making senator to levant's finds tv tend to of emerged these thing wants but fuher an beckinsale cult as it is video do you david see scenery it in few those are of ship for with of wild to one is very work dark they don't do dvd with those them\""
            ]
          },
          "metadata": {},
          "execution_count": 405
        }
      ]
    },
    {
      "cell_type": "code",
      "metadata": {
        "colab": {
          "base_uri": "https://localhost:8080/"
        },
        "id": "6APSGwVazuwy",
        "outputId": "f8b3e806-b0e5-46ff-b808-e6a8680df9fd"
      },
      "source": [
        "reviews[0][1][1]"
      ],
      "execution_count": null,
      "outputs": [
        {
          "output_type": "execute_result",
          "data": {
            "text/plain": [
              "0"
            ]
          },
          "metadata": {},
          "execution_count": 406
        }
      ]
    },
    {
      "cell_type": "markdown",
      "metadata": {
        "id": "dh_7H0n8mCy3"
      },
      "source": [
        "### Ratings"
      ]
    },
    {
      "cell_type": "markdown",
      "metadata": {
        "id": "vM86T10jnpRp"
      },
      "source": [
        "![title](https://static.tacdn.com/img2/brand_refresh/Tripadvisor_lockup_horizontal_secondary_registered.svg)"
      ]
    },
    {
      "cell_type": "markdown",
      "metadata": {
        "id": "BTapvHPypD72"
      },
      "source": [
        "This data set is populated by crawling TripAdvisor.com. Reviews on destinations in 10 categories mentioned across East Asia are considered. Each traveler rating is mapped as Excellent (4), Very Good (3), Average (2), Poor (1), and Terrible (0) and average rating is used against each category per user.\n",
        "\n",
        "* Attribute 1 : Unique user id\n",
        "* Attribute 2 : Average user feedback on art galleries\n",
        "* Attribute 3 : Average user feedback on dance clubs\n",
        "* Attribute 4 : Average user feedback on juice bars\n",
        "* Attribute 5 : Average user feedback on restaurants\n",
        "* Attribute 6 : Average user feedback on museums\n",
        "* Attribute 7 : Average user feedback on resorts\n",
        "* Attribute 8 : Average user feedback on parks/picnic spots\n",
        "* Attribute 9 : Average user feedback on beaches\n",
        "* Attribute 10 : Average user feedback on theaters\n",
        "* Attribute 11 : Average user feedback on religious institutions\n",
        "\n",
        "https://archive.ics.uci.edu/ml/datasets/Travel+Reviews\n"
      ]
    },
    {
      "cell_type": "code",
      "metadata": {
        "id": "cZtKISHupzzF"
      },
      "source": [
        "ratings_columns =  [\n",
        "'id',\n",
        "'art galleries',\n",
        "'dance clubs',\n",
        "'bars',\n",
        "'restaurants',\n",
        "'museums',\n",
        "'resorts',\n",
        "'park spots',\n",
        "'beaches',\n",
        "'theaters',\n",
        "'religious']"
      ],
      "execution_count": null,
      "outputs": []
    },
    {
      "cell_type": "code",
      "metadata": {
        "colab": {
          "base_uri": "https://localhost:8080/",
          "height": 423
        },
        "id": "PQd6VmFnnv_W",
        "outputId": "3481a76b-592f-4b05-a7a9-f99776860cab"
      },
      "source": [
        "ratings = pd.read_csv('https://archive.ics.uci.edu/ml/machine-learning-databases/00484/tripadvisor_review.csv')\n",
        "ratings.columns = ratings_columns\n",
        "ratings"
      ],
      "execution_count": null,
      "outputs": [
        {
          "output_type": "execute_result",
          "data": {
            "text/html": [
              "<div>\n",
              "<style scoped>\n",
              "    .dataframe tbody tr th:only-of-type {\n",
              "        vertical-align: middle;\n",
              "    }\n",
              "\n",
              "    .dataframe tbody tr th {\n",
              "        vertical-align: top;\n",
              "    }\n",
              "\n",
              "    .dataframe thead th {\n",
              "        text-align: right;\n",
              "    }\n",
              "</style>\n",
              "<table border=\"1\" class=\"dataframe\">\n",
              "  <thead>\n",
              "    <tr style=\"text-align: right;\">\n",
              "      <th></th>\n",
              "      <th>id</th>\n",
              "      <th>art galleries</th>\n",
              "      <th>dance clubs</th>\n",
              "      <th>bars</th>\n",
              "      <th>restaurants</th>\n",
              "      <th>museums</th>\n",
              "      <th>resorts</th>\n",
              "      <th>park spots</th>\n",
              "      <th>beaches</th>\n",
              "      <th>theaters</th>\n",
              "      <th>religious</th>\n",
              "    </tr>\n",
              "  </thead>\n",
              "  <tbody>\n",
              "    <tr>\n",
              "      <th>0</th>\n",
              "      <td>User 1</td>\n",
              "      <td>0.93</td>\n",
              "      <td>1.80</td>\n",
              "      <td>2.29</td>\n",
              "      <td>0.62</td>\n",
              "      <td>0.80</td>\n",
              "      <td>2.42</td>\n",
              "      <td>3.19</td>\n",
              "      <td>2.79</td>\n",
              "      <td>1.82</td>\n",
              "      <td>2.42</td>\n",
              "    </tr>\n",
              "    <tr>\n",
              "      <th>1</th>\n",
              "      <td>User 2</td>\n",
              "      <td>1.02</td>\n",
              "      <td>2.20</td>\n",
              "      <td>2.66</td>\n",
              "      <td>0.64</td>\n",
              "      <td>1.42</td>\n",
              "      <td>3.18</td>\n",
              "      <td>3.21</td>\n",
              "      <td>2.63</td>\n",
              "      <td>1.86</td>\n",
              "      <td>2.32</td>\n",
              "    </tr>\n",
              "    <tr>\n",
              "      <th>2</th>\n",
              "      <td>User 3</td>\n",
              "      <td>1.22</td>\n",
              "      <td>0.80</td>\n",
              "      <td>0.54</td>\n",
              "      <td>0.53</td>\n",
              "      <td>0.24</td>\n",
              "      <td>1.54</td>\n",
              "      <td>3.18</td>\n",
              "      <td>2.80</td>\n",
              "      <td>1.31</td>\n",
              "      <td>2.50</td>\n",
              "    </tr>\n",
              "    <tr>\n",
              "      <th>3</th>\n",
              "      <td>User 4</td>\n",
              "      <td>0.45</td>\n",
              "      <td>1.80</td>\n",
              "      <td>0.29</td>\n",
              "      <td>0.57</td>\n",
              "      <td>0.46</td>\n",
              "      <td>1.52</td>\n",
              "      <td>3.18</td>\n",
              "      <td>2.96</td>\n",
              "      <td>1.57</td>\n",
              "      <td>2.86</td>\n",
              "    </tr>\n",
              "    <tr>\n",
              "      <th>4</th>\n",
              "      <td>User 5</td>\n",
              "      <td>0.51</td>\n",
              "      <td>1.20</td>\n",
              "      <td>1.18</td>\n",
              "      <td>0.57</td>\n",
              "      <td>1.54</td>\n",
              "      <td>2.02</td>\n",
              "      <td>3.18</td>\n",
              "      <td>2.78</td>\n",
              "      <td>1.18</td>\n",
              "      <td>2.54</td>\n",
              "    </tr>\n",
              "    <tr>\n",
              "      <th>...</th>\n",
              "      <td>...</td>\n",
              "      <td>...</td>\n",
              "      <td>...</td>\n",
              "      <td>...</td>\n",
              "      <td>...</td>\n",
              "      <td>...</td>\n",
              "      <td>...</td>\n",
              "      <td>...</td>\n",
              "      <td>...</td>\n",
              "      <td>...</td>\n",
              "      <td>...</td>\n",
              "    </tr>\n",
              "    <tr>\n",
              "      <th>975</th>\n",
              "      <td>User 976</td>\n",
              "      <td>0.74</td>\n",
              "      <td>1.12</td>\n",
              "      <td>0.30</td>\n",
              "      <td>0.53</td>\n",
              "      <td>0.88</td>\n",
              "      <td>1.38</td>\n",
              "      <td>3.17</td>\n",
              "      <td>2.78</td>\n",
              "      <td>0.99</td>\n",
              "      <td>3.20</td>\n",
              "    </tr>\n",
              "    <tr>\n",
              "      <th>976</th>\n",
              "      <td>User 977</td>\n",
              "      <td>1.25</td>\n",
              "      <td>0.92</td>\n",
              "      <td>1.12</td>\n",
              "      <td>0.38</td>\n",
              "      <td>0.78</td>\n",
              "      <td>1.68</td>\n",
              "      <td>3.18</td>\n",
              "      <td>2.79</td>\n",
              "      <td>1.34</td>\n",
              "      <td>2.80</td>\n",
              "    </tr>\n",
              "    <tr>\n",
              "      <th>977</th>\n",
              "      <td>User 978</td>\n",
              "      <td>0.61</td>\n",
              "      <td>1.32</td>\n",
              "      <td>0.67</td>\n",
              "      <td>0.43</td>\n",
              "      <td>1.30</td>\n",
              "      <td>1.78</td>\n",
              "      <td>3.17</td>\n",
              "      <td>2.81</td>\n",
              "      <td>1.34</td>\n",
              "      <td>3.02</td>\n",
              "    </tr>\n",
              "    <tr>\n",
              "      <th>978</th>\n",
              "      <td>User 979</td>\n",
              "      <td>0.93</td>\n",
              "      <td>0.20</td>\n",
              "      <td>0.13</td>\n",
              "      <td>0.43</td>\n",
              "      <td>0.30</td>\n",
              "      <td>0.40</td>\n",
              "      <td>3.18</td>\n",
              "      <td>2.98</td>\n",
              "      <td>1.12</td>\n",
              "      <td>2.46</td>\n",
              "    </tr>\n",
              "    <tr>\n",
              "      <th>979</th>\n",
              "      <td>User 980</td>\n",
              "      <td>0.93</td>\n",
              "      <td>0.56</td>\n",
              "      <td>1.13</td>\n",
              "      <td>0.51</td>\n",
              "      <td>1.34</td>\n",
              "      <td>2.36</td>\n",
              "      <td>3.18</td>\n",
              "      <td>2.87</td>\n",
              "      <td>1.34</td>\n",
              "      <td>2.40</td>\n",
              "    </tr>\n",
              "  </tbody>\n",
              "</table>\n",
              "<p>980 rows × 11 columns</p>\n",
              "</div>"
            ],
            "text/plain": [
              "           id  art galleries  dance clubs  ...  beaches  theaters  religious\n",
              "0      User 1           0.93         1.80  ...     2.79      1.82       2.42\n",
              "1      User 2           1.02         2.20  ...     2.63      1.86       2.32\n",
              "2      User 3           1.22         0.80  ...     2.80      1.31       2.50\n",
              "3      User 4           0.45         1.80  ...     2.96      1.57       2.86\n",
              "4      User 5           0.51         1.20  ...     2.78      1.18       2.54\n",
              "..        ...            ...          ...  ...      ...       ...        ...\n",
              "975  User 976           0.74         1.12  ...     2.78      0.99       3.20\n",
              "976  User 977           1.25         0.92  ...     2.79      1.34       2.80\n",
              "977  User 978           0.61         1.32  ...     2.81      1.34       3.02\n",
              "978  User 979           0.93         0.20  ...     2.98      1.12       2.46\n",
              "979  User 980           0.93         0.56  ...     2.87      1.34       2.40\n",
              "\n",
              "[980 rows x 11 columns]"
            ]
          },
          "metadata": {},
          "execution_count": 408
        }
      ]
    },
    {
      "cell_type": "markdown",
      "metadata": {
        "id": "gZpDURYEh1yo"
      },
      "source": [
        "# Variáveis categóricas"
      ]
    },
    {
      "cell_type": "markdown",
      "metadata": {
        "id": "STSkWnGGVHUW"
      },
      "source": [
        "![title](https://m.extra.globo.com/incoming/4640011-3ea-4a2/w488h275-PROP/1998-005155-_19980210globo.jpg)"
      ]
    },
    {
      "cell_type": "code",
      "metadata": {
        "colab": {
          "base_uri": "https://localhost:8080/",
          "height": 458
        },
        "id": "ZUgjjzu71wyi",
        "outputId": "ed918e9b-3d71-4a9a-ba21-c76f6ca53953"
      },
      "source": [
        "titanic = pd.read_csv('https://cin.ufpe.br/~amal/dados/titanic.csv')\n",
        "titanic"
      ],
      "execution_count": null,
      "outputs": [
        {
          "output_type": "execute_result",
          "data": {
            "text/html": [
              "<div>\n",
              "<style scoped>\n",
              "    .dataframe tbody tr th:only-of-type {\n",
              "        vertical-align: middle;\n",
              "    }\n",
              "\n",
              "    .dataframe tbody tr th {\n",
              "        vertical-align: top;\n",
              "    }\n",
              "\n",
              "    .dataframe thead th {\n",
              "        text-align: right;\n",
              "    }\n",
              "</style>\n",
              "<table border=\"1\" class=\"dataframe\">\n",
              "  <thead>\n",
              "    <tr style=\"text-align: right;\">\n",
              "      <th></th>\n",
              "      <th>PassengerId</th>\n",
              "      <th>Survived</th>\n",
              "      <th>Pclass</th>\n",
              "      <th>Name</th>\n",
              "      <th>Sex</th>\n",
              "      <th>Age</th>\n",
              "      <th>SibSp</th>\n",
              "      <th>Parch</th>\n",
              "      <th>Ticket</th>\n",
              "      <th>Fare</th>\n",
              "      <th>Cabin</th>\n",
              "      <th>Embarked</th>\n",
              "    </tr>\n",
              "  </thead>\n",
              "  <tbody>\n",
              "    <tr>\n",
              "      <th>0</th>\n",
              "      <td>1</td>\n",
              "      <td>0</td>\n",
              "      <td>3</td>\n",
              "      <td>Braund, Mr. Owen Harris</td>\n",
              "      <td>male</td>\n",
              "      <td>22.0</td>\n",
              "      <td>1</td>\n",
              "      <td>0</td>\n",
              "      <td>A/5 21171</td>\n",
              "      <td>7.2500</td>\n",
              "      <td>NaN</td>\n",
              "      <td>S</td>\n",
              "    </tr>\n",
              "    <tr>\n",
              "      <th>1</th>\n",
              "      <td>2</td>\n",
              "      <td>1</td>\n",
              "      <td>1</td>\n",
              "      <td>Cumings, Mrs. John Bradley (Florence Briggs Th...</td>\n",
              "      <td>female</td>\n",
              "      <td>38.0</td>\n",
              "      <td>1</td>\n",
              "      <td>0</td>\n",
              "      <td>PC 17599</td>\n",
              "      <td>71.2833</td>\n",
              "      <td>C85</td>\n",
              "      <td>C</td>\n",
              "    </tr>\n",
              "    <tr>\n",
              "      <th>2</th>\n",
              "      <td>3</td>\n",
              "      <td>1</td>\n",
              "      <td>3</td>\n",
              "      <td>Heikkinen, Miss. Laina</td>\n",
              "      <td>female</td>\n",
              "      <td>26.0</td>\n",
              "      <td>0</td>\n",
              "      <td>0</td>\n",
              "      <td>STON/O2. 3101282</td>\n",
              "      <td>7.9250</td>\n",
              "      <td>NaN</td>\n",
              "      <td>S</td>\n",
              "    </tr>\n",
              "    <tr>\n",
              "      <th>3</th>\n",
              "      <td>4</td>\n",
              "      <td>1</td>\n",
              "      <td>1</td>\n",
              "      <td>Futrelle, Mrs. Jacques Heath (Lily May Peel)</td>\n",
              "      <td>female</td>\n",
              "      <td>35.0</td>\n",
              "      <td>1</td>\n",
              "      <td>0</td>\n",
              "      <td>113803</td>\n",
              "      <td>53.1000</td>\n",
              "      <td>C123</td>\n",
              "      <td>S</td>\n",
              "    </tr>\n",
              "    <tr>\n",
              "      <th>4</th>\n",
              "      <td>5</td>\n",
              "      <td>0</td>\n",
              "      <td>3</td>\n",
              "      <td>Allen, Mr. William Henry</td>\n",
              "      <td>male</td>\n",
              "      <td>35.0</td>\n",
              "      <td>0</td>\n",
              "      <td>0</td>\n",
              "      <td>373450</td>\n",
              "      <td>8.0500</td>\n",
              "      <td>NaN</td>\n",
              "      <td>S</td>\n",
              "    </tr>\n",
              "    <tr>\n",
              "      <th>...</th>\n",
              "      <td>...</td>\n",
              "      <td>...</td>\n",
              "      <td>...</td>\n",
              "      <td>...</td>\n",
              "      <td>...</td>\n",
              "      <td>...</td>\n",
              "      <td>...</td>\n",
              "      <td>...</td>\n",
              "      <td>...</td>\n",
              "      <td>...</td>\n",
              "      <td>...</td>\n",
              "      <td>...</td>\n",
              "    </tr>\n",
              "    <tr>\n",
              "      <th>886</th>\n",
              "      <td>887</td>\n",
              "      <td>0</td>\n",
              "      <td>2</td>\n",
              "      <td>Montvila, Rev. Juozas</td>\n",
              "      <td>male</td>\n",
              "      <td>27.0</td>\n",
              "      <td>0</td>\n",
              "      <td>0</td>\n",
              "      <td>211536</td>\n",
              "      <td>13.0000</td>\n",
              "      <td>NaN</td>\n",
              "      <td>S</td>\n",
              "    </tr>\n",
              "    <tr>\n",
              "      <th>887</th>\n",
              "      <td>888</td>\n",
              "      <td>1</td>\n",
              "      <td>1</td>\n",
              "      <td>Graham, Miss. Margaret Edith</td>\n",
              "      <td>female</td>\n",
              "      <td>19.0</td>\n",
              "      <td>0</td>\n",
              "      <td>0</td>\n",
              "      <td>112053</td>\n",
              "      <td>30.0000</td>\n",
              "      <td>B42</td>\n",
              "      <td>S</td>\n",
              "    </tr>\n",
              "    <tr>\n",
              "      <th>888</th>\n",
              "      <td>889</td>\n",
              "      <td>0</td>\n",
              "      <td>3</td>\n",
              "      <td>Johnston, Miss. Catherine Helen \"Carrie\"</td>\n",
              "      <td>female</td>\n",
              "      <td>NaN</td>\n",
              "      <td>1</td>\n",
              "      <td>2</td>\n",
              "      <td>W./C. 6607</td>\n",
              "      <td>23.4500</td>\n",
              "      <td>NaN</td>\n",
              "      <td>S</td>\n",
              "    </tr>\n",
              "    <tr>\n",
              "      <th>889</th>\n",
              "      <td>890</td>\n",
              "      <td>1</td>\n",
              "      <td>1</td>\n",
              "      <td>Behr, Mr. Karl Howell</td>\n",
              "      <td>male</td>\n",
              "      <td>26.0</td>\n",
              "      <td>0</td>\n",
              "      <td>0</td>\n",
              "      <td>111369</td>\n",
              "      <td>30.0000</td>\n",
              "      <td>C148</td>\n",
              "      <td>C</td>\n",
              "    </tr>\n",
              "    <tr>\n",
              "      <th>890</th>\n",
              "      <td>891</td>\n",
              "      <td>0</td>\n",
              "      <td>3</td>\n",
              "      <td>Dooley, Mr. Patrick</td>\n",
              "      <td>male</td>\n",
              "      <td>32.0</td>\n",
              "      <td>0</td>\n",
              "      <td>0</td>\n",
              "      <td>370376</td>\n",
              "      <td>7.7500</td>\n",
              "      <td>NaN</td>\n",
              "      <td>Q</td>\n",
              "    </tr>\n",
              "  </tbody>\n",
              "</table>\n",
              "<p>891 rows × 12 columns</p>\n",
              "</div>"
            ],
            "text/plain": [
              "     PassengerId  Survived  Pclass  ...     Fare Cabin  Embarked\n",
              "0              1         0       3  ...   7.2500   NaN         S\n",
              "1              2         1       1  ...  71.2833   C85         C\n",
              "2              3         1       3  ...   7.9250   NaN         S\n",
              "3              4         1       1  ...  53.1000  C123         S\n",
              "4              5         0       3  ...   8.0500   NaN         S\n",
              "..           ...       ...     ...  ...      ...   ...       ...\n",
              "886          887         0       2  ...  13.0000   NaN         S\n",
              "887          888         1       1  ...  30.0000   B42         S\n",
              "888          889         0       3  ...  23.4500   NaN         S\n",
              "889          890         1       1  ...  30.0000  C148         C\n",
              "890          891         0       3  ...   7.7500   NaN         Q\n",
              "\n",
              "[891 rows x 12 columns]"
            ]
          },
          "metadata": {},
          "execution_count": 409
        }
      ]
    },
    {
      "cell_type": "markdown",
      "metadata": {
        "id": "O5Ld4Q0-CJDF"
      },
      "source": [
        "Variable\tDefinition\tKey\n",
        "* survival\tSurvival\t0 = No, 1 = Yes\n",
        "* pclass\tTicket class\t1 = 1st, 2 = 2nd, 3 = 3rd\n",
        "* sex\tSex\t\n",
        "* Age\tAge in years\t\n",
        "* sibsp\t# of siblings / spouses aboard the Titanic\t\n",
        "* parch\t# of parents / children aboard the Titanic\t\n",
        "* ticket\tTicket number\t\n",
        "* fare\tPassenger fare\t\n",
        "* cabin\tCabin number\t\n",
        "* embarked\tPort of Embarkation\tC = Cherbourg, Q = Queenstown, S = Southampton\n",
        "\n",
        "https://www.kaggle.com/c/titanic/data\n"
      ]
    },
    {
      "cell_type": "markdown",
      "metadata": {
        "id": "tP2nEfxtEhvz"
      },
      "source": [
        "dados ausentes"
      ]
    },
    {
      "cell_type": "code",
      "metadata": {
        "colab": {
          "base_uri": "https://localhost:8080/"
        },
        "id": "hm1M0HRdEjsQ",
        "outputId": "7e2132d5-1b2a-4754-f217-971d615e99b2"
      },
      "source": [
        "titanic.info()"
      ],
      "execution_count": null,
      "outputs": [
        {
          "output_type": "stream",
          "name": "stdout",
          "text": [
            "<class 'pandas.core.frame.DataFrame'>\n",
            "RangeIndex: 891 entries, 0 to 890\n",
            "Data columns (total 12 columns):\n",
            " #   Column       Non-Null Count  Dtype  \n",
            "---  ------       --------------  -----  \n",
            " 0   PassengerId  891 non-null    int64  \n",
            " 1   Survived     891 non-null    int64  \n",
            " 2   Pclass       891 non-null    int64  \n",
            " 3   Name         891 non-null    object \n",
            " 4   Sex          891 non-null    object \n",
            " 5   Age          714 non-null    float64\n",
            " 6   SibSp        891 non-null    int64  \n",
            " 7   Parch        891 non-null    int64  \n",
            " 8   Ticket       891 non-null    object \n",
            " 9   Fare         891 non-null    float64\n",
            " 10  Cabin        204 non-null    object \n",
            " 11  Embarked     889 non-null    object \n",
            "dtypes: float64(2), int64(5), object(5)\n",
            "memory usage: 83.7+ KB\n"
          ]
        }
      ]
    },
    {
      "cell_type": "code",
      "metadata": {
        "colab": {
          "base_uri": "https://localhost:8080/"
        },
        "id": "jNoi_N6HE54h",
        "outputId": "add93fe5-82d3-4d67-b506-b6d05cfd5c8a"
      },
      "source": [
        "titanic['Cabin'].fillna(0)"
      ],
      "execution_count": null,
      "outputs": [
        {
          "output_type": "execute_result",
          "data": {
            "text/plain": [
              "0         0\n",
              "1       C85\n",
              "2         0\n",
              "3      C123\n",
              "4         0\n",
              "       ... \n",
              "886       0\n",
              "887     B42\n",
              "888       0\n",
              "889    C148\n",
              "890       0\n",
              "Name: Cabin, Length: 891, dtype: object"
            ]
          },
          "metadata": {},
          "execution_count": 411
        }
      ]
    },
    {
      "cell_type": "markdown",
      "metadata": {
        "id": "Af5Y6d1nEwdh"
      },
      "source": [
        "dados categóricos"
      ]
    },
    {
      "cell_type": "code",
      "metadata": {
        "id": "Pena1AnxMfIj"
      },
      "source": [
        "titanic['Sex'] = (titanic['Sex'] == 'female') * 1"
      ],
      "execution_count": null,
      "outputs": []
    },
    {
      "cell_type": "code",
      "metadata": {
        "colab": {
          "base_uri": "https://localhost:8080/",
          "height": 493
        },
        "id": "ngjk9C6TH3ni",
        "outputId": "7ebaf08d-82ef-427b-e3bb-508a51dccb9a"
      },
      "source": [
        "embarked_ord = {'C':1, 'Q':2, 'S':3, np.nan:4}\n",
        "titanic['embarked_ord'] = titanic['Embarked'].apply(lambda x: embarked_ord[x])\n",
        "titanic"
      ],
      "execution_count": null,
      "outputs": [
        {
          "output_type": "execute_result",
          "data": {
            "text/html": [
              "<div>\n",
              "<style scoped>\n",
              "    .dataframe tbody tr th:only-of-type {\n",
              "        vertical-align: middle;\n",
              "    }\n",
              "\n",
              "    .dataframe tbody tr th {\n",
              "        vertical-align: top;\n",
              "    }\n",
              "\n",
              "    .dataframe thead th {\n",
              "        text-align: right;\n",
              "    }\n",
              "</style>\n",
              "<table border=\"1\" class=\"dataframe\">\n",
              "  <thead>\n",
              "    <tr style=\"text-align: right;\">\n",
              "      <th></th>\n",
              "      <th>PassengerId</th>\n",
              "      <th>Survived</th>\n",
              "      <th>Pclass</th>\n",
              "      <th>Name</th>\n",
              "      <th>Sex</th>\n",
              "      <th>Age</th>\n",
              "      <th>SibSp</th>\n",
              "      <th>Parch</th>\n",
              "      <th>Ticket</th>\n",
              "      <th>Fare</th>\n",
              "      <th>Cabin</th>\n",
              "      <th>Embarked</th>\n",
              "      <th>embarked_ord</th>\n",
              "    </tr>\n",
              "  </thead>\n",
              "  <tbody>\n",
              "    <tr>\n",
              "      <th>0</th>\n",
              "      <td>1</td>\n",
              "      <td>0</td>\n",
              "      <td>3</td>\n",
              "      <td>Braund, Mr. Owen Harris</td>\n",
              "      <td>0</td>\n",
              "      <td>22.0</td>\n",
              "      <td>1</td>\n",
              "      <td>0</td>\n",
              "      <td>A/5 21171</td>\n",
              "      <td>7.2500</td>\n",
              "      <td>NaN</td>\n",
              "      <td>S</td>\n",
              "      <td>3</td>\n",
              "    </tr>\n",
              "    <tr>\n",
              "      <th>1</th>\n",
              "      <td>2</td>\n",
              "      <td>1</td>\n",
              "      <td>1</td>\n",
              "      <td>Cumings, Mrs. John Bradley (Florence Briggs Th...</td>\n",
              "      <td>1</td>\n",
              "      <td>38.0</td>\n",
              "      <td>1</td>\n",
              "      <td>0</td>\n",
              "      <td>PC 17599</td>\n",
              "      <td>71.2833</td>\n",
              "      <td>C85</td>\n",
              "      <td>C</td>\n",
              "      <td>1</td>\n",
              "    </tr>\n",
              "    <tr>\n",
              "      <th>2</th>\n",
              "      <td>3</td>\n",
              "      <td>1</td>\n",
              "      <td>3</td>\n",
              "      <td>Heikkinen, Miss. Laina</td>\n",
              "      <td>1</td>\n",
              "      <td>26.0</td>\n",
              "      <td>0</td>\n",
              "      <td>0</td>\n",
              "      <td>STON/O2. 3101282</td>\n",
              "      <td>7.9250</td>\n",
              "      <td>NaN</td>\n",
              "      <td>S</td>\n",
              "      <td>3</td>\n",
              "    </tr>\n",
              "    <tr>\n",
              "      <th>3</th>\n",
              "      <td>4</td>\n",
              "      <td>1</td>\n",
              "      <td>1</td>\n",
              "      <td>Futrelle, Mrs. Jacques Heath (Lily May Peel)</td>\n",
              "      <td>1</td>\n",
              "      <td>35.0</td>\n",
              "      <td>1</td>\n",
              "      <td>0</td>\n",
              "      <td>113803</td>\n",
              "      <td>53.1000</td>\n",
              "      <td>C123</td>\n",
              "      <td>S</td>\n",
              "      <td>3</td>\n",
              "    </tr>\n",
              "    <tr>\n",
              "      <th>4</th>\n",
              "      <td>5</td>\n",
              "      <td>0</td>\n",
              "      <td>3</td>\n",
              "      <td>Allen, Mr. William Henry</td>\n",
              "      <td>0</td>\n",
              "      <td>35.0</td>\n",
              "      <td>0</td>\n",
              "      <td>0</td>\n",
              "      <td>373450</td>\n",
              "      <td>8.0500</td>\n",
              "      <td>NaN</td>\n",
              "      <td>S</td>\n",
              "      <td>3</td>\n",
              "    </tr>\n",
              "    <tr>\n",
              "      <th>...</th>\n",
              "      <td>...</td>\n",
              "      <td>...</td>\n",
              "      <td>...</td>\n",
              "      <td>...</td>\n",
              "      <td>...</td>\n",
              "      <td>...</td>\n",
              "      <td>...</td>\n",
              "      <td>...</td>\n",
              "      <td>...</td>\n",
              "      <td>...</td>\n",
              "      <td>...</td>\n",
              "      <td>...</td>\n",
              "      <td>...</td>\n",
              "    </tr>\n",
              "    <tr>\n",
              "      <th>886</th>\n",
              "      <td>887</td>\n",
              "      <td>0</td>\n",
              "      <td>2</td>\n",
              "      <td>Montvila, Rev. Juozas</td>\n",
              "      <td>0</td>\n",
              "      <td>27.0</td>\n",
              "      <td>0</td>\n",
              "      <td>0</td>\n",
              "      <td>211536</td>\n",
              "      <td>13.0000</td>\n",
              "      <td>NaN</td>\n",
              "      <td>S</td>\n",
              "      <td>3</td>\n",
              "    </tr>\n",
              "    <tr>\n",
              "      <th>887</th>\n",
              "      <td>888</td>\n",
              "      <td>1</td>\n",
              "      <td>1</td>\n",
              "      <td>Graham, Miss. Margaret Edith</td>\n",
              "      <td>1</td>\n",
              "      <td>19.0</td>\n",
              "      <td>0</td>\n",
              "      <td>0</td>\n",
              "      <td>112053</td>\n",
              "      <td>30.0000</td>\n",
              "      <td>B42</td>\n",
              "      <td>S</td>\n",
              "      <td>3</td>\n",
              "    </tr>\n",
              "    <tr>\n",
              "      <th>888</th>\n",
              "      <td>889</td>\n",
              "      <td>0</td>\n",
              "      <td>3</td>\n",
              "      <td>Johnston, Miss. Catherine Helen \"Carrie\"</td>\n",
              "      <td>1</td>\n",
              "      <td>NaN</td>\n",
              "      <td>1</td>\n",
              "      <td>2</td>\n",
              "      <td>W./C. 6607</td>\n",
              "      <td>23.4500</td>\n",
              "      <td>NaN</td>\n",
              "      <td>S</td>\n",
              "      <td>3</td>\n",
              "    </tr>\n",
              "    <tr>\n",
              "      <th>889</th>\n",
              "      <td>890</td>\n",
              "      <td>1</td>\n",
              "      <td>1</td>\n",
              "      <td>Behr, Mr. Karl Howell</td>\n",
              "      <td>0</td>\n",
              "      <td>26.0</td>\n",
              "      <td>0</td>\n",
              "      <td>0</td>\n",
              "      <td>111369</td>\n",
              "      <td>30.0000</td>\n",
              "      <td>C148</td>\n",
              "      <td>C</td>\n",
              "      <td>1</td>\n",
              "    </tr>\n",
              "    <tr>\n",
              "      <th>890</th>\n",
              "      <td>891</td>\n",
              "      <td>0</td>\n",
              "      <td>3</td>\n",
              "      <td>Dooley, Mr. Patrick</td>\n",
              "      <td>0</td>\n",
              "      <td>32.0</td>\n",
              "      <td>0</td>\n",
              "      <td>0</td>\n",
              "      <td>370376</td>\n",
              "      <td>7.7500</td>\n",
              "      <td>NaN</td>\n",
              "      <td>Q</td>\n",
              "      <td>2</td>\n",
              "    </tr>\n",
              "  </tbody>\n",
              "</table>\n",
              "<p>891 rows × 13 columns</p>\n",
              "</div>"
            ],
            "text/plain": [
              "     PassengerId  Survived  Pclass  ... Cabin  Embarked  embarked_ord\n",
              "0              1         0       3  ...   NaN         S             3\n",
              "1              2         1       1  ...   C85         C             1\n",
              "2              3         1       3  ...   NaN         S             3\n",
              "3              4         1       1  ...  C123         S             3\n",
              "4              5         0       3  ...   NaN         S             3\n",
              "..           ...       ...     ...  ...   ...       ...           ...\n",
              "886          887         0       2  ...   NaN         S             3\n",
              "887          888         1       1  ...   B42         S             3\n",
              "888          889         0       3  ...   NaN         S             3\n",
              "889          890         1       1  ...  C148         C             1\n",
              "890          891         0       3  ...   NaN         Q             2\n",
              "\n",
              "[891 rows x 13 columns]"
            ]
          },
          "metadata": {},
          "execution_count": 413
        }
      ]
    },
    {
      "cell_type": "code",
      "metadata": {
        "colab": {
          "base_uri": "https://localhost:8080/",
          "height": 946
        },
        "id": "bk4lKjJrEI7D",
        "outputId": "71bf3cfb-cce5-46dc-8fb0-06c1759342f8"
      },
      "source": [
        "embarked_oh = {'C':'Cherbourg', 'Q':'Queenstown', 'S':'Southampton'}\n",
        "for key, value in embarked_oh.items():\n",
        "  #titanic[value] = (titanic['Embarked'] == key)\n",
        "  titanic[value] = (titanic['Embarked'] == key) * 1\n",
        "else:\n",
        "  pass\n",
        "  #titanic.pop('Embarked')\n",
        "titanic"
      ],
      "execution_count": null,
      "outputs": [
        {
          "output_type": "execute_result",
          "data": {
            "text/html": [
              "<div>\n",
              "<style scoped>\n",
              "    .dataframe tbody tr th:only-of-type {\n",
              "        vertical-align: middle;\n",
              "    }\n",
              "\n",
              "    .dataframe tbody tr th {\n",
              "        vertical-align: top;\n",
              "    }\n",
              "\n",
              "    .dataframe thead th {\n",
              "        text-align: right;\n",
              "    }\n",
              "</style>\n",
              "<table border=\"1\" class=\"dataframe\">\n",
              "  <thead>\n",
              "    <tr style=\"text-align: right;\">\n",
              "      <th></th>\n",
              "      <th>PassengerId</th>\n",
              "      <th>Survived</th>\n",
              "      <th>Pclass</th>\n",
              "      <th>Name</th>\n",
              "      <th>Sex</th>\n",
              "      <th>Age</th>\n",
              "      <th>SibSp</th>\n",
              "      <th>Parch</th>\n",
              "      <th>Ticket</th>\n",
              "      <th>Fare</th>\n",
              "      <th>Cabin</th>\n",
              "      <th>Embarked</th>\n",
              "      <th>embarked_ord</th>\n",
              "      <th>Cherbourg</th>\n",
              "      <th>Queenstown</th>\n",
              "      <th>Southampton</th>\n",
              "    </tr>\n",
              "  </thead>\n",
              "  <tbody>\n",
              "    <tr>\n",
              "      <th>0</th>\n",
              "      <td>1</td>\n",
              "      <td>0</td>\n",
              "      <td>3</td>\n",
              "      <td>Braund, Mr. Owen Harris</td>\n",
              "      <td>0</td>\n",
              "      <td>22.0</td>\n",
              "      <td>1</td>\n",
              "      <td>0</td>\n",
              "      <td>A/5 21171</td>\n",
              "      <td>7.2500</td>\n",
              "      <td>NaN</td>\n",
              "      <td>S</td>\n",
              "      <td>3</td>\n",
              "      <td>0</td>\n",
              "      <td>0</td>\n",
              "      <td>1</td>\n",
              "    </tr>\n",
              "    <tr>\n",
              "      <th>1</th>\n",
              "      <td>2</td>\n",
              "      <td>1</td>\n",
              "      <td>1</td>\n",
              "      <td>Cumings, Mrs. John Bradley (Florence Briggs Th...</td>\n",
              "      <td>1</td>\n",
              "      <td>38.0</td>\n",
              "      <td>1</td>\n",
              "      <td>0</td>\n",
              "      <td>PC 17599</td>\n",
              "      <td>71.2833</td>\n",
              "      <td>C85</td>\n",
              "      <td>C</td>\n",
              "      <td>1</td>\n",
              "      <td>1</td>\n",
              "      <td>0</td>\n",
              "      <td>0</td>\n",
              "    </tr>\n",
              "    <tr>\n",
              "      <th>2</th>\n",
              "      <td>3</td>\n",
              "      <td>1</td>\n",
              "      <td>3</td>\n",
              "      <td>Heikkinen, Miss. Laina</td>\n",
              "      <td>1</td>\n",
              "      <td>26.0</td>\n",
              "      <td>0</td>\n",
              "      <td>0</td>\n",
              "      <td>STON/O2. 3101282</td>\n",
              "      <td>7.9250</td>\n",
              "      <td>NaN</td>\n",
              "      <td>S</td>\n",
              "      <td>3</td>\n",
              "      <td>0</td>\n",
              "      <td>0</td>\n",
              "      <td>1</td>\n",
              "    </tr>\n",
              "    <tr>\n",
              "      <th>3</th>\n",
              "      <td>4</td>\n",
              "      <td>1</td>\n",
              "      <td>1</td>\n",
              "      <td>Futrelle, Mrs. Jacques Heath (Lily May Peel)</td>\n",
              "      <td>1</td>\n",
              "      <td>35.0</td>\n",
              "      <td>1</td>\n",
              "      <td>0</td>\n",
              "      <td>113803</td>\n",
              "      <td>53.1000</td>\n",
              "      <td>C123</td>\n",
              "      <td>S</td>\n",
              "      <td>3</td>\n",
              "      <td>0</td>\n",
              "      <td>0</td>\n",
              "      <td>1</td>\n",
              "    </tr>\n",
              "    <tr>\n",
              "      <th>4</th>\n",
              "      <td>5</td>\n",
              "      <td>0</td>\n",
              "      <td>3</td>\n",
              "      <td>Allen, Mr. William Henry</td>\n",
              "      <td>0</td>\n",
              "      <td>35.0</td>\n",
              "      <td>0</td>\n",
              "      <td>0</td>\n",
              "      <td>373450</td>\n",
              "      <td>8.0500</td>\n",
              "      <td>NaN</td>\n",
              "      <td>S</td>\n",
              "      <td>3</td>\n",
              "      <td>0</td>\n",
              "      <td>0</td>\n",
              "      <td>1</td>\n",
              "    </tr>\n",
              "    <tr>\n",
              "      <th>...</th>\n",
              "      <td>...</td>\n",
              "      <td>...</td>\n",
              "      <td>...</td>\n",
              "      <td>...</td>\n",
              "      <td>...</td>\n",
              "      <td>...</td>\n",
              "      <td>...</td>\n",
              "      <td>...</td>\n",
              "      <td>...</td>\n",
              "      <td>...</td>\n",
              "      <td>...</td>\n",
              "      <td>...</td>\n",
              "      <td>...</td>\n",
              "      <td>...</td>\n",
              "      <td>...</td>\n",
              "      <td>...</td>\n",
              "    </tr>\n",
              "    <tr>\n",
              "      <th>886</th>\n",
              "      <td>887</td>\n",
              "      <td>0</td>\n",
              "      <td>2</td>\n",
              "      <td>Montvila, Rev. Juozas</td>\n",
              "      <td>0</td>\n",
              "      <td>27.0</td>\n",
              "      <td>0</td>\n",
              "      <td>0</td>\n",
              "      <td>211536</td>\n",
              "      <td>13.0000</td>\n",
              "      <td>NaN</td>\n",
              "      <td>S</td>\n",
              "      <td>3</td>\n",
              "      <td>0</td>\n",
              "      <td>0</td>\n",
              "      <td>1</td>\n",
              "    </tr>\n",
              "    <tr>\n",
              "      <th>887</th>\n",
              "      <td>888</td>\n",
              "      <td>1</td>\n",
              "      <td>1</td>\n",
              "      <td>Graham, Miss. Margaret Edith</td>\n",
              "      <td>1</td>\n",
              "      <td>19.0</td>\n",
              "      <td>0</td>\n",
              "      <td>0</td>\n",
              "      <td>112053</td>\n",
              "      <td>30.0000</td>\n",
              "      <td>B42</td>\n",
              "      <td>S</td>\n",
              "      <td>3</td>\n",
              "      <td>0</td>\n",
              "      <td>0</td>\n",
              "      <td>1</td>\n",
              "    </tr>\n",
              "    <tr>\n",
              "      <th>888</th>\n",
              "      <td>889</td>\n",
              "      <td>0</td>\n",
              "      <td>3</td>\n",
              "      <td>Johnston, Miss. Catherine Helen \"Carrie\"</td>\n",
              "      <td>1</td>\n",
              "      <td>NaN</td>\n",
              "      <td>1</td>\n",
              "      <td>2</td>\n",
              "      <td>W./C. 6607</td>\n",
              "      <td>23.4500</td>\n",
              "      <td>NaN</td>\n",
              "      <td>S</td>\n",
              "      <td>3</td>\n",
              "      <td>0</td>\n",
              "      <td>0</td>\n",
              "      <td>1</td>\n",
              "    </tr>\n",
              "    <tr>\n",
              "      <th>889</th>\n",
              "      <td>890</td>\n",
              "      <td>1</td>\n",
              "      <td>1</td>\n",
              "      <td>Behr, Mr. Karl Howell</td>\n",
              "      <td>0</td>\n",
              "      <td>26.0</td>\n",
              "      <td>0</td>\n",
              "      <td>0</td>\n",
              "      <td>111369</td>\n",
              "      <td>30.0000</td>\n",
              "      <td>C148</td>\n",
              "      <td>C</td>\n",
              "      <td>1</td>\n",
              "      <td>1</td>\n",
              "      <td>0</td>\n",
              "      <td>0</td>\n",
              "    </tr>\n",
              "    <tr>\n",
              "      <th>890</th>\n",
              "      <td>891</td>\n",
              "      <td>0</td>\n",
              "      <td>3</td>\n",
              "      <td>Dooley, Mr. Patrick</td>\n",
              "      <td>0</td>\n",
              "      <td>32.0</td>\n",
              "      <td>0</td>\n",
              "      <td>0</td>\n",
              "      <td>370376</td>\n",
              "      <td>7.7500</td>\n",
              "      <td>NaN</td>\n",
              "      <td>Q</td>\n",
              "      <td>2</td>\n",
              "      <td>0</td>\n",
              "      <td>1</td>\n",
              "      <td>0</td>\n",
              "    </tr>\n",
              "  </tbody>\n",
              "</table>\n",
              "<p>891 rows × 16 columns</p>\n",
              "</div>"
            ],
            "text/plain": [
              "     PassengerId  Survived  Pclass  ... Cherbourg  Queenstown  Southampton\n",
              "0              1         0       3  ...         0           0            1\n",
              "1              2         1       1  ...         1           0            0\n",
              "2              3         1       3  ...         0           0            1\n",
              "3              4         1       1  ...         0           0            1\n",
              "4              5         0       3  ...         0           0            1\n",
              "..           ...       ...     ...  ...       ...         ...          ...\n",
              "886          887         0       2  ...         0           0            1\n",
              "887          888         1       1  ...         0           0            1\n",
              "888          889         0       3  ...         0           0            1\n",
              "889          890         1       1  ...         1           0            0\n",
              "890          891         0       3  ...         0           1            0\n",
              "\n",
              "[891 rows x 16 columns]"
            ]
          },
          "metadata": {},
          "execution_count": 414
        }
      ]
    },
    {
      "cell_type": "code",
      "metadata": {
        "colab": {
          "base_uri": "https://localhost:8080/"
        },
        "id": "qfbAwki6HQvf",
        "outputId": "33dfc348-b02a-43af-8088-650cf6200910"
      },
      "source": [
        "titanic[['Cherbourg','Queenstown','Southampton']].corrwith(titanic['Survived'])"
      ],
      "execution_count": null,
      "outputs": [
        {
          "output_type": "execute_result",
          "data": {
            "text/plain": [
              "Cherbourg      0.16824\n",
              "Queenstown     0.00365\n",
              "Southampton   -0.15566\n",
              "dtype: float64"
            ]
          },
          "metadata": {},
          "execution_count": 415
        }
      ]
    },
    {
      "cell_type": "code",
      "metadata": {
        "colab": {
          "base_uri": "https://localhost:8080/",
          "height": 112
        },
        "id": "hIDCQ_axKDtY",
        "outputId": "c4ecc48b-b83a-43d5-9ad1-80d86659c55e"
      },
      "source": [
        "titanic[['embarked_ord','Survived']].corr()"
      ],
      "execution_count": null,
      "outputs": [
        {
          "output_type": "execute_result",
          "data": {
            "text/html": [
              "<div>\n",
              "<style scoped>\n",
              "    .dataframe tbody tr th:only-of-type {\n",
              "        vertical-align: middle;\n",
              "    }\n",
              "\n",
              "    .dataframe tbody tr th {\n",
              "        vertical-align: top;\n",
              "    }\n",
              "\n",
              "    .dataframe thead th {\n",
              "        text-align: right;\n",
              "    }\n",
              "</style>\n",
              "<table border=\"1\" class=\"dataframe\">\n",
              "  <thead>\n",
              "    <tr style=\"text-align: right;\">\n",
              "      <th></th>\n",
              "      <th>embarked_ord</th>\n",
              "      <th>Survived</th>\n",
              "    </tr>\n",
              "  </thead>\n",
              "  <tbody>\n",
              "    <tr>\n",
              "      <th>embarked_ord</th>\n",
              "      <td>1.000000</td>\n",
              "      <td>-0.163517</td>\n",
              "    </tr>\n",
              "    <tr>\n",
              "      <th>Survived</th>\n",
              "      <td>-0.163517</td>\n",
              "      <td>1.000000</td>\n",
              "    </tr>\n",
              "  </tbody>\n",
              "</table>\n",
              "</div>"
            ],
            "text/plain": [
              "              embarked_ord  Survived\n",
              "embarked_ord      1.000000 -0.163517\n",
              "Survived         -0.163517  1.000000"
            ]
          },
          "metadata": {},
          "execution_count": 416
        }
      ]
    },
    {
      "cell_type": "markdown",
      "metadata": {
        "id": "YrCYXhb6KnnE"
      },
      "source": [
        "correlação com codificação ordinal foi diferente do que o one-hot enconding, que faz sentido para eventos independentes. "
      ]
    },
    {
      "cell_type": "markdown",
      "metadata": {
        "id": "YkKmGFFSLCmn"
      },
      "source": [
        "E no caso da cabine?"
      ]
    },
    {
      "cell_type": "code",
      "metadata": {
        "colab": {
          "base_uri": "https://localhost:8080/"
        },
        "id": "lHhrNkg4mbUb",
        "outputId": "5db1354d-3905-4776-f4d1-c3c0f81f2cdc"
      },
      "source": [
        "survivors = titanic['Survived']\n",
        "survivors"
      ],
      "execution_count": null,
      "outputs": [
        {
          "output_type": "execute_result",
          "data": {
            "text/plain": [
              "0      0\n",
              "1      1\n",
              "2      1\n",
              "3      1\n",
              "4      0\n",
              "      ..\n",
              "886    0\n",
              "887    1\n",
              "888    0\n",
              "889    1\n",
              "890    0\n",
              "Name: Survived, Length: 891, dtype: int64"
            ]
          },
          "metadata": {},
          "execution_count": 417
        }
      ]
    },
    {
      "cell_type": "code",
      "metadata": {
        "id": "ynDrykLDU4-T"
      },
      "source": [
        "titanic.drop(['PassengerId','Name', 'Ticket','Cabin','Embarked','Survived','embarked_ord'], axis=1, inplace=True)"
      ],
      "execution_count": null,
      "outputs": []
    },
    {
      "cell_type": "code",
      "metadata": {
        "id": "O-tm26BBTzVz"
      },
      "source": [
        "titanic = titanic.loc[~(titanic['Age'].isna())]"
      ],
      "execution_count": null,
      "outputs": []
    },
    {
      "cell_type": "code",
      "metadata": {
        "id": "5OrC4n5EMy_c"
      },
      "source": [
        "#titanic.pop('Name')\n",
        "#titanic.pop('Ticket')\n",
        "#titanic.pop('Cabin')\n",
        "#titanic.pop('Embarked')\n",
        "#titanic.pop('Survived')\n",
        "#titanic.pop('embarked_ord')"
      ],
      "execution_count": null,
      "outputs": []
    },
    {
      "cell_type": "markdown",
      "metadata": {
        "id": "vrtJKpNa3cmZ"
      },
      "source": [
        "Matrizes esparsas"
      ]
    },
    {
      "cell_type": "code",
      "metadata": {
        "colab": {
          "base_uri": "https://localhost:8080/"
        },
        "id": "kWRR12Y53ZUE",
        "outputId": "e73236f1-027f-4220-a31f-ea1975f0cc2c"
      },
      "source": [
        "reviews[0][0][1]"
      ],
      "execution_count": null,
      "outputs": [
        {
          "output_type": "execute_result",
          "data": {
            "text/plain": [
              "[1,\n",
              " 194,\n",
              " 1153,\n",
              " 194,\n",
              " 8255,\n",
              " 78,\n",
              " 228,\n",
              " 5,\n",
              " 6,\n",
              " 1463,\n",
              " 4369,\n",
              " 5012,\n",
              " 134,\n",
              " 26,\n",
              " 4,\n",
              " 715,\n",
              " 8,\n",
              " 118,\n",
              " 1634,\n",
              " 14,\n",
              " 394,\n",
              " 20,\n",
              " 13,\n",
              " 119,\n",
              " 954,\n",
              " 189,\n",
              " 102,\n",
              " 5,\n",
              " 207,\n",
              " 110,\n",
              " 3103,\n",
              " 21,\n",
              " 14,\n",
              " 69,\n",
              " 188,\n",
              " 8,\n",
              " 30,\n",
              " 23,\n",
              " 7,\n",
              " 4,\n",
              " 249,\n",
              " 126,\n",
              " 93,\n",
              " 4,\n",
              " 114,\n",
              " 9,\n",
              " 2300,\n",
              " 1523,\n",
              " 5,\n",
              " 647,\n",
              " 4,\n",
              " 116,\n",
              " 9,\n",
              " 35,\n",
              " 8163,\n",
              " 4,\n",
              " 229,\n",
              " 9,\n",
              " 340,\n",
              " 1322,\n",
              " 4,\n",
              " 118,\n",
              " 9,\n",
              " 4,\n",
              " 130,\n",
              " 4901,\n",
              " 19,\n",
              " 4,\n",
              " 1002,\n",
              " 5,\n",
              " 89,\n",
              " 29,\n",
              " 952,\n",
              " 46,\n",
              " 37,\n",
              " 4,\n",
              " 455,\n",
              " 9,\n",
              " 45,\n",
              " 43,\n",
              " 38,\n",
              " 1543,\n",
              " 1905,\n",
              " 398,\n",
              " 4,\n",
              " 1649,\n",
              " 26,\n",
              " 6853,\n",
              " 5,\n",
              " 163,\n",
              " 11,\n",
              " 3215,\n",
              " 10156,\n",
              " 4,\n",
              " 1153,\n",
              " 9,\n",
              " 194,\n",
              " 775,\n",
              " 7,\n",
              " 8255,\n",
              " 11596,\n",
              " 349,\n",
              " 2637,\n",
              " 148,\n",
              " 605,\n",
              " 15358,\n",
              " 8003,\n",
              " 15,\n",
              " 123,\n",
              " 125,\n",
              " 68,\n",
              " 23141,\n",
              " 6853,\n",
              " 15,\n",
              " 349,\n",
              " 165,\n",
              " 4362,\n",
              " 98,\n",
              " 5,\n",
              " 4,\n",
              " 228,\n",
              " 9,\n",
              " 43,\n",
              " 36893,\n",
              " 1157,\n",
              " 15,\n",
              " 299,\n",
              " 120,\n",
              " 5,\n",
              " 120,\n",
              " 174,\n",
              " 11,\n",
              " 220,\n",
              " 175,\n",
              " 136,\n",
              " 50,\n",
              " 9,\n",
              " 4373,\n",
              " 228,\n",
              " 8255,\n",
              " 5,\n",
              " 25249,\n",
              " 656,\n",
              " 245,\n",
              " 2350,\n",
              " 5,\n",
              " 4,\n",
              " 9837,\n",
              " 131,\n",
              " 152,\n",
              " 491,\n",
              " 18,\n",
              " 46151,\n",
              " 32,\n",
              " 7464,\n",
              " 1212,\n",
              " 14,\n",
              " 9,\n",
              " 6,\n",
              " 371,\n",
              " 78,\n",
              " 22,\n",
              " 625,\n",
              " 64,\n",
              " 1382,\n",
              " 9,\n",
              " 8,\n",
              " 168,\n",
              " 145,\n",
              " 23,\n",
              " 4,\n",
              " 1690,\n",
              " 15,\n",
              " 16,\n",
              " 4,\n",
              " 1355,\n",
              " 5,\n",
              " 28,\n",
              " 6,\n",
              " 52,\n",
              " 154,\n",
              " 462,\n",
              " 33,\n",
              " 89,\n",
              " 78,\n",
              " 285,\n",
              " 16,\n",
              " 145,\n",
              " 95]"
            ]
          },
          "metadata": {},
          "execution_count": 421
        }
      ]
    },
    {
      "cell_type": "code",
      "metadata": {
        "id": "gn7M41Q94Ev2"
      },
      "source": [
        "vocab_review = {k:0  for k in range(len(vocab))}\n",
        "for palavra in reviews[0][0][1]:\n",
        "  vocab_review[palavra] += 1"
      ],
      "execution_count": null,
      "outputs": []
    },
    {
      "cell_type": "code",
      "metadata": {
        "colab": {
          "base_uri": "https://localhost:8080/"
        },
        "id": "nfBoLOA-5S2V",
        "outputId": "8e79c19f-dbdb-4310-a11d-d69e1c72d2a9"
      },
      "source": [
        "vocab_review"
      ],
      "execution_count": null,
      "outputs": [
        {
          "output_type": "execute_result",
          "data": {
            "text/plain": [
              "{0: 0,\n",
              " 1: 1,\n",
              " 2: 0,\n",
              " 3: 0,\n",
              " 4: 15,\n",
              " 5: 10,\n",
              " 6: 3,\n",
              " 7: 2,\n",
              " 8: 3,\n",
              " 9: 10,\n",
              " 10: 0,\n",
              " 11: 2,\n",
              " 12: 0,\n",
              " 13: 1,\n",
              " 14: 3,\n",
              " 15: 4,\n",
              " 16: 2,\n",
              " 17: 0,\n",
              " 18: 1,\n",
              " 19: 1,\n",
              " 20: 1,\n",
              " 21: 1,\n",
              " 22: 1,\n",
              " 23: 2,\n",
              " 24: 0,\n",
              " 25: 0,\n",
              " 26: 2,\n",
              " 27: 0,\n",
              " 28: 1,\n",
              " 29: 1,\n",
              " 30: 1,\n",
              " 31: 0,\n",
              " 32: 1,\n",
              " 33: 1,\n",
              " 34: 0,\n",
              " 35: 1,\n",
              " 36: 0,\n",
              " 37: 1,\n",
              " 38: 1,\n",
              " 39: 0,\n",
              " 40: 0,\n",
              " 41: 0,\n",
              " 42: 0,\n",
              " 43: 2,\n",
              " 44: 0,\n",
              " 45: 1,\n",
              " 46: 1,\n",
              " 47: 0,\n",
              " 48: 0,\n",
              " 49: 0,\n",
              " 50: 1,\n",
              " 51: 0,\n",
              " 52: 1,\n",
              " 53: 0,\n",
              " 54: 0,\n",
              " 55: 0,\n",
              " 56: 0,\n",
              " 57: 0,\n",
              " 58: 0,\n",
              " 59: 0,\n",
              " 60: 0,\n",
              " 61: 0,\n",
              " 62: 0,\n",
              " 63: 0,\n",
              " 64: 1,\n",
              " 65: 0,\n",
              " 66: 0,\n",
              " 67: 0,\n",
              " 68: 1,\n",
              " 69: 1,\n",
              " 70: 0,\n",
              " 71: 0,\n",
              " 72: 0,\n",
              " 73: 0,\n",
              " 74: 0,\n",
              " 75: 0,\n",
              " 76: 0,\n",
              " 77: 0,\n",
              " 78: 3,\n",
              " 79: 0,\n",
              " 80: 0,\n",
              " 81: 0,\n",
              " 82: 0,\n",
              " 83: 0,\n",
              " 84: 0,\n",
              " 85: 0,\n",
              " 86: 0,\n",
              " 87: 0,\n",
              " 88: 0,\n",
              " 89: 2,\n",
              " 90: 0,\n",
              " 91: 0,\n",
              " 92: 0,\n",
              " 93: 1,\n",
              " 94: 0,\n",
              " 95: 1,\n",
              " 96: 0,\n",
              " 97: 0,\n",
              " 98: 1,\n",
              " 99: 0,\n",
              " 100: 0,\n",
              " 101: 0,\n",
              " 102: 1,\n",
              " 103: 0,\n",
              " 104: 0,\n",
              " 105: 0,\n",
              " 106: 0,\n",
              " 107: 0,\n",
              " 108: 0,\n",
              " 109: 0,\n",
              " 110: 1,\n",
              " 111: 0,\n",
              " 112: 0,\n",
              " 113: 0,\n",
              " 114: 1,\n",
              " 115: 0,\n",
              " 116: 1,\n",
              " 117: 0,\n",
              " 118: 2,\n",
              " 119: 1,\n",
              " 120: 2,\n",
              " 121: 0,\n",
              " 122: 0,\n",
              " 123: 1,\n",
              " 124: 0,\n",
              " 125: 1,\n",
              " 126: 1,\n",
              " 127: 0,\n",
              " 128: 0,\n",
              " 129: 0,\n",
              " 130: 1,\n",
              " 131: 1,\n",
              " 132: 0,\n",
              " 133: 0,\n",
              " 134: 1,\n",
              " 135: 0,\n",
              " 136: 1,\n",
              " 137: 0,\n",
              " 138: 0,\n",
              " 139: 0,\n",
              " 140: 0,\n",
              " 141: 0,\n",
              " 142: 0,\n",
              " 143: 0,\n",
              " 144: 0,\n",
              " 145: 2,\n",
              " 146: 0,\n",
              " 147: 0,\n",
              " 148: 1,\n",
              " 149: 0,\n",
              " 150: 0,\n",
              " 151: 0,\n",
              " 152: 1,\n",
              " 153: 0,\n",
              " 154: 1,\n",
              " 155: 0,\n",
              " 156: 0,\n",
              " 157: 0,\n",
              " 158: 0,\n",
              " 159: 0,\n",
              " 160: 0,\n",
              " 161: 0,\n",
              " 162: 0,\n",
              " 163: 1,\n",
              " 164: 0,\n",
              " 165: 1,\n",
              " 166: 0,\n",
              " 167: 0,\n",
              " 168: 1,\n",
              " 169: 0,\n",
              " 170: 0,\n",
              " 171: 0,\n",
              " 172: 0,\n",
              " 173: 0,\n",
              " 174: 1,\n",
              " 175: 1,\n",
              " 176: 0,\n",
              " 177: 0,\n",
              " 178: 0,\n",
              " 179: 0,\n",
              " 180: 0,\n",
              " 181: 0,\n",
              " 182: 0,\n",
              " 183: 0,\n",
              " 184: 0,\n",
              " 185: 0,\n",
              " 186: 0,\n",
              " 187: 0,\n",
              " 188: 1,\n",
              " 189: 1,\n",
              " 190: 0,\n",
              " 191: 0,\n",
              " 192: 0,\n",
              " 193: 0,\n",
              " 194: 3,\n",
              " 195: 0,\n",
              " 196: 0,\n",
              " 197: 0,\n",
              " 198: 0,\n",
              " 199: 0,\n",
              " 200: 0,\n",
              " 201: 0,\n",
              " 202: 0,\n",
              " 203: 0,\n",
              " 204: 0,\n",
              " 205: 0,\n",
              " 206: 0,\n",
              " 207: 1,\n",
              " 208: 0,\n",
              " 209: 0,\n",
              " 210: 0,\n",
              " 211: 0,\n",
              " 212: 0,\n",
              " 213: 0,\n",
              " 214: 0,\n",
              " 215: 0,\n",
              " 216: 0,\n",
              " 217: 0,\n",
              " 218: 0,\n",
              " 219: 0,\n",
              " 220: 1,\n",
              " 221: 0,\n",
              " 222: 0,\n",
              " 223: 0,\n",
              " 224: 0,\n",
              " 225: 0,\n",
              " 226: 0,\n",
              " 227: 0,\n",
              " 228: 3,\n",
              " 229: 1,\n",
              " 230: 0,\n",
              " 231: 0,\n",
              " 232: 0,\n",
              " 233: 0,\n",
              " 234: 0,\n",
              " 235: 0,\n",
              " 236: 0,\n",
              " 237: 0,\n",
              " 238: 0,\n",
              " 239: 0,\n",
              " 240: 0,\n",
              " 241: 0,\n",
              " 242: 0,\n",
              " 243: 0,\n",
              " 244: 0,\n",
              " 245: 1,\n",
              " 246: 0,\n",
              " 247: 0,\n",
              " 248: 0,\n",
              " 249: 1,\n",
              " 250: 0,\n",
              " 251: 0,\n",
              " 252: 0,\n",
              " 253: 0,\n",
              " 254: 0,\n",
              " 255: 0,\n",
              " 256: 0,\n",
              " 257: 0,\n",
              " 258: 0,\n",
              " 259: 0,\n",
              " 260: 0,\n",
              " 261: 0,\n",
              " 262: 0,\n",
              " 263: 0,\n",
              " 264: 0,\n",
              " 265: 0,\n",
              " 266: 0,\n",
              " 267: 0,\n",
              " 268: 0,\n",
              " 269: 0,\n",
              " 270: 0,\n",
              " 271: 0,\n",
              " 272: 0,\n",
              " 273: 0,\n",
              " 274: 0,\n",
              " 275: 0,\n",
              " 276: 0,\n",
              " 277: 0,\n",
              " 278: 0,\n",
              " 279: 0,\n",
              " 280: 0,\n",
              " 281: 0,\n",
              " 282: 0,\n",
              " 283: 0,\n",
              " 284: 0,\n",
              " 285: 1,\n",
              " 286: 0,\n",
              " 287: 0,\n",
              " 288: 0,\n",
              " 289: 0,\n",
              " 290: 0,\n",
              " 291: 0,\n",
              " 292: 0,\n",
              " 293: 0,\n",
              " 294: 0,\n",
              " 295: 0,\n",
              " 296: 0,\n",
              " 297: 0,\n",
              " 298: 0,\n",
              " 299: 1,\n",
              " 300: 0,\n",
              " 301: 0,\n",
              " 302: 0,\n",
              " 303: 0,\n",
              " 304: 0,\n",
              " 305: 0,\n",
              " 306: 0,\n",
              " 307: 0,\n",
              " 308: 0,\n",
              " 309: 0,\n",
              " 310: 0,\n",
              " 311: 0,\n",
              " 312: 0,\n",
              " 313: 0,\n",
              " 314: 0,\n",
              " 315: 0,\n",
              " 316: 0,\n",
              " 317: 0,\n",
              " 318: 0,\n",
              " 319: 0,\n",
              " 320: 0,\n",
              " 321: 0,\n",
              " 322: 0,\n",
              " 323: 0,\n",
              " 324: 0,\n",
              " 325: 0,\n",
              " 326: 0,\n",
              " 327: 0,\n",
              " 328: 0,\n",
              " 329: 0,\n",
              " 330: 0,\n",
              " 331: 0,\n",
              " 332: 0,\n",
              " 333: 0,\n",
              " 334: 0,\n",
              " 335: 0,\n",
              " 336: 0,\n",
              " 337: 0,\n",
              " 338: 0,\n",
              " 339: 0,\n",
              " 340: 1,\n",
              " 341: 0,\n",
              " 342: 0,\n",
              " 343: 0,\n",
              " 344: 0,\n",
              " 345: 0,\n",
              " 346: 0,\n",
              " 347: 0,\n",
              " 348: 0,\n",
              " 349: 2,\n",
              " 350: 0,\n",
              " 351: 0,\n",
              " 352: 0,\n",
              " 353: 0,\n",
              " 354: 0,\n",
              " 355: 0,\n",
              " 356: 0,\n",
              " 357: 0,\n",
              " 358: 0,\n",
              " 359: 0,\n",
              " 360: 0,\n",
              " 361: 0,\n",
              " 362: 0,\n",
              " 363: 0,\n",
              " 364: 0,\n",
              " 365: 0,\n",
              " 366: 0,\n",
              " 367: 0,\n",
              " 368: 0,\n",
              " 369: 0,\n",
              " 370: 0,\n",
              " 371: 1,\n",
              " 372: 0,\n",
              " 373: 0,\n",
              " 374: 0,\n",
              " 375: 0,\n",
              " 376: 0,\n",
              " 377: 0,\n",
              " 378: 0,\n",
              " 379: 0,\n",
              " 380: 0,\n",
              " 381: 0,\n",
              " 382: 0,\n",
              " 383: 0,\n",
              " 384: 0,\n",
              " 385: 0,\n",
              " 386: 0,\n",
              " 387: 0,\n",
              " 388: 0,\n",
              " 389: 0,\n",
              " 390: 0,\n",
              " 391: 0,\n",
              " 392: 0,\n",
              " 393: 0,\n",
              " 394: 1,\n",
              " 395: 0,\n",
              " 396: 0,\n",
              " 397: 0,\n",
              " 398: 1,\n",
              " 399: 0,\n",
              " 400: 0,\n",
              " 401: 0,\n",
              " 402: 0,\n",
              " 403: 0,\n",
              " 404: 0,\n",
              " 405: 0,\n",
              " 406: 0,\n",
              " 407: 0,\n",
              " 408: 0,\n",
              " 409: 0,\n",
              " 410: 0,\n",
              " 411: 0,\n",
              " 412: 0,\n",
              " 413: 0,\n",
              " 414: 0,\n",
              " 415: 0,\n",
              " 416: 0,\n",
              " 417: 0,\n",
              " 418: 0,\n",
              " 419: 0,\n",
              " 420: 0,\n",
              " 421: 0,\n",
              " 422: 0,\n",
              " 423: 0,\n",
              " 424: 0,\n",
              " 425: 0,\n",
              " 426: 0,\n",
              " 427: 0,\n",
              " 428: 0,\n",
              " 429: 0,\n",
              " 430: 0,\n",
              " 431: 0,\n",
              " 432: 0,\n",
              " 433: 0,\n",
              " 434: 0,\n",
              " 435: 0,\n",
              " 436: 0,\n",
              " 437: 0,\n",
              " 438: 0,\n",
              " 439: 0,\n",
              " 440: 0,\n",
              " 441: 0,\n",
              " 442: 0,\n",
              " 443: 0,\n",
              " 444: 0,\n",
              " 445: 0,\n",
              " 446: 0,\n",
              " 447: 0,\n",
              " 448: 0,\n",
              " 449: 0,\n",
              " 450: 0,\n",
              " 451: 0,\n",
              " 452: 0,\n",
              " 453: 0,\n",
              " 454: 0,\n",
              " 455: 1,\n",
              " 456: 0,\n",
              " 457: 0,\n",
              " 458: 0,\n",
              " 459: 0,\n",
              " 460: 0,\n",
              " 461: 0,\n",
              " 462: 1,\n",
              " 463: 0,\n",
              " 464: 0,\n",
              " 465: 0,\n",
              " 466: 0,\n",
              " 467: 0,\n",
              " 468: 0,\n",
              " 469: 0,\n",
              " 470: 0,\n",
              " 471: 0,\n",
              " 472: 0,\n",
              " 473: 0,\n",
              " 474: 0,\n",
              " 475: 0,\n",
              " 476: 0,\n",
              " 477: 0,\n",
              " 478: 0,\n",
              " 479: 0,\n",
              " 480: 0,\n",
              " 481: 0,\n",
              " 482: 0,\n",
              " 483: 0,\n",
              " 484: 0,\n",
              " 485: 0,\n",
              " 486: 0,\n",
              " 487: 0,\n",
              " 488: 0,\n",
              " 489: 0,\n",
              " 490: 0,\n",
              " 491: 1,\n",
              " 492: 0,\n",
              " 493: 0,\n",
              " 494: 0,\n",
              " 495: 0,\n",
              " 496: 0,\n",
              " 497: 0,\n",
              " 498: 0,\n",
              " 499: 0,\n",
              " 500: 0,\n",
              " 501: 0,\n",
              " 502: 0,\n",
              " 503: 0,\n",
              " 504: 0,\n",
              " 505: 0,\n",
              " 506: 0,\n",
              " 507: 0,\n",
              " 508: 0,\n",
              " 509: 0,\n",
              " 510: 0,\n",
              " 511: 0,\n",
              " 512: 0,\n",
              " 513: 0,\n",
              " 514: 0,\n",
              " 515: 0,\n",
              " 516: 0,\n",
              " 517: 0,\n",
              " 518: 0,\n",
              " 519: 0,\n",
              " 520: 0,\n",
              " 521: 0,\n",
              " 522: 0,\n",
              " 523: 0,\n",
              " 524: 0,\n",
              " 525: 0,\n",
              " 526: 0,\n",
              " 527: 0,\n",
              " 528: 0,\n",
              " 529: 0,\n",
              " 530: 0,\n",
              " 531: 0,\n",
              " 532: 0,\n",
              " 533: 0,\n",
              " 534: 0,\n",
              " 535: 0,\n",
              " 536: 0,\n",
              " 537: 0,\n",
              " 538: 0,\n",
              " 539: 0,\n",
              " 540: 0,\n",
              " 541: 0,\n",
              " 542: 0,\n",
              " 543: 0,\n",
              " 544: 0,\n",
              " 545: 0,\n",
              " 546: 0,\n",
              " 547: 0,\n",
              " 548: 0,\n",
              " 549: 0,\n",
              " 550: 0,\n",
              " 551: 0,\n",
              " 552: 0,\n",
              " 553: 0,\n",
              " 554: 0,\n",
              " 555: 0,\n",
              " 556: 0,\n",
              " 557: 0,\n",
              " 558: 0,\n",
              " 559: 0,\n",
              " 560: 0,\n",
              " 561: 0,\n",
              " 562: 0,\n",
              " 563: 0,\n",
              " 564: 0,\n",
              " 565: 0,\n",
              " 566: 0,\n",
              " 567: 0,\n",
              " 568: 0,\n",
              " 569: 0,\n",
              " 570: 0,\n",
              " 571: 0,\n",
              " 572: 0,\n",
              " 573: 0,\n",
              " 574: 0,\n",
              " 575: 0,\n",
              " 576: 0,\n",
              " 577: 0,\n",
              " 578: 0,\n",
              " 579: 0,\n",
              " 580: 0,\n",
              " 581: 0,\n",
              " 582: 0,\n",
              " 583: 0,\n",
              " 584: 0,\n",
              " 585: 0,\n",
              " 586: 0,\n",
              " 587: 0,\n",
              " 588: 0,\n",
              " 589: 0,\n",
              " 590: 0,\n",
              " 591: 0,\n",
              " 592: 0,\n",
              " 593: 0,\n",
              " 594: 0,\n",
              " 595: 0,\n",
              " 596: 0,\n",
              " 597: 0,\n",
              " 598: 0,\n",
              " 599: 0,\n",
              " 600: 0,\n",
              " 601: 0,\n",
              " 602: 0,\n",
              " 603: 0,\n",
              " 604: 0,\n",
              " 605: 1,\n",
              " 606: 0,\n",
              " 607: 0,\n",
              " 608: 0,\n",
              " 609: 0,\n",
              " 610: 0,\n",
              " 611: 0,\n",
              " 612: 0,\n",
              " 613: 0,\n",
              " 614: 0,\n",
              " 615: 0,\n",
              " 616: 0,\n",
              " 617: 0,\n",
              " 618: 0,\n",
              " 619: 0,\n",
              " 620: 0,\n",
              " 621: 0,\n",
              " 622: 0,\n",
              " 623: 0,\n",
              " 624: 0,\n",
              " 625: 1,\n",
              " 626: 0,\n",
              " 627: 0,\n",
              " 628: 0,\n",
              " 629: 0,\n",
              " 630: 0,\n",
              " 631: 0,\n",
              " 632: 0,\n",
              " 633: 0,\n",
              " 634: 0,\n",
              " 635: 0,\n",
              " 636: 0,\n",
              " 637: 0,\n",
              " 638: 0,\n",
              " 639: 0,\n",
              " 640: 0,\n",
              " 641: 0,\n",
              " 642: 0,\n",
              " 643: 0,\n",
              " 644: 0,\n",
              " 645: 0,\n",
              " 646: 0,\n",
              " 647: 1,\n",
              " 648: 0,\n",
              " 649: 0,\n",
              " 650: 0,\n",
              " 651: 0,\n",
              " 652: 0,\n",
              " 653: 0,\n",
              " 654: 0,\n",
              " 655: 0,\n",
              " 656: 1,\n",
              " 657: 0,\n",
              " 658: 0,\n",
              " 659: 0,\n",
              " 660: 0,\n",
              " 661: 0,\n",
              " 662: 0,\n",
              " 663: 0,\n",
              " 664: 0,\n",
              " 665: 0,\n",
              " 666: 0,\n",
              " 667: 0,\n",
              " 668: 0,\n",
              " 669: 0,\n",
              " 670: 0,\n",
              " 671: 0,\n",
              " 672: 0,\n",
              " 673: 0,\n",
              " 674: 0,\n",
              " 675: 0,\n",
              " 676: 0,\n",
              " 677: 0,\n",
              " 678: 0,\n",
              " 679: 0,\n",
              " 680: 0,\n",
              " 681: 0,\n",
              " 682: 0,\n",
              " 683: 0,\n",
              " 684: 0,\n",
              " 685: 0,\n",
              " 686: 0,\n",
              " 687: 0,\n",
              " 688: 0,\n",
              " 689: 0,\n",
              " 690: 0,\n",
              " 691: 0,\n",
              " 692: 0,\n",
              " 693: 0,\n",
              " 694: 0,\n",
              " 695: 0,\n",
              " 696: 0,\n",
              " 697: 0,\n",
              " 698: 0,\n",
              " 699: 0,\n",
              " 700: 0,\n",
              " 701: 0,\n",
              " 702: 0,\n",
              " 703: 0,\n",
              " 704: 0,\n",
              " 705: 0,\n",
              " 706: 0,\n",
              " 707: 0,\n",
              " 708: 0,\n",
              " 709: 0,\n",
              " 710: 0,\n",
              " 711: 0,\n",
              " 712: 0,\n",
              " 713: 0,\n",
              " 714: 0,\n",
              " 715: 1,\n",
              " 716: 0,\n",
              " 717: 0,\n",
              " 718: 0,\n",
              " 719: 0,\n",
              " 720: 0,\n",
              " 721: 0,\n",
              " 722: 0,\n",
              " 723: 0,\n",
              " 724: 0,\n",
              " 725: 0,\n",
              " 726: 0,\n",
              " 727: 0,\n",
              " 728: 0,\n",
              " 729: 0,\n",
              " 730: 0,\n",
              " 731: 0,\n",
              " 732: 0,\n",
              " 733: 0,\n",
              " 734: 0,\n",
              " 735: 0,\n",
              " 736: 0,\n",
              " 737: 0,\n",
              " 738: 0,\n",
              " 739: 0,\n",
              " 740: 0,\n",
              " 741: 0,\n",
              " 742: 0,\n",
              " 743: 0,\n",
              " 744: 0,\n",
              " 745: 0,\n",
              " 746: 0,\n",
              " 747: 0,\n",
              " 748: 0,\n",
              " 749: 0,\n",
              " 750: 0,\n",
              " 751: 0,\n",
              " 752: 0,\n",
              " 753: 0,\n",
              " 754: 0,\n",
              " 755: 0,\n",
              " 756: 0,\n",
              " 757: 0,\n",
              " 758: 0,\n",
              " 759: 0,\n",
              " 760: 0,\n",
              " 761: 0,\n",
              " 762: 0,\n",
              " 763: 0,\n",
              " 764: 0,\n",
              " 765: 0,\n",
              " 766: 0,\n",
              " 767: 0,\n",
              " 768: 0,\n",
              " 769: 0,\n",
              " 770: 0,\n",
              " 771: 0,\n",
              " 772: 0,\n",
              " 773: 0,\n",
              " 774: 0,\n",
              " 775: 1,\n",
              " 776: 0,\n",
              " 777: 0,\n",
              " 778: 0,\n",
              " 779: 0,\n",
              " 780: 0,\n",
              " 781: 0,\n",
              " 782: 0,\n",
              " 783: 0,\n",
              " 784: 0,\n",
              " 785: 0,\n",
              " 786: 0,\n",
              " 787: 0,\n",
              " 788: 0,\n",
              " 789: 0,\n",
              " 790: 0,\n",
              " 791: 0,\n",
              " 792: 0,\n",
              " 793: 0,\n",
              " 794: 0,\n",
              " 795: 0,\n",
              " 796: 0,\n",
              " 797: 0,\n",
              " 798: 0,\n",
              " 799: 0,\n",
              " 800: 0,\n",
              " 801: 0,\n",
              " 802: 0,\n",
              " 803: 0,\n",
              " 804: 0,\n",
              " 805: 0,\n",
              " 806: 0,\n",
              " 807: 0,\n",
              " 808: 0,\n",
              " 809: 0,\n",
              " 810: 0,\n",
              " 811: 0,\n",
              " 812: 0,\n",
              " 813: 0,\n",
              " 814: 0,\n",
              " 815: 0,\n",
              " 816: 0,\n",
              " 817: 0,\n",
              " 818: 0,\n",
              " 819: 0,\n",
              " 820: 0,\n",
              " 821: 0,\n",
              " 822: 0,\n",
              " 823: 0,\n",
              " 824: 0,\n",
              " 825: 0,\n",
              " 826: 0,\n",
              " 827: 0,\n",
              " 828: 0,\n",
              " 829: 0,\n",
              " 830: 0,\n",
              " 831: 0,\n",
              " 832: 0,\n",
              " 833: 0,\n",
              " 834: 0,\n",
              " 835: 0,\n",
              " 836: 0,\n",
              " 837: 0,\n",
              " 838: 0,\n",
              " 839: 0,\n",
              " 840: 0,\n",
              " 841: 0,\n",
              " 842: 0,\n",
              " 843: 0,\n",
              " 844: 0,\n",
              " 845: 0,\n",
              " 846: 0,\n",
              " 847: 0,\n",
              " 848: 0,\n",
              " 849: 0,\n",
              " 850: 0,\n",
              " 851: 0,\n",
              " 852: 0,\n",
              " 853: 0,\n",
              " 854: 0,\n",
              " 855: 0,\n",
              " 856: 0,\n",
              " 857: 0,\n",
              " 858: 0,\n",
              " 859: 0,\n",
              " 860: 0,\n",
              " 861: 0,\n",
              " 862: 0,\n",
              " 863: 0,\n",
              " 864: 0,\n",
              " 865: 0,\n",
              " 866: 0,\n",
              " 867: 0,\n",
              " 868: 0,\n",
              " 869: 0,\n",
              " 870: 0,\n",
              " 871: 0,\n",
              " 872: 0,\n",
              " 873: 0,\n",
              " 874: 0,\n",
              " 875: 0,\n",
              " 876: 0,\n",
              " 877: 0,\n",
              " 878: 0,\n",
              " 879: 0,\n",
              " 880: 0,\n",
              " 881: 0,\n",
              " 882: 0,\n",
              " 883: 0,\n",
              " 884: 0,\n",
              " 885: 0,\n",
              " 886: 0,\n",
              " 887: 0,\n",
              " 888: 0,\n",
              " 889: 0,\n",
              " 890: 0,\n",
              " 891: 0,\n",
              " 892: 0,\n",
              " 893: 0,\n",
              " 894: 0,\n",
              " 895: 0,\n",
              " 896: 0,\n",
              " 897: 0,\n",
              " 898: 0,\n",
              " 899: 0,\n",
              " 900: 0,\n",
              " 901: 0,\n",
              " 902: 0,\n",
              " 903: 0,\n",
              " 904: 0,\n",
              " 905: 0,\n",
              " 906: 0,\n",
              " 907: 0,\n",
              " 908: 0,\n",
              " 909: 0,\n",
              " 910: 0,\n",
              " 911: 0,\n",
              " 912: 0,\n",
              " 913: 0,\n",
              " 914: 0,\n",
              " 915: 0,\n",
              " 916: 0,\n",
              " 917: 0,\n",
              " 918: 0,\n",
              " 919: 0,\n",
              " 920: 0,\n",
              " 921: 0,\n",
              " 922: 0,\n",
              " 923: 0,\n",
              " 924: 0,\n",
              " 925: 0,\n",
              " 926: 0,\n",
              " 927: 0,\n",
              " 928: 0,\n",
              " 929: 0,\n",
              " 930: 0,\n",
              " 931: 0,\n",
              " 932: 0,\n",
              " 933: 0,\n",
              " 934: 0,\n",
              " 935: 0,\n",
              " 936: 0,\n",
              " 937: 0,\n",
              " 938: 0,\n",
              " 939: 0,\n",
              " 940: 0,\n",
              " 941: 0,\n",
              " 942: 0,\n",
              " 943: 0,\n",
              " 944: 0,\n",
              " 945: 0,\n",
              " 946: 0,\n",
              " 947: 0,\n",
              " 948: 0,\n",
              " 949: 0,\n",
              " 950: 0,\n",
              " 951: 0,\n",
              " 952: 1,\n",
              " 953: 0,\n",
              " 954: 1,\n",
              " 955: 0,\n",
              " 956: 0,\n",
              " 957: 0,\n",
              " 958: 0,\n",
              " 959: 0,\n",
              " 960: 0,\n",
              " 961: 0,\n",
              " 962: 0,\n",
              " 963: 0,\n",
              " 964: 0,\n",
              " 965: 0,\n",
              " 966: 0,\n",
              " 967: 0,\n",
              " 968: 0,\n",
              " 969: 0,\n",
              " 970: 0,\n",
              " 971: 0,\n",
              " 972: 0,\n",
              " 973: 0,\n",
              " 974: 0,\n",
              " 975: 0,\n",
              " 976: 0,\n",
              " 977: 0,\n",
              " 978: 0,\n",
              " 979: 0,\n",
              " 980: 0,\n",
              " 981: 0,\n",
              " 982: 0,\n",
              " 983: 0,\n",
              " 984: 0,\n",
              " 985: 0,\n",
              " 986: 0,\n",
              " 987: 0,\n",
              " 988: 0,\n",
              " 989: 0,\n",
              " 990: 0,\n",
              " 991: 0,\n",
              " 992: 0,\n",
              " 993: 0,\n",
              " 994: 0,\n",
              " 995: 0,\n",
              " 996: 0,\n",
              " 997: 0,\n",
              " 998: 0,\n",
              " 999: 0,\n",
              " ...}"
            ]
          },
          "metadata": {},
          "execution_count": 423
        }
      ]
    },
    {
      "cell_type": "code",
      "metadata": {
        "colab": {
          "base_uri": "https://localhost:8080/"
        },
        "id": "T4npH9u36rHO",
        "outputId": "00a513cb-47cd-45f8-ad35-1e7b15578892"
      },
      "source": [
        "vetor_cheio = np.array(list(vocab_review.values()))\n",
        "vetor_cheio"
      ],
      "execution_count": null,
      "outputs": [
        {
          "output_type": "execute_result",
          "data": {
            "text/plain": [
              "array([0, 1, 0, ..., 0, 0, 0])"
            ]
          },
          "metadata": {},
          "execution_count": 424
        }
      ]
    },
    {
      "cell_type": "code",
      "metadata": {
        "colab": {
          "base_uri": "https://localhost:8080/"
        },
        "id": "qnVscXwy7UUM",
        "outputId": "5bf4dd7e-968d-4bce-9332-94ac9de73c6d"
      },
      "source": [
        "vetor_esparso = sp.sparse.csr_matrix(vetor_cheio)\n",
        "vetor_esparso"
      ],
      "execution_count": null,
      "outputs": [
        {
          "output_type": "execute_result",
          "data": {
            "text/plain": [
              "<1x88584 sparse matrix of type '<class 'numpy.longlong'>'\n",
              "\twith 127 stored elements in Compressed Sparse Row format>"
            ]
          },
          "metadata": {},
          "execution_count": 425
        }
      ]
    },
    {
      "cell_type": "markdown",
      "metadata": {
        "id": "yix1bfRv6aRK"
      },
      "source": [
        "Alocação de memória ?"
      ]
    },
    {
      "cell_type": "code",
      "metadata": {
        "colab": {
          "base_uri": "https://localhost:8080/"
        },
        "id": "AomtAuEJ6NtD",
        "outputId": "3b5d1ba8-f6be-4045-9475-c03593be6d12"
      },
      "source": [
        "sys.getsizeof(reviews[0][0][1])"
      ],
      "execution_count": null,
      "outputs": [
        {
          "output_type": "execute_result",
          "data": {
            "text/plain": [
              "1680"
            ]
          },
          "metadata": {},
          "execution_count": 426
        }
      ]
    },
    {
      "cell_type": "code",
      "metadata": {
        "colab": {
          "base_uri": "https://localhost:8080/"
        },
        "id": "t-6NwT_p5pc8",
        "outputId": "bff48456-6185-4bfd-e021-787f4756cda3"
      },
      "source": [
        "sys.getsizeof(vocab_review)"
      ],
      "execution_count": null,
      "outputs": [
        {
          "output_type": "execute_result",
          "data": {
            "text/plain": [
              "5242984"
            ]
          },
          "metadata": {},
          "execution_count": 427
        }
      ]
    },
    {
      "cell_type": "code",
      "metadata": {
        "colab": {
          "base_uri": "https://localhost:8080/"
        },
        "id": "5dTtkjMq68eY",
        "outputId": "66bf7b94-6fbd-4c6a-cb5a-00c19a2eb048"
      },
      "source": [
        "sys.getsizeof(vetor_cheio)"
      ],
      "execution_count": null,
      "outputs": [
        {
          "output_type": "execute_result",
          "data": {
            "text/plain": [
              "708768"
            ]
          },
          "metadata": {},
          "execution_count": 428
        }
      ]
    },
    {
      "cell_type": "code",
      "metadata": {
        "colab": {
          "base_uri": "https://localhost:8080/"
        },
        "id": "eJ0pt3qR7BhB",
        "outputId": "9df60081-888f-4dce-fa53-f2a194f4e14e"
      },
      "source": [
        "sys.getsizeof(vetor_esparso)"
      ],
      "execution_count": null,
      "outputs": [
        {
          "output_type": "execute_result",
          "data": {
            "text/plain": [
              "64"
            ]
          },
          "metadata": {},
          "execution_count": 429
        }
      ]
    },
    {
      "cell_type": "markdown",
      "metadata": {
        "id": "XlNR8osch4LN"
      },
      "source": [
        "# Dot Product"
      ]
    },
    {
      "cell_type": "markdown",
      "metadata": {
        "id": "LD6hHtlSMKrc"
      },
      "source": [
        "### similaridade passageiros"
      ]
    },
    {
      "cell_type": "code",
      "metadata": {
        "colab": {
          "base_uri": "https://localhost:8080/"
        },
        "id": "JqG2H_bGLQcL",
        "outputId": "513e895a-be39-4561-9c93-65a280cb7fae"
      },
      "source": [
        "np.dot(titanic['Cherbourg'], titanic['Queenstown'])"
      ],
      "execution_count": null,
      "outputs": [
        {
          "output_type": "execute_result",
          "data": {
            "text/plain": [
              "0"
            ]
          },
          "metadata": {},
          "execution_count": 430
        }
      ]
    },
    {
      "cell_type": "code",
      "metadata": {
        "id": "fjsItm74Lt_r",
        "colab": {
          "base_uri": "https://localhost:8080/"
        },
        "outputId": "8296ad7c-23b6-4c38-a230-3ca166ccd7fa"
      },
      "source": [
        "np.dot(titanic['Cherbourg'], titanic['Southampton'])"
      ],
      "execution_count": null,
      "outputs": [
        {
          "output_type": "execute_result",
          "data": {
            "text/plain": [
              "0"
            ]
          },
          "metadata": {},
          "execution_count": 431
        }
      ]
    },
    {
      "cell_type": "code",
      "metadata": {
        "id": "4tdCF9qiL2Wu",
        "colab": {
          "base_uri": "https://localhost:8080/",
          "height": 81
        },
        "outputId": "a891c496-4024-48e1-91b8-64f5f0823848"
      },
      "source": [
        "p1 = titanic.sample(1)\n",
        "p1"
      ],
      "execution_count": null,
      "outputs": [
        {
          "output_type": "execute_result",
          "data": {
            "text/html": [
              "<div>\n",
              "<style scoped>\n",
              "    .dataframe tbody tr th:only-of-type {\n",
              "        vertical-align: middle;\n",
              "    }\n",
              "\n",
              "    .dataframe tbody tr th {\n",
              "        vertical-align: top;\n",
              "    }\n",
              "\n",
              "    .dataframe thead th {\n",
              "        text-align: right;\n",
              "    }\n",
              "</style>\n",
              "<table border=\"1\" class=\"dataframe\">\n",
              "  <thead>\n",
              "    <tr style=\"text-align: right;\">\n",
              "      <th></th>\n",
              "      <th>Pclass</th>\n",
              "      <th>Sex</th>\n",
              "      <th>Age</th>\n",
              "      <th>SibSp</th>\n",
              "      <th>Parch</th>\n",
              "      <th>Fare</th>\n",
              "      <th>Cherbourg</th>\n",
              "      <th>Queenstown</th>\n",
              "      <th>Southampton</th>\n",
              "    </tr>\n",
              "  </thead>\n",
              "  <tbody>\n",
              "    <tr>\n",
              "      <th>83</th>\n",
              "      <td>1</td>\n",
              "      <td>0</td>\n",
              "      <td>28.0</td>\n",
              "      <td>0</td>\n",
              "      <td>0</td>\n",
              "      <td>47.1</td>\n",
              "      <td>0</td>\n",
              "      <td>0</td>\n",
              "      <td>1</td>\n",
              "    </tr>\n",
              "  </tbody>\n",
              "</table>\n",
              "</div>"
            ],
            "text/plain": [
              "    Pclass  Sex   Age  SibSp  Parch  Fare  Cherbourg  Queenstown  Southampton\n",
              "83       1    0  28.0      0      0  47.1          0           0            1"
            ]
          },
          "metadata": {},
          "execution_count": 432
        }
      ]
    },
    {
      "cell_type": "code",
      "metadata": {
        "id": "ugku0-M1S9Xn",
        "colab": {
          "base_uri": "https://localhost:8080/",
          "height": 81
        },
        "outputId": "5e594c2f-6a2d-4645-c708-d2e665a75c5c"
      },
      "source": [
        "p2 = titanic.sample(1)\n",
        "p2"
      ],
      "execution_count": null,
      "outputs": [
        {
          "output_type": "execute_result",
          "data": {
            "text/html": [
              "<div>\n",
              "<style scoped>\n",
              "    .dataframe tbody tr th:only-of-type {\n",
              "        vertical-align: middle;\n",
              "    }\n",
              "\n",
              "    .dataframe tbody tr th {\n",
              "        vertical-align: top;\n",
              "    }\n",
              "\n",
              "    .dataframe thead th {\n",
              "        text-align: right;\n",
              "    }\n",
              "</style>\n",
              "<table border=\"1\" class=\"dataframe\">\n",
              "  <thead>\n",
              "    <tr style=\"text-align: right;\">\n",
              "      <th></th>\n",
              "      <th>Pclass</th>\n",
              "      <th>Sex</th>\n",
              "      <th>Age</th>\n",
              "      <th>SibSp</th>\n",
              "      <th>Parch</th>\n",
              "      <th>Fare</th>\n",
              "      <th>Cherbourg</th>\n",
              "      <th>Queenstown</th>\n",
              "      <th>Southampton</th>\n",
              "    </tr>\n",
              "  </thead>\n",
              "  <tbody>\n",
              "    <tr>\n",
              "      <th>525</th>\n",
              "      <td>3</td>\n",
              "      <td>0</td>\n",
              "      <td>40.5</td>\n",
              "      <td>0</td>\n",
              "      <td>0</td>\n",
              "      <td>7.75</td>\n",
              "      <td>0</td>\n",
              "      <td>1</td>\n",
              "      <td>0</td>\n",
              "    </tr>\n",
              "  </tbody>\n",
              "</table>\n",
              "</div>"
            ],
            "text/plain": [
              "     Pclass  Sex   Age  SibSp  Parch  Fare  Cherbourg  Queenstown  Southampton\n",
              "525       3    0  40.5      0      0  7.75          0           1            0"
            ]
          },
          "metadata": {},
          "execution_count": 433
        }
      ]
    },
    {
      "cell_type": "code",
      "metadata": {
        "id": "Y6RPwc9KUl_K",
        "colab": {
          "base_uri": "https://localhost:8080/",
          "height": 81
        },
        "outputId": "03d30553-75aa-4227-a42c-fe691a572bf9"
      },
      "source": [
        "p3 = titanic.sample(1)\n",
        "p3"
      ],
      "execution_count": null,
      "outputs": [
        {
          "output_type": "execute_result",
          "data": {
            "text/html": [
              "<div>\n",
              "<style scoped>\n",
              "    .dataframe tbody tr th:only-of-type {\n",
              "        vertical-align: middle;\n",
              "    }\n",
              "\n",
              "    .dataframe tbody tr th {\n",
              "        vertical-align: top;\n",
              "    }\n",
              "\n",
              "    .dataframe thead th {\n",
              "        text-align: right;\n",
              "    }\n",
              "</style>\n",
              "<table border=\"1\" class=\"dataframe\">\n",
              "  <thead>\n",
              "    <tr style=\"text-align: right;\">\n",
              "      <th></th>\n",
              "      <th>Pclass</th>\n",
              "      <th>Sex</th>\n",
              "      <th>Age</th>\n",
              "      <th>SibSp</th>\n",
              "      <th>Parch</th>\n",
              "      <th>Fare</th>\n",
              "      <th>Cherbourg</th>\n",
              "      <th>Queenstown</th>\n",
              "      <th>Southampton</th>\n",
              "    </tr>\n",
              "  </thead>\n",
              "  <tbody>\n",
              "    <tr>\n",
              "      <th>261</th>\n",
              "      <td>3</td>\n",
              "      <td>0</td>\n",
              "      <td>3.0</td>\n",
              "      <td>4</td>\n",
              "      <td>2</td>\n",
              "      <td>31.3875</td>\n",
              "      <td>0</td>\n",
              "      <td>0</td>\n",
              "      <td>1</td>\n",
              "    </tr>\n",
              "  </tbody>\n",
              "</table>\n",
              "</div>"
            ],
            "text/plain": [
              "     Pclass  Sex  Age  SibSp  ...     Fare  Cherbourg  Queenstown  Southampton\n",
              "261       3    0  3.0      4  ...  31.3875          0           0            1\n",
              "\n",
              "[1 rows x 9 columns]"
            ]
          },
          "metadata": {},
          "execution_count": 434
        }
      ]
    },
    {
      "cell_type": "code",
      "metadata": {
        "id": "BLUzFgALS_JS",
        "colab": {
          "base_uri": "https://localhost:8080/",
          "height": 81
        },
        "outputId": "bec4aa1d-b769-4aa0-ffb0-92198e9ae858"
      },
      "source": [
        "p1.dot(p2.T)"
      ],
      "execution_count": null,
      "outputs": [
        {
          "output_type": "execute_result",
          "data": {
            "text/html": [
              "<div>\n",
              "<style scoped>\n",
              "    .dataframe tbody tr th:only-of-type {\n",
              "        vertical-align: middle;\n",
              "    }\n",
              "\n",
              "    .dataframe tbody tr th {\n",
              "        vertical-align: top;\n",
              "    }\n",
              "\n",
              "    .dataframe thead th {\n",
              "        text-align: right;\n",
              "    }\n",
              "</style>\n",
              "<table border=\"1\" class=\"dataframe\">\n",
              "  <thead>\n",
              "    <tr style=\"text-align: right;\">\n",
              "      <th></th>\n",
              "      <th>525</th>\n",
              "    </tr>\n",
              "  </thead>\n",
              "  <tbody>\n",
              "    <tr>\n",
              "      <th>83</th>\n",
              "      <td>1502.025</td>\n",
              "    </tr>\n",
              "  </tbody>\n",
              "</table>\n",
              "</div>"
            ],
            "text/plain": [
              "         525\n",
              "83  1502.025"
            ]
          },
          "metadata": {},
          "execution_count": 435
        }
      ]
    },
    {
      "cell_type": "code",
      "metadata": {
        "id": "6O2saCqHUeJ6",
        "colab": {
          "base_uri": "https://localhost:8080/"
        },
        "outputId": "7aba3e61-2b8d-49ad-b1ea-b0734285ec67"
      },
      "source": [
        "np.dot(p1,p2.T)"
      ],
      "execution_count": null,
      "outputs": [
        {
          "output_type": "execute_result",
          "data": {
            "text/plain": [
              "array([[1502.025]])"
            ]
          },
          "metadata": {},
          "execution_count": 436
        }
      ]
    },
    {
      "cell_type": "code",
      "metadata": {
        "id": "3RP5hIihUpiA",
        "colab": {
          "base_uri": "https://localhost:8080/"
        },
        "outputId": "ccd73c2d-d9c9-4f6f-fa6d-af9dffcbf972"
      },
      "source": [
        "np.dot(p1,p3.T)"
      ],
      "execution_count": null,
      "outputs": [
        {
          "output_type": "execute_result",
          "data": {
            "text/plain": [
              "array([[1566.35125]])"
            ]
          },
          "metadata": {},
          "execution_count": 437
        }
      ]
    },
    {
      "cell_type": "markdown",
      "metadata": {
        "id": "jbR734uadSw_"
      },
      "source": [
        "### similaridade digitos"
      ]
    },
    {
      "cell_type": "code",
      "metadata": {
        "id": "8quesZRXW9Z2"
      },
      "source": [
        "digits = sklearn.datasets.load_digits()"
      ],
      "execution_count": null,
      "outputs": []
    },
    {
      "cell_type": "code",
      "metadata": {
        "colab": {
          "base_uri": "https://localhost:8080/"
        },
        "id": "WookxIB3XDIF",
        "outputId": "81e3175d-de7a-481c-cdf2-252e28890257"
      },
      "source": [
        "digits.images[8]"
      ],
      "execution_count": null,
      "outputs": [
        {
          "output_type": "execute_result",
          "data": {
            "text/plain": [
              "array([[ 0.,  0.,  9., 14.,  8.,  1.,  0.,  0.],\n",
              "       [ 0.,  0., 12., 14., 14., 12.,  0.,  0.],\n",
              "       [ 0.,  0.,  9., 10.,  0., 15.,  4.,  0.],\n",
              "       [ 0.,  0.,  3., 16., 12., 14.,  2.,  0.],\n",
              "       [ 0.,  0.,  4., 16., 16.,  2.,  0.,  0.],\n",
              "       [ 0.,  3., 16.,  8., 10., 13.,  2.,  0.],\n",
              "       [ 0.,  1., 15.,  1.,  3., 16.,  8.,  0.],\n",
              "       [ 0.,  0., 11., 16., 15., 11.,  1.,  0.]])"
            ]
          },
          "metadata": {},
          "execution_count": 439
        }
      ]
    },
    {
      "cell_type": "code",
      "metadata": {
        "colab": {
          "base_uri": "https://localhost:8080/"
        },
        "id": "oa4L8tX6XKgt",
        "outputId": "31f15f43-2850-4dd8-d116-6a42399a883d"
      },
      "source": [
        "fig, ax = plt.subplots(figsize=(3,3))\n",
        "ax.imshow(digits.images[8],cmap='gray_r')"
      ],
      "execution_count": null,
      "outputs": [
        {
          "output_type": "execute_result",
          "data": {
            "text/plain": [
              "<matplotlib.image.AxesImage at 0x7faf1b9e1510>"
            ]
          },
          "metadata": {},
          "execution_count": 440
        },
        {
          "output_type": "display_data",
          "data": {
            "image/png": "[encoded data removed]",
            "text/plain": [
              "<Figure size 216x216 with 1 Axes>"
            ]
          },
          "metadata": {
            "needs_background": "light"
          }
        }
      ]
    },
    {
      "cell_type": "code",
      "metadata": {
        "colab": {
          "base_uri": "https://localhost:8080/"
        },
        "id": "HjQT1Gq6YeTX",
        "outputId": "f3ac2b81-c92d-495a-e4cb-c52d227a5d9e"
      },
      "source": [
        "digits.images[18]"
      ],
      "execution_count": null,
      "outputs": [
        {
          "output_type": "execute_result",
          "data": {
            "text/plain": [
              "array([[ 0.,  0., 10.,  7., 13.,  9.,  0.,  0.],\n",
              "       [ 0.,  0.,  9., 10., 12., 15.,  2.,  0.],\n",
              "       [ 0.,  0.,  4., 11., 10., 11.,  0.,  0.],\n",
              "       [ 0.,  0.,  1., 16., 10.,  1.,  0.,  0.],\n",
              "       [ 0.,  0., 12., 13.,  4.,  0.,  0.,  0.],\n",
              "       [ 0.,  0., 12.,  1., 12.,  0.,  0.,  0.],\n",
              "       [ 0.,  1., 10.,  2., 14.,  0.,  0.,  0.],\n",
              "       [ 0.,  0., 11., 14.,  5.,  0.,  0.,  0.]])"
            ]
          },
          "metadata": {},
          "execution_count": 441
        }
      ]
    },
    {
      "cell_type": "code",
      "metadata": {
        "colab": {
          "base_uri": "https://localhost:8080/"
        },
        "id": "_q3aUxXKYcW2",
        "outputId": "b276a507-7b42-439a-dc71-6fcba57055c6"
      },
      "source": [
        "fig, ax = plt.subplots(figsize=(3,3))\n",
        "ax.imshow(digits.images[18],cmap='gray_r')"
      ],
      "execution_count": null,
      "outputs": [
        {
          "output_type": "execute_result",
          "data": {
            "text/plain": [
              "<matplotlib.image.AxesImage at 0x7faf55a92b50>"
            ]
          },
          "metadata": {},
          "execution_count": 442
        },
        {
          "output_type": "display_data",
          "data": {
            "image/png": "[encoded data removed]",
            "text/plain": [
              "<Figure size 216x216 with 1 Axes>"
            ]
          },
          "metadata": {
            "needs_background": "light"
          }
        }
      ]
    },
    {
      "cell_type": "code",
      "metadata": {
        "colab": {
          "base_uri": "https://localhost:8080/"
        },
        "id": "6Mbgt-lLZTwV",
        "outputId": "77fa8f99-a6bd-498b-a55b-ca617d196025"
      },
      "source": [
        "np.dot(digits.images[8].flatten(), digits.images[18].flatten())"
      ],
      "execution_count": null,
      "outputs": [
        {
          "output_type": "execute_result",
          "data": {
            "text/plain": [
              "2856.0"
            ]
          },
          "metadata": {},
          "execution_count": 443
        }
      ]
    },
    {
      "cell_type": "code",
      "metadata": {
        "colab": {
          "base_uri": "https://localhost:8080/"
        },
        "id": "2KW_xA-uZZUD",
        "outputId": "17bb8e34-e5d9-488a-f9a2-63f7aa10145e"
      },
      "source": [
        "fig, axs = plt.subplots(2,5, figsize=(20,10))\n",
        "for i in range(10):  \n",
        "  if i < 5 :\n",
        "    axs[0, i].imshow(digits.images[i], cmap='gray_r')\n",
        "  else:\n",
        "    axs[1, i-5].imshow(digits.images[i], cmap='gray_r')"
      ],
      "execution_count": null,
      "outputs": [
        {
          "output_type": "display_data",
          "data": {
            "image/png": "[encoded data removed]",
            "text/plain": [
              "<Figure size 1440x720 with 10 Axes>"
            ]
          },
          "metadata": {
            "needs_background": "light"
          }
        }
      ]
    },
    {
      "cell_type": "code",
      "metadata": {
        "colab": {
          "base_uri": "https://localhost:8080/"
        },
        "id": "fX9bhANWaPXX",
        "outputId": "8055ef67-10b1-456c-91c0-60abb1ddbb7a"
      },
      "source": [
        "for i in range(10):\n",
        "  print(i, np.dot(digits.images[8].flatten(), digits.images[i].flatten()))"
      ],
      "execution_count": null,
      "outputs": [
        {
          "output_type": "stream",
          "name": "stdout",
          "text": [
            "0 2783.0\n",
            "1 3156.0\n",
            "2 3520.0\n",
            "3 2809.0\n",
            "4 2392.0\n",
            "5 3624.0\n",
            "6 3205.0\n",
            "7 2504.0\n",
            "8 4467.0\n",
            "9 3418.0\n"
          ]
        }
      ]
    },
    {
      "cell_type": "markdown",
      "metadata": {
        "id": "ByG32wm8dX84"
      },
      "source": [
        "### similaridade faces"
      ]
    },
    {
      "cell_type": "code",
      "metadata": {
        "id": "JM8tE0G4audr",
        "colab": {
          "base_uri": "https://localhost:8080/"
        },
        "outputId": "b5fa551a-03ec-4045-f004-9eabbc3a30d3"
      },
      "source": [
        "fig, axs = plt.subplots(2,5, figsize=(20,10))\n",
        "for i in range(10):  \n",
        "  if i < 5 :\n",
        "    axs[0, i].imshow(imagens.images[91+i], cmap='gray')\n",
        "  else:\n",
        "    axs[1, i-5].imshow(imagens.images[91+i], cmap='gray')"
      ],
      "execution_count": null,
      "outputs": [
        {
          "output_type": "display_data",
          "data": {
            "image/png": "[encoded data removed]",
            "text/plain": [
              "<Figure size 1440x720 with 10 Axes>"
            ]
          },
          "metadata": {
            "needs_background": "light"
          }
        }
      ]
    },
    {
      "cell_type": "code",
      "metadata": {
        "id": "8zKw_zFfazIL",
        "colab": {
          "base_uri": "https://localhost:8080/"
        },
        "outputId": "162133fb-2159-419f-af04-1b00f299dc6c"
      },
      "source": [
        "similaridade_rostos = np.zeros((10,10))\n",
        "for i in range(10):  \n",
        "  for j in range(10):\n",
        "    similaridade_rostos[i][j] = np.dot(digits.images[i].flatten(), digits.images[j].flatten())\n",
        "similaridade_rostos"
      ],
      "execution_count": null,
      "outputs": [
        {
          "output_type": "execute_result",
          "data": {
            "text/plain": [
              "array([[3070., 1866., 2264., 1880., 1805., 2798., 2301., 1657., 2783.,\n",
              "        2807.],\n",
              "       [1866., 4209., 3432., 2547., 2494., 3221., 3238., 2496., 3156.,\n",
              "        2814.],\n",
              "       [2264., 3432., 4388., 2215., 2374., 2884., 3097., 2667., 3520.,\n",
              "        2795.],\n",
              "       [1880., 2547., 2215., 2953., 1702., 3137., 2305., 1552., 2809.,\n",
              "        2561.],\n",
              "       [1805., 2494., 2374., 1702., 3074., 2298., 2799., 1458., 2392.,\n",
              "        2126.],\n",
              "       [2798., 3221., 2884., 3137., 2298., 4454., 2876., 1967., 3624.,\n",
              "        3848.],\n",
              "       [2301., 3238., 3097., 2305., 2799., 2876., 3890., 1835., 3205.,\n",
              "        2681.],\n",
              "       [1657., 2496., 2667., 1552., 1458., 1967., 1835., 3380., 2504.,\n",
              "        2223.],\n",
              "       [2783., 3156., 3520., 2809., 2392., 3624., 3205., 2504., 4467.,\n",
              "        3418.],\n",
              "       [2807., 2814., 2795., 2561., 2126., 3848., 2681., 2223., 3418.,\n",
              "        4209.]])"
            ]
          },
          "metadata": {},
          "execution_count": 447
        }
      ]
    },
    {
      "cell_type": "code",
      "metadata": {
        "id": "EkVrqIPccOrp",
        "colab": {
          "base_uri": "https://localhost:8080/"
        },
        "outputId": "d83c189f-81bc-46a9-fc37-1674d73baa3d"
      },
      "source": [
        "similaridade_rostos[:,9]"
      ],
      "execution_count": null,
      "outputs": [
        {
          "output_type": "execute_result",
          "data": {
            "text/plain": [
              "array([2807., 2814., 2795., 2561., 2126., 3848., 2681., 2223., 3418.,\n",
              "       4209.])"
            ]
          },
          "metadata": {},
          "execution_count": 448
        }
      ]
    },
    {
      "cell_type": "markdown",
      "metadata": {
        "id": "7uvcnrVaQw73"
      },
      "source": [
        "# KNN"
      ]
    },
    {
      "cell_type": "markdown",
      "metadata": {
        "id": "eZAOZlW7Bzcn"
      },
      "source": [
        "[Nearest Neighbors](https://scikit-learn.org/stable/modules/neighbors.html#classification)\n"
      ]
    },
    {
      "cell_type": "code",
      "metadata": {
        "colab": {
          "base_uri": "https://localhost:8080/",
          "height": 206
        },
        "id": "X4FdsA3cko--",
        "outputId": "6c49e868-3590-479d-804e-e40f215e2853"
      },
      "source": [
        "titanic.head()"
      ],
      "execution_count": null,
      "outputs": [
        {
          "output_type": "execute_result",
          "data": {
            "text/html": [
              "<div>\n",
              "<style scoped>\n",
              "    .dataframe tbody tr th:only-of-type {\n",
              "        vertical-align: middle;\n",
              "    }\n",
              "\n",
              "    .dataframe tbody tr th {\n",
              "        vertical-align: top;\n",
              "    }\n",
              "\n",
              "    .dataframe thead th {\n",
              "        text-align: right;\n",
              "    }\n",
              "</style>\n",
              "<table border=\"1\" class=\"dataframe\">\n",
              "  <thead>\n",
              "    <tr style=\"text-align: right;\">\n",
              "      <th></th>\n",
              "      <th>Pclass</th>\n",
              "      <th>Sex</th>\n",
              "      <th>Age</th>\n",
              "      <th>SibSp</th>\n",
              "      <th>Parch</th>\n",
              "      <th>Fare</th>\n",
              "      <th>Cherbourg</th>\n",
              "      <th>Queenstown</th>\n",
              "      <th>Southampton</th>\n",
              "    </tr>\n",
              "  </thead>\n",
              "  <tbody>\n",
              "    <tr>\n",
              "      <th>0</th>\n",
              "      <td>3</td>\n",
              "      <td>0</td>\n",
              "      <td>22.0</td>\n",
              "      <td>1</td>\n",
              "      <td>0</td>\n",
              "      <td>7.2500</td>\n",
              "      <td>0</td>\n",
              "      <td>0</td>\n",
              "      <td>1</td>\n",
              "    </tr>\n",
              "    <tr>\n",
              "      <th>1</th>\n",
              "      <td>1</td>\n",
              "      <td>1</td>\n",
              "      <td>38.0</td>\n",
              "      <td>1</td>\n",
              "      <td>0</td>\n",
              "      <td>71.2833</td>\n",
              "      <td>1</td>\n",
              "      <td>0</td>\n",
              "      <td>0</td>\n",
              "    </tr>\n",
              "    <tr>\n",
              "      <th>2</th>\n",
              "      <td>3</td>\n",
              "      <td>1</td>\n",
              "      <td>26.0</td>\n",
              "      <td>0</td>\n",
              "      <td>0</td>\n",
              "      <td>7.9250</td>\n",
              "      <td>0</td>\n",
              "      <td>0</td>\n",
              "      <td>1</td>\n",
              "    </tr>\n",
              "    <tr>\n",
              "      <th>3</th>\n",
              "      <td>1</td>\n",
              "      <td>1</td>\n",
              "      <td>35.0</td>\n",
              "      <td>1</td>\n",
              "      <td>0</td>\n",
              "      <td>53.1000</td>\n",
              "      <td>0</td>\n",
              "      <td>0</td>\n",
              "      <td>1</td>\n",
              "    </tr>\n",
              "    <tr>\n",
              "      <th>4</th>\n",
              "      <td>3</td>\n",
              "      <td>0</td>\n",
              "      <td>35.0</td>\n",
              "      <td>0</td>\n",
              "      <td>0</td>\n",
              "      <td>8.0500</td>\n",
              "      <td>0</td>\n",
              "      <td>0</td>\n",
              "      <td>1</td>\n",
              "    </tr>\n",
              "  </tbody>\n",
              "</table>\n",
              "</div>"
            ],
            "text/plain": [
              "   Pclass  Sex   Age  SibSp  Parch     Fare  Cherbourg  Queenstown  Southampton\n",
              "0       3    0  22.0      1      0   7.2500          0           0            1\n",
              "1       1    1  38.0      1      0  71.2833          1           0            0\n",
              "2       3    1  26.0      0      0   7.9250          0           0            1\n",
              "3       1    1  35.0      1      0  53.1000          0           0            1\n",
              "4       3    0  35.0      0      0   8.0500          0           0            1"
            ]
          },
          "metadata": {},
          "execution_count": 449
        }
      ]
    },
    {
      "cell_type": "code",
      "metadata": {
        "colab": {
          "base_uri": "https://localhost:8080/",
          "height": 493
        },
        "id": "Cm7HRDymk8ZA",
        "outputId": "3469823c-20f8-4ce2-92a1-edbeb55bd113"
      },
      "source": [
        "titanic[['Age','Fare']].join(survivors).plot.scatter(x='Age', y='Fare', c='Survived', colormap='coolwarm', figsize=(8,8))"
      ],
      "execution_count": null,
      "outputs": [
        {
          "output_type": "execute_result",
          "data": {
            "text/plain": [
              "<matplotlib.axes._subplots.AxesSubplot at 0x7faf1fcafb50>"
            ]
          },
          "metadata": {},
          "execution_count": 450
        },
        {
          "output_type": "display_data",
          "data": {
            "image/png": "[encoded data removed]",
            "text/plain": [
              "<Figure size 576x576 with 2 Axes>"
            ]
          },
          "metadata": {
            "needs_background": "light"
          }
        }
      ]
    },
    {
      "cell_type": "code",
      "metadata": {
        "id": "V62N-4U7ktH1"
      },
      "source": [
        "passengers = p1[['Sex','Age','Pclass']].append(p2[['Sex','Age','Pclass']])"
      ],
      "execution_count": null,
      "outputs": []
    },
    {
      "cell_type": "code",
      "metadata": {
        "colab": {
          "base_uri": "https://localhost:8080/",
          "height": 112
        },
        "id": "Utg8YDqymK_K",
        "outputId": "20814a2b-83be-4a5a-96ba-504ba96ee6e4"
      },
      "source": [
        "passengers"
      ],
      "execution_count": null,
      "outputs": [
        {
          "output_type": "execute_result",
          "data": {
            "text/html": [
              "<div>\n",
              "<style scoped>\n",
              "    .dataframe tbody tr th:only-of-type {\n",
              "        vertical-align: middle;\n",
              "    }\n",
              "\n",
              "    .dataframe tbody tr th {\n",
              "        vertical-align: top;\n",
              "    }\n",
              "\n",
              "    .dataframe thead th {\n",
              "        text-align: right;\n",
              "    }\n",
              "</style>\n",
              "<table border=\"1\" class=\"dataframe\">\n",
              "  <thead>\n",
              "    <tr style=\"text-align: right;\">\n",
              "      <th></th>\n",
              "      <th>Sex</th>\n",
              "      <th>Age</th>\n",
              "      <th>Pclass</th>\n",
              "    </tr>\n",
              "  </thead>\n",
              "  <tbody>\n",
              "    <tr>\n",
              "      <th>83</th>\n",
              "      <td>0</td>\n",
              "      <td>28.0</td>\n",
              "      <td>1</td>\n",
              "    </tr>\n",
              "    <tr>\n",
              "      <th>525</th>\n",
              "      <td>0</td>\n",
              "      <td>40.5</td>\n",
              "      <td>3</td>\n",
              "    </tr>\n",
              "  </tbody>\n",
              "</table>\n",
              "</div>"
            ],
            "text/plain": [
              "     Sex   Age  Pclass\n",
              "83     0  28.0       1\n",
              "525    0  40.5       3"
            ]
          },
          "metadata": {},
          "execution_count": 452
        }
      ]
    },
    {
      "cell_type": "code",
      "metadata": {
        "id": "DRLgNa0MtDSi"
      },
      "source": [
        "#passengers = titanic.sample(1)[['Sex','Age','Pclass']].append(titanic.sample(1)[['Sex','Age','Pclass']])\n",
        "#passengers"
      ],
      "execution_count": null,
      "outputs": []
    },
    {
      "cell_type": "code",
      "metadata": {
        "colab": {
          "base_uri": "https://localhost:8080/",
          "height": 395
        },
        "id": "42CmLtfkpoEH",
        "outputId": "c0685d3f-5874-44be-8a10-ce86986dd59e"
      },
      "source": [
        "fig, ax = plt.subplots(figsize=(6,6))\n",
        "ax.set_xlim(0,50)\n",
        "ax.set_ylim(0,4)\n",
        "#ax.arrow(0,-2,0,4)# x axis\n",
        "#ax.arrow(10,10,2,2)# y axis\n",
        "ax.arrow(0,0,passengers.iloc[0]['Age'],passengers.iloc[0]['Pclass'], head_width=0.2, head_length=1, fc='black', ec='red')\n",
        "ax.arrow(0,0,passengers.iloc[1]['Age'],passengers.iloc[1]['Pclass'], head_width=0.2, head_length=1, fc='black', ec='blue')\n",
        "#ax.arrow(0,passengers.iloc[0]['Pclass'],0,passengers.iloc[1]['Pclass'])\n",
        "#ax.arrow(0, passengers, 0.5, 0.5, head_width=0.05, head_length=0.05, fc='black', ec='blue')"
      ],
      "execution_count": null,
      "outputs": [
        {
          "output_type": "execute_result",
          "data": {
            "text/plain": [
              "<matplotlib.patches.FancyArrow at 0x7faf224062d0>"
            ]
          },
          "metadata": {},
          "execution_count": 454
        },
        {
          "output_type": "display_data",
          "data": {
            "image/png": "[encoded data removed]",
            "text/plain": [
              "<Figure size 432x432 with 1 Axes>"
            ]
          },
          "metadata": {
            "needs_background": "light"
          }
        }
      ]
    },
    {
      "cell_type": "code",
      "metadata": {
        "colab": {
          "base_uri": "https://localhost:8080/"
        },
        "id": "uHMsMvsumvFF",
        "outputId": "421c19a0-735b-49ca-a652-1077d34b9ab9"
      },
      "source": [
        "survivors.iloc[passengers.index]"
      ],
      "execution_count": null,
      "outputs": [
        {
          "output_type": "execute_result",
          "data": {
            "text/plain": [
              "83     0\n",
              "525    0\n",
              "Name: Survived, dtype: int64"
            ]
          },
          "metadata": {},
          "execution_count": 455
        }
      ]
    },
    {
      "cell_type": "code",
      "metadata": {
        "id": "HkaLYPlfB8uz"
      },
      "source": [
        "from sklearn.model_selection import train_test_split\n",
        "from sklearn.neighbors import KNeighborsClassifier as knn"
      ],
      "execution_count": null,
      "outputs": []
    },
    {
      "cell_type": "code",
      "metadata": {
        "colab": {
          "base_uri": "https://localhost:8080/"
        },
        "id": "Z2vIAosjCyzg",
        "outputId": "40e94974-7641-453d-e9fc-da1d6dc32661"
      },
      "source": [
        "digits.data.shape"
      ],
      "execution_count": null,
      "outputs": [
        {
          "output_type": "execute_result",
          "data": {
            "text/plain": [
              "(1797, 64)"
            ]
          },
          "metadata": {},
          "execution_count": 457
        }
      ]
    },
    {
      "cell_type": "code",
      "metadata": {
        "id": "vfdT6bpjPwvx"
      },
      "source": [
        "X_train, X_test, y_train, y_test =  train_test_split(digits.data, digits.target, random_state=1, test_size=.2)"
      ],
      "execution_count": null,
      "outputs": []
    },
    {
      "cell_type": "code",
      "metadata": {
        "colab": {
          "base_uri": "https://localhost:8080/"
        },
        "id": "06gVPS69CxYI",
        "outputId": "e13f77c8-08d4-4628-b7ac-702d37b01d5e"
      },
      "source": [
        "print(X_train.shape, y_train.shape, X_test.shape, y_test.shape )"
      ],
      "execution_count": null,
      "outputs": [
        {
          "output_type": "stream",
          "name": "stdout",
          "text": [
            "(1437, 64) (1437,) (360, 64) (360,)\n"
          ]
        }
      ]
    },
    {
      "cell_type": "code",
      "metadata": {
        "id": "lb1f_YDoC_75"
      },
      "source": [
        "clf = knn(3)"
      ],
      "execution_count": null,
      "outputs": []
    },
    {
      "cell_type": "code",
      "metadata": {
        "colab": {
          "base_uri": "https://localhost:8080/"
        },
        "id": "Iusx_5AOEQQt",
        "outputId": "9b508702-945f-4ccf-c35a-c178f7962643"
      },
      "source": [
        "clf.fit(X_train, y_train)"
      ],
      "execution_count": null,
      "outputs": [
        {
          "output_type": "execute_result",
          "data": {
            "text/plain": [
              "KNeighborsClassifier(algorithm='auto', leaf_size=30, metric='minkowski',\n",
              "                     metric_params=None, n_jobs=None, n_neighbors=3, p=2,\n",
              "                     weights='uniform')"
            ]
          },
          "metadata": {},
          "execution_count": 461
        }
      ]
    },
    {
      "cell_type": "code",
      "metadata": {
        "colab": {
          "base_uri": "https://localhost:8080/"
        },
        "id": "gtrO-bwHET8y",
        "outputId": "73b6c4f1-3156-4bcf-af88-953b3655bf58"
      },
      "source": [
        "(clf.predict(X_test) == y_test).sum() / len(y_test)"
      ],
      "execution_count": null,
      "outputs": [
        {
          "output_type": "execute_result",
          "data": {
            "text/plain": [
              "0.9944444444444445"
            ]
          },
          "metadata": {},
          "execution_count": 462
        }
      ]
    },
    {
      "cell_type": "markdown",
      "metadata": {
        "id": "g9A9YtmceByG"
      },
      "source": [
        "# MLP"
      ]
    },
    {
      "cell_type": "markdown",
      "metadata": {
        "id": "Hfs7GPw5VOIn"
      },
      "source": [
        "![perceptron](https://www.researchgate.net/profile/Thiago-Eustaquio-Alves-De-Oliveira/publication/201549563/figure/fig3/AS:339927964373002@1458056550909/Figura-23-Exemplo-de-neuronio-artificial-Adaptado-de-Haykin-2004.png)"
      ]
    },
    {
      "cell_type": "code",
      "metadata": {
        "id": "HzCX57z3eDEo"
      },
      "source": [
        "import tensorflow as tf"
      ],
      "execution_count": null,
      "outputs": []
    },
    {
      "cell_type": "code",
      "metadata": {
        "id": "DNTb8v7lMoL6"
      },
      "source": [
        "p = tf.keras.Sequential([\n",
        "    tf.keras.layers.Flatten(input_shape=(8, 8)),\n",
        "    tf.keras.layers.Dense(1, activation=None),\n",
        "    tf.keras.layers.Dense(10, activation='sigmoid')\n",
        "    #tf.keras.layers.maximum(),\n",
        "])"
      ],
      "execution_count": null,
      "outputs": []
    },
    {
      "cell_type": "code",
      "metadata": {
        "colab": {
          "base_uri": "https://localhost:8080/"
        },
        "id": "rc_CmU4gQqQm",
        "outputId": "3cd71785-f410-47d4-c46e-bc29a56bf541"
      },
      "source": [
        "p.summary()"
      ],
      "execution_count": null,
      "outputs": [
        {
          "output_type": "stream",
          "name": "stdout",
          "text": [
            "Model: \"sequential_6\"\n",
            "_________________________________________________________________\n",
            "Layer (type)                 Output Shape              Param #   \n",
            "=================================================================\n",
            "flatten_6 (Flatten)          (None, 64)                0         \n",
            "_________________________________________________________________\n",
            "dense_12 (Dense)             (None, 1)                 65        \n",
            "_________________________________________________________________\n",
            "dense_13 (Dense)             (None, 10)                20        \n",
            "=================================================================\n",
            "Total params: 85\n",
            "Trainable params: 85\n",
            "Non-trainable params: 0\n",
            "_________________________________________________________________\n"
          ]
        }
      ]
    },
    {
      "cell_type": "code",
      "metadata": {
        "id": "x6pBZoI_Mx8D"
      },
      "source": [
        "p.compile(optimizer='sgd',\n",
        "              loss=tf.keras.losses.SparseCategoricalCrossentropy(from_logits=True),\n",
        "              metrics=['accuracy'])"
      ],
      "execution_count": null,
      "outputs": []
    },
    {
      "cell_type": "code",
      "metadata": {
        "colab": {
          "base_uri": "https://localhost:8080/"
        },
        "id": "USomI2q6M8-5",
        "outputId": "bc928a77-300e-41c5-89f5-1679fbb134b7"
      },
      "source": [
        "p.fit(X_train, y_train, epochs=10)"
      ],
      "execution_count": null,
      "outputs": [
        {
          "output_type": "stream",
          "name": "stdout",
          "text": [
            "Epoch 1/10\n",
            "WARNING:tensorflow:Model was constructed with shape (None, 8, 8) for input KerasTensor(type_spec=TensorSpec(shape=(None, 8, 8), dtype=tf.float32, name='flatten_6_input'), name='flatten_6_input', description=\"created by layer 'flatten_6_input'\"), but it was called on an input with incompatible shape (None, 64).\n",
            "WARNING:tensorflow:Model was constructed with shape (None, 8, 8) for input KerasTensor(type_spec=TensorSpec(shape=(None, 8, 8), dtype=tf.float32, name='flatten_6_input'), name='flatten_6_input', description=\"created by layer 'flatten_6_input'\"), but it was called on an input with incompatible shape (None, 64).\n"
          ]
        },
        {
          "output_type": "stream",
          "name": "stderr",
          "text": [
            "/usr/local/lib/python3.7/dist-packages/keras/backend.py:4907: UserWarning: \"`sparse_categorical_crossentropy` received `from_logits=True`, but the `output` argument was produced by a sigmoid or softmax activation and thus does not represent logits. Was this intended?\"\n",
            "  '\"`sparse_categorical_crossentropy` received `from_logits=True`, but '\n"
          ]
        },
        {
          "output_type": "stream",
          "name": "stdout",
          "text": [
            "45/45 [==============================] - 0s 1ms/step - loss: 2.3340 - accuracy: 0.1601\n",
            "Epoch 2/10\n",
            "45/45 [==============================] - 0s 1ms/step - loss: 2.0279 - accuracy: 0.1726\n",
            "Epoch 3/10\n",
            "45/45 [==============================] - 0s 1ms/step - loss: 1.9052 - accuracy: 0.1816\n",
            "Epoch 4/10\n",
            "45/45 [==============================] - 0s 1ms/step - loss: 1.8188 - accuracy: 0.1781\n",
            "Epoch 5/10\n",
            "45/45 [==============================] - 0s 1ms/step - loss: 1.7755 - accuracy: 0.1837\n",
            "Epoch 6/10\n",
            "45/45 [==============================] - 0s 1ms/step - loss: 1.7515 - accuracy: 0.1983\n",
            "Epoch 7/10\n",
            "45/45 [==============================] - 0s 1ms/step - loss: 1.7343 - accuracy: 0.2081\n",
            "Epoch 8/10\n",
            "45/45 [==============================] - 0s 2ms/step - loss: 1.7202 - accuracy: 0.2136\n",
            "Epoch 9/10\n",
            "45/45 [==============================] - 0s 2ms/step - loss: 1.7121 - accuracy: 0.2178\n",
            "Epoch 10/10\n",
            "45/45 [==============================] - 0s 1ms/step - loss: 1.7013 - accuracy: 0.2206\n"
          ]
        },
        {
          "output_type": "execute_result",
          "data": {
            "text/plain": [
              "<keras.callbacks.History at 0x7faf1bb1bb90>"
            ]
          },
          "metadata": {},
          "execution_count": 467
        }
      ]
    },
    {
      "cell_type": "code",
      "metadata": {
        "colab": {
          "base_uri": "https://localhost:8080/"
        },
        "id": "9_Sm11ndNfSg",
        "outputId": "db2f184c-b4a1-4f9b-df95-4bb8c5f8c6ab"
      },
      "source": [
        "p.predict(X_test)[0]\n",
        "#p.predict(X_test).argmax(axis=1)"
      ],
      "execution_count": null,
      "outputs": [
        {
          "output_type": "stream",
          "name": "stdout",
          "text": [
            "WARNING:tensorflow:Model was constructed with shape (None, 8, 8) for input KerasTensor(type_spec=TensorSpec(shape=(None, 8, 8), dtype=tf.float32, name='flatten_6_input'), name='flatten_6_input', description=\"created by layer 'flatten_6_input'\"), but it was called on an input with incompatible shape (None, 64).\n"
          ]
        },
        {
          "output_type": "execute_result",
          "data": {
            "text/plain": [
              "array([0.07523254, 0.77427053, 0.8366634 , 0.8091277 , 0.04393509,\n",
              "       0.08341694, 0.10587597, 0.15438831, 0.78711724, 0.49607983],\n",
              "      dtype=float32)"
            ]
          },
          "metadata": {},
          "execution_count": 468
        }
      ]
    },
    {
      "cell_type": "code",
      "metadata": {
        "colab": {
          "base_uri": "https://localhost:8080/"
        },
        "id": "8A6F7slPBSz9",
        "outputId": "e364a11d-9fb8-4599-899f-017f7b4624d2"
      },
      "source": [
        "(p.predict(X_test).argmax(axis=1) == y_test).sum() / len(y_test)"
      ],
      "execution_count": null,
      "outputs": [
        {
          "output_type": "execute_result",
          "data": {
            "text/plain": [
              "0.23055555555555557"
            ]
          },
          "metadata": {},
          "execution_count": 469
        }
      ]
    },
    {
      "cell_type": "code",
      "metadata": {
        "colab": {
          "base_uri": "https://localhost:8080/"
        },
        "id": "8nxwm5sXNGbf",
        "outputId": "1ba1e4b2-832f-4400-de88-cdd618eceeb0"
      },
      "source": [
        "test_loss, test_acc = p.evaluate(X_test,  y_test, verbose=2)\n",
        "\n",
        "print('\\nTest accuracy:', test_acc)"
      ],
      "execution_count": null,
      "outputs": [
        {
          "output_type": "stream",
          "name": "stdout",
          "text": [
            "WARNING:tensorflow:Model was constructed with shape (None, 8, 8) for input KerasTensor(type_spec=TensorSpec(shape=(None, 8, 8), dtype=tf.float32, name='flatten_6_input'), name='flatten_6_input', description=\"created by layer 'flatten_6_input'\"), but it was called on an input with incompatible shape (None, 64).\n",
            "12/12 - 0s - loss: 1.6846 - accuracy: 0.2306\n",
            "\n",
            "Test accuracy: 0.23055554926395416\n"
          ]
        },
        {
          "output_type": "stream",
          "name": "stderr",
          "text": [
            "/usr/local/lib/python3.7/dist-packages/keras/backend.py:4907: UserWarning: \"`sparse_categorical_crossentropy` received `from_logits=True`, but the `output` argument was produced by a sigmoid or softmax activation and thus does not represent logits. Was this intended?\"\n",
            "  '\"`sparse_categorical_crossentropy` received `from_logits=True`, but '\n"
          ]
        }
      ]
    },
    {
      "cell_type": "markdown",
      "metadata": {
        "id": "XDw1nACKCS5F"
      },
      "source": [
        "https://scikit-learn.org/stable/modules/neural_networks_supervised.html"
      ]
    },
    {
      "cell_type": "code",
      "metadata": {
        "id": "r9kyxPZzT6n7"
      },
      "source": [
        "mlp = tf.keras.Sequential([\n",
        "    tf.keras.layers.Flatten(input_shape=(8, 8)),\n",
        "    tf.keras.layers.Dense(100, activation='relu'),\n",
        "    tf.keras.layers.Dense(10, activation='sigmoid'),\n",
        "    #tf.keras.layers.maximum(),\n",
        "])"
      ],
      "execution_count": null,
      "outputs": []
    },
    {
      "cell_type": "code",
      "metadata": {
        "id": "6Jeot-RLUamA",
        "colab": {
          "base_uri": "https://localhost:8080/"
        },
        "outputId": "a05f9cca-46cd-4a54-e1d2-2c44b173c441"
      },
      "source": [
        "mlp.summary()"
      ],
      "execution_count": null,
      "outputs": [
        {
          "output_type": "stream",
          "name": "stdout",
          "text": [
            "Model: \"sequential_7\"\n",
            "_________________________________________________________________\n",
            "Layer (type)                 Output Shape              Param #   \n",
            "=================================================================\n",
            "flatten_7 (Flatten)          (None, 64)                0         \n",
            "_________________________________________________________________\n",
            "dense_14 (Dense)             (None, 100)               6500      \n",
            "_________________________________________________________________\n",
            "dense_15 (Dense)             (None, 10)                1010      \n",
            "=================================================================\n",
            "Total params: 7,510\n",
            "Trainable params: 7,510\n",
            "Non-trainable params: 0\n",
            "_________________________________________________________________\n"
          ]
        }
      ]
    },
    {
      "cell_type": "code",
      "metadata": {
        "id": "iAYikZ2jUCf3"
      },
      "source": [
        "mlp.compile(optimizer='sgd',\n",
        "              loss=tf.keras.losses.SparseCategoricalCrossentropy(from_logits=True),\n",
        "              metrics=['accuracy'])"
      ],
      "execution_count": null,
      "outputs": []
    },
    {
      "cell_type": "code",
      "metadata": {
        "id": "f0Qb78QpUHF1",
        "colab": {
          "base_uri": "https://localhost:8080/"
        },
        "outputId": "7998b625-6a0d-41b5-cf95-c54ada51966d"
      },
      "source": [
        "mlp.fit(X_train, y_train, epochs=10)"
      ],
      "execution_count": null,
      "outputs": [
        {
          "output_type": "stream",
          "name": "stdout",
          "text": [
            "Epoch 1/10\n",
            "WARNING:tensorflow:Model was constructed with shape (None, 8, 8) for input KerasTensor(type_spec=TensorSpec(shape=(None, 8, 8), dtype=tf.float32, name='flatten_7_input'), name='flatten_7_input', description=\"created by layer 'flatten_7_input'\"), but it was called on an input with incompatible shape (None, 64).\n",
            "WARNING:tensorflow:Model was constructed with shape (None, 8, 8) for input KerasTensor(type_spec=TensorSpec(shape=(None, 8, 8), dtype=tf.float32, name='flatten_7_input'), name='flatten_7_input', description=\"created by layer 'flatten_7_input'\"), but it was called on an input with incompatible shape (None, 64).\n"
          ]
        },
        {
          "output_type": "stream",
          "name": "stderr",
          "text": [
            "/usr/local/lib/python3.7/dist-packages/keras/backend.py:4907: UserWarning: \"`sparse_categorical_crossentropy` received `from_logits=True`, but the `output` argument was produced by a sigmoid or softmax activation and thus does not represent logits. Was this intended?\"\n",
            "  '\"`sparse_categorical_crossentropy` received `from_logits=True`, but '\n"
          ]
        },
        {
          "output_type": "stream",
          "name": "stdout",
          "text": [
            "45/45 [==============================] - 0s 1ms/step - loss: 1.8020 - accuracy: 0.6576\n",
            "Epoch 2/10\n",
            "45/45 [==============================] - 0s 1ms/step - loss: 0.3393 - accuracy: 0.8963\n",
            "Epoch 3/10\n",
            "45/45 [==============================] - 0s 1ms/step - loss: 0.2354 - accuracy: 0.9269\n",
            "Epoch 4/10\n",
            "45/45 [==============================] - 0s 1ms/step - loss: 0.1827 - accuracy: 0.9422\n",
            "Epoch 5/10\n",
            "45/45 [==============================] - 0s 2ms/step - loss: 0.1523 - accuracy: 0.9513\n",
            "Epoch 6/10\n",
            "45/45 [==============================] - 0s 1ms/step - loss: 0.1241 - accuracy: 0.9624\n",
            "Epoch 7/10\n",
            "45/45 [==============================] - 0s 1ms/step - loss: 0.1023 - accuracy: 0.9722\n",
            "Epoch 8/10\n",
            "45/45 [==============================] - 0s 1ms/step - loss: 0.0886 - accuracy: 0.9777\n",
            "Epoch 9/10\n",
            "45/45 [==============================] - 0s 2ms/step - loss: 0.0781 - accuracy: 0.9798\n",
            "Epoch 10/10\n",
            "45/45 [==============================] - 0s 1ms/step - loss: 0.0707 - accuracy: 0.9819\n"
          ]
        },
        {
          "output_type": "execute_result",
          "data": {
            "text/plain": [
              "<keras.callbacks.History at 0x7faf1c367350>"
            ]
          },
          "metadata": {},
          "execution_count": 474
        }
      ]
    },
    {
      "cell_type": "code",
      "metadata": {
        "id": "_9NweEulUI1Z",
        "colab": {
          "base_uri": "https://localhost:8080/"
        },
        "outputId": "eb066fbf-3c15-4da8-878e-1d716b000688"
      },
      "source": [
        "test_loss, test_acc = mlp.evaluate(X_test,  y_test, verbose=2)\n",
        "\n",
        "print('\\nTest accuracy:', test_acc)"
      ],
      "execution_count": null,
      "outputs": [
        {
          "output_type": "stream",
          "name": "stdout",
          "text": [
            "WARNING:tensorflow:Model was constructed with shape (None, 8, 8) for input KerasTensor(type_spec=TensorSpec(shape=(None, 8, 8), dtype=tf.float32, name='flatten_7_input'), name='flatten_7_input', description=\"created by layer 'flatten_7_input'\"), but it was called on an input with incompatible shape (None, 64).\n",
            "12/12 - 0s - loss: 0.1215 - accuracy: 0.9611\n",
            "\n",
            "Test accuracy: 0.9611111283302307\n"
          ]
        },
        {
          "output_type": "stream",
          "name": "stderr",
          "text": [
            "/usr/local/lib/python3.7/dist-packages/keras/backend.py:4907: UserWarning: \"`sparse_categorical_crossentropy` received `from_logits=True`, but the `output` argument was produced by a sigmoid or softmax activation and thus does not represent logits. Was this intended?\"\n",
            "  '\"`sparse_categorical_crossentropy` received `from_logits=True`, but '\n"
          ]
        }
      ]
    }
  ]
}